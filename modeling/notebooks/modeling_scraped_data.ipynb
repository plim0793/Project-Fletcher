{
 "cells": [
  {
   "cell_type": "markdown",
   "metadata": {},
   "source": [
    "# Modeling Yelp Reviews of Cafes Near San Francisco\n",
    "\n",
    "Paul Lim"
   ]
  },
  {
   "cell_type": "markdown",
   "metadata": {},
   "source": [
    "## Libraries"
   ]
  },
  {
   "cell_type": "code",
   "execution_count": 2,
   "metadata": {},
   "outputs": [],
   "source": [
    "# Main imports\n",
    "import pandas as pd\n",
    "import numpy as np\n",
    "import transformers\n",
    "\n",
    "# sklearn\n",
    "from sklearn.externals import joblib\n",
    "from sklearn.feature_extraction.text import TfidfVectorizer\n",
    "from sklearn.pipeline import Pipeline, FeatureUnion\n",
    "from sklearn.cluster import DBSCAN, AgglomerativeClustering, Birch\n",
    "from sklearn.metrics import silhouette_score\n",
    "\n",
    "# NLP \n",
    "from textblob import TextBlob\n",
    "from gensim import models\n",
    "\n",
    "# Misc.\n",
    "import logging\n",
    "\n",
    "logging.basicConfig(level=logging.INFO)\n",
    "logger = logging.getLogger(__name__)\n",
    "\n",
    "handler = logging.FileHandler('logging_records.log')\n",
    "handler.setLevel(logging.INFO)\n",
    "\n",
    "formatter = logging.Formatter('%(asctime)s - %(name)s - %(levelname)s - %(message)s')\n",
    "handler.setFormatter(formatter)\n",
    "\n",
    "logger.addHandler(handler)"
   ]
  },
  {
   "cell_type": "markdown",
   "metadata": {},
   "source": [
    "## Running List of Functions/Classes"
   ]
  },
  {
   "cell_type": "markdown",
   "metadata": {},
   "source": [
    "### Classes"
   ]
  },
  {
   "cell_type": "markdown",
   "metadata": {},
   "source": [
    "### Functions"
   ]
  },
  {
   "cell_type": "code",
   "execution_count": 3,
   "metadata": {
    "collapsed": true
   },
   "outputs": [],
   "source": [
    "def clean_df():\n",
    "    '''\n",
    "    DESCRIBE:\n",
    "        - Preprocesses the data.\n",
    "    INPUT:\n",
    "        - df is the dataframe that needs to be cleaned.\n",
    "    OUTPUT:\n",
    "        - The dataframe that is outputted has the columns reordered and data types changed.\n",
    "    '''\n",
    "    if os.path.isfile(PATH_TO_DATA):\n",
    "        df = joblib.load(PATH_TO_DATA)\n",
    "    else:\n",
    "        logger.warning(\"Invalid path to data\")\n",
    "        return False\n",
    "    \n",
    "    df = df[['name', 'rating' ,'reviews']]\n",
    "    df['rating'] = df['rating'].apply(lambda x: int(x))\n",
    "    return df"
   ]
  },
  {
   "cell_type": "code",
   "execution_count": 4,
   "metadata": {
    "collapsed": true
   },
   "outputs": [],
   "source": [
    "def fit_model(pipe, model, df_orig):\n",
    "    '''\n",
    "    DESCRIBE:\n",
    "        - Fit the model through the pipeline and get scoring metrics for the model.\n",
    "    INPUT:\n",
    "        - pipe is the pipeline to run the data through.\n",
    "        - model is the model object that will be used to fit the data.\n",
    "        - df_orig is the data.\n",
    "    OUTPUT:\n",
    "        - df_transformed is the dataframe that is outputted from the pipeline.\n",
    "        - pred is the predictions for the data for this particular model.\n",
    "    '''\n",
    "    df_transformed = pipe.fit_transform(df_orig)\n",
    "    pred = model.fit_predict(df_transformed)\n",
    "    print(\"Number of Clusters: \", len(np.unique(pred)))\n",
    "    if len(np.unique(model.labels_)) > 1:\n",
    "        logger.info(\"Silhouette Coefficient: %0.3f\" % silhouette_score(df_transformed, model.labels_))\n",
    "    return df_transformed, pred"
   ]
  },
  {
   "cell_type": "code",
   "execution_count": 5,
   "metadata": {
    "collapsed": true
   },
   "outputs": [],
   "source": [
    "def model_metrics(model_dict, pipe, df):\n",
    "    '''\n",
    "    DESCRIBE:\n",
    "        - Fits a dictionary of models through the pipeline and get scoring metrics for the models.\n",
    "    INPUT:\n",
    "        - pipe is the pipeline to run the data through.\n",
    "        - model_dict is a dictionary of the model objects that will be used to fit the data.\n",
    "        - df is the data.\n",
    "    OUTPUT:\n",
    "        - model_dfs contains the transformed dataframe and scoring metric for each model.\n",
    "    '''\n",
    "    model_dfs = {}\n",
    "    for name, model in model_dict.items():\n",
    "        print(name)\n",
    "        temp_df, temp_score = fit_model(pipe, model, df)\n",
    "        model_dfs[name] = [temp_df, temp_score]\n",
    "    return model_dfs"
   ]
  },
  {
   "cell_type": "code",
   "execution_count": 6,
   "metadata": {
    "collapsed": true
   },
   "outputs": [],
   "source": [
    "def add_feature_space(df, transformed_df, path):\n",
    "    '''\n",
    "    DESCRIBE:\n",
    "        - Adds the feature space that was produced by the W2V model to the original dataframe.\n",
    "    INPUT:\n",
    "        - df is the data.\n",
    "        - transformed_df is the dataframe containing the transformed data.\n",
    "        - path where the dataframe should be saved.\n",
    "    OUTPUT:\n",
    "        - df_out is the dataframe with the new features appended.\n",
    "    '''\n",
    "    df_out = pd.DataFrame(transformed_df, columns=['rating'] + [i for i in range(1,301)])\n",
    "    df_out['name'] = df_out['name'].tolist()\n",
    "    df_out['reviews'] = df_out['reviews'].tolist()\n",
    "    \n",
    "    if not os.path.isdir(path):\n",
    "        os.mkdir(path)\n",
    "\n",
    "    joblib.dump(df_out, os.path.join(path, str(df_out)))\n",
    "    \n",
    "    return df_out"
   ]
  },
  {
   "cell_type": "markdown",
   "metadata": {},
   "source": [
    "## Data Processing"
   ]
  },
  {
   "cell_type": "code",
   "execution_count": 8,
   "metadata": {},
   "outputs": [
    {
     "name": "stderr",
     "output_type": "stream",
     "text": [
      "INFO:gensim.models.keyedvectors:loading projection weights from ~/Documents/GoogleNews-vectors-negative300.bin.gz\n",
      "INFO:gensim.models.keyedvectors:loaded (3000000, 300) matrix from ~/Documents/GoogleNews-vectors-negative300.bin.gz\n"
     ]
    }
   ],
   "source": [
    "PATH_TO_DATA = '../data/df_tot'\n",
    "w2v = models.KeyedVectors.load_word2vec_format(\"~/Documents/GoogleNews-vectors-negative300.bin.gz\",binary=True)"
   ]
  },
  {
   "cell_type": "code",
   "execution_count": null,
   "metadata": {
    "collapsed": true
   },
   "outputs": [],
   "source": [
    "df = clean_df()\n",
    "\n",
    "pipe = Pipeline([\n",
    "    ('text_feat', Pipeline([\n",
    "        ('split_text', transformers.SeparateFeaturesTransformer(text_cols=['reviews'])),\n",
    "        ('clean', transformers.CleanTextTransformer('reviews')),\n",
    "        ('sentiment', transformers.SentimentTransformer(text_col='clean_reviews')),\n",
    "        ('vectorize', transformers.Word2VecTransformer(text_col='clean_reviews', w2v=w2v))\n",
    "    ]))\n",
    "])\n",
    "\n",
    "model_dict = {\n",
    "    \"agg\": AgglomerativeClustering(n_clusters=5,\n",
    "                                   affinity=\"cosine\",\n",
    "                                   linkage=\"complete\"),\n",
    "    \"birch\": Birch(threshold=0.5,\n",
    "                   n_clusters=5,\n",
    "                   branching_factor=50),\n",
    "    \"db\": DBSCAN(eps=0.5,\n",
    "                 min_samples=10,\n",
    "                 metric=\"euclidean\")\n",
    "}\n",
    "\n",
    "model_metrics_dict = model_metrics(model_dict, pipe, df)\n",
    "df_out = add_feature_space(df, model_metrics_dict_W2V['birch'][0], '../data/')"
   ]
  }
 ],
 "metadata": {
  "anaconda-cloud": {},
  "kernelspec": {
   "display_name": "Python 3",
   "language": "python",
   "name": "python3"
  },
  "language_info": {
   "codemirror_mode": {
    "name": "ipython",
    "version": 3
   },
   "file_extension": ".py",
   "mimetype": "text/x-python",
   "name": "python",
   "nbconvert_exporter": "python",
   "pygments_lexer": "ipython3",
   "version": "3.5.2"
  }
 },
 "nbformat": 4,
 "nbformat_minor": 1
}
