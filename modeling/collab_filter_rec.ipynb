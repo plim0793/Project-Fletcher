{
 "cells": [
  {
   "cell_type": "markdown",
   "metadata": {},
   "source": [
    "# Collaborative Filter Recommendation System\n",
    "\n",
    "Paul Lim"
   ]
  },
  {
   "cell_type": "markdown",
   "metadata": {},
   "source": [
    "## Libraries"
   ]
  },
  {
   "cell_type": "code",
   "execution_count": 1,
   "metadata": {
    "collapsed": false
   },
   "outputs": [],
   "source": [
    "# Main imports\n",
    "import pandas as pd\n",
    "import numpy as np\n",
    "import matplotlib.pyplot as plt\n",
    "import seaborn as sns\n",
    "import matplotlib\n",
    "\n",
    "# sklearn\n",
    "from sklearn.pipeline import make_pipeline\n",
    "from sklearn import pipeline, feature_selection, decomposition\n",
    "from sklearn.base import BaseEstimator, TransformerMixin\n",
    "from sklearn.externals import joblib\n",
    "from sklearn.feature_extraction.text import TfidfVectorizer\n",
    "from sklearn.pipeline import Pipeline, FeatureUnion\n",
    "from sklearn.cluster import DBSCAN, AgglomerativeClustering, Birch\n",
    "from sklearn.decomposition import PCA, NMF\n",
    "from sklearn.metrics import silhouette_score\n",
    "from sklearn.metrics.pairwise import cosine_similarity\n",
    "\n",
    "# Misc.\n",
    "import re\n",
    "import datetime\n",
    "import time\n",
    "import logging\n",
    "import math\n",
    "import json\n",
    "\n",
    "% matplotlib inline\n",
    "\n",
    "sns.set_style(\"white\")\n",
    "sns.set_style('ticks')\n",
    "sns.set_style({'xtick.direction': u'in', 'ytick.direction': u'in'})\n",
    "sns.set_style({'legend.frameon': True})\n",
    "\n",
    "logging.basicConfig(format='%(asctime)s : %(levelname)s : %(message)s', level=logging.INFO)"
   ]
  },
  {
   "cell_type": "markdown",
   "metadata": {},
   "source": [
    "## Functions"
   ]
  },
  {
   "cell_type": "code",
   "execution_count": 2,
   "metadata": {
    "collapsed": false
   },
   "outputs": [],
   "source": [
    "def extract_reviews_json(file, nth=1, limit=100):\n",
    "    \n",
    "    user_list = []\n",
    "    biz_list = []\n",
    "    rating_list = []\n",
    "    useful_list = []\n",
    "    funny_list = []\n",
    "    cool_list = []\n",
    "    \n",
    "    df = pd.DataFrame()\n",
    "\n",
    "    with open(file) as f:\n",
    "        count = 0\n",
    "        for i, line in enumerate(f):\n",
    "            if count % nth == 0:\n",
    "                review_entry = json.loads(line)\n",
    "                user_list.append(review_entry['user_id'])\n",
    "                biz_list.append(review_entry['business_id'])\n",
    "                rating_list.append(review_entry['stars'])\n",
    "                useful_list.append(review_entry['useful'])\n",
    "                funny_list.append(review_entry['funny'])\n",
    "                cool_list.append(review_entry['cool'])\n",
    "                \n",
    "            if count > limit:\n",
    "                break\n",
    "            count += 1\n",
    "    df['user_id'] = user_list\n",
    "    df['business_id'] = biz_list\n",
    "    df['stars'] = rating_list\n",
    "    df['useful'] = useful_list\n",
    "    df['funny'] = funny_list\n",
    "    df['cool'] = cool_list\n",
    "    \n",
    "    return df\n",
    "\n",
    "def extract_business_names(file, nth=1, limit=100):\n",
    "    \n",
    "    city_list = []\n",
    "    state_list = []\n",
    "    biz_encrypt_list = []\n",
    "    biz_names_list = []\n",
    "    \n",
    "    df = pd.DataFrame()\n",
    "    \n",
    "    with open(file) as f:\n",
    "        count = 0\n",
    "        for i, line in enumerate(f):\n",
    "            if count % nth == 0:\n",
    "                business_entry = json.loads(line)\n",
    "                \n",
    "                city_list.append(business_entry['city'])\n",
    "                state_list.append(business_entry['state'])\n",
    "                biz_encrypt_list.append(business_entry['business_id'])\n",
    "                biz_names_list.append(business_entry['name'])\n",
    "\n",
    "            if count > limit:\n",
    "                break\n",
    "            count += 1\n",
    "    df['city'] = city_list\n",
    "    df['state'] = state_list\n",
    "    df['name'] = biz_names_list\n",
    "    df['encrypt'] = biz_encrypt_list\n",
    "    return df"
   ]
  },
  {
   "cell_type": "markdown",
   "metadata": {},
   "source": [
    "## Creating the recommender system"
   ]
  },
  {
   "cell_type": "markdown",
   "metadata": {},
   "source": [
    "### Load in review data and convert to a dataframe (~1M reviews)"
   ]
  },
  {
   "cell_type": "code",
   "execution_count": 3,
   "metadata": {
    "collapsed": false,
    "scrolled": false
   },
   "outputs": [],
   "source": [
    "df_reviews = extract_reviews_json(\"/home/plim0793/yelp_academic_dataset_review.json\", nth=1, limit=2000000)"
   ]
  },
  {
   "cell_type": "code",
   "execution_count": 4,
   "metadata": {
    "collapsed": true
   },
   "outputs": [],
   "source": [
    "df_names = extract_business_names(\"/home/plim0793/yelp_academic_dataset_business.json\", nth=1, limit=144072)"
   ]
  },
  {
   "cell_type": "code",
   "execution_count": 5,
   "metadata": {
    "collapsed": true
   },
   "outputs": [
    {
     "data": {
      "text/plain": [
       "AZ     43492\n",
       "NV     28214\n",
       "ON     24507\n",
       "NC     10177\n",
       "OH      9966\n",
       "PA      8091\n",
       "QC      6668\n",
       "WI      3899\n",
       "EDH     3539\n",
       "BW      2905\n",
       "IL      1556\n",
       "SC       498\n",
       "MLN      191\n",
       "HLD      172\n",
       "FIF       72\n",
       "ELN       36\n",
       "WLN       34\n",
       "NI        20\n",
       "NY        13\n",
       "ESX       11\n",
       "SCB        3\n",
       "FAL        1\n",
       "STG        1\n",
       "NTH        1\n",
       "FLN        1\n",
       "NLK        1\n",
       "PKN        1\n",
       "KHL        1\n",
       "VT         1\n",
       "Name: state, dtype: int64"
      ]
     },
     "execution_count": 5,
     "metadata": {},
     "output_type": "execute_result"
    }
   ],
   "source": [
    "df_names.state.value_counts()"
   ]
  },
  {
   "cell_type": "markdown",
   "metadata": {},
   "source": [
    "#### Focus on just businesses from AZ"
   ]
  },
  {
   "cell_type": "code",
   "execution_count": 5,
   "metadata": {
    "collapsed": false
   },
   "outputs": [],
   "source": [
    "df_AZ = df_names[df_names['state'] == 'AZ']"
   ]
  },
  {
   "cell_type": "code",
   "execution_count": 6,
   "metadata": {
    "collapsed": false
   },
   "outputs": [],
   "source": [
    "df_tot = df_reviews.merge(df_AZ, how='left', left_on='business_id', right_on='encrypt')\n",
    "df_tot = df_tot.drop('encrypt', axis=1)\n",
    "df_tot = df_tot.dropna()"
   ]
  },
  {
   "cell_type": "code",
   "execution_count": 7,
   "metadata": {
    "collapsed": false
   },
   "outputs": [
    {
     "data": {
      "text/plain": [
       "(602358, 9)"
      ]
     },
     "execution_count": 7,
     "metadata": {},
     "output_type": "execute_result"
    }
   ],
   "source": [
    "df_tot.shape"
   ]
  },
  {
   "cell_type": "markdown",
   "metadata": {},
   "source": [
    "### Create the pivot table"
   ]
  },
  {
   "cell_type": "code",
   "execution_count": 8,
   "metadata": {
    "collapsed": false
   },
   "outputs": [
    {
     "ename": "MemoryError",
     "evalue": "",
     "output_type": "error",
     "traceback": [
      "\u001b[0;31m---------------------------------------------------------------------------\u001b[0m",
      "\u001b[0;31mMemoryError\u001b[0m                               Traceback (most recent call last)",
      "\u001b[0;32m<ipython-input-8-eae1cb950312>\u001b[0m in \u001b[0;36m<module>\u001b[0;34m()\u001b[0m\n\u001b[1;32m      1\u001b[0m df_wide = pd.pivot_table(df_tot, values=['stars'],\n\u001b[1;32m      2\u001b[0m                                 \u001b[0mindex\u001b[0m\u001b[0;34m=\u001b[0m\u001b[0;34m[\u001b[0m\u001b[0;34m'name'\u001b[0m\u001b[0;34m,\u001b[0m \u001b[0;34m'user_id'\u001b[0m\u001b[0;34m]\u001b[0m\u001b[0;34m,\u001b[0m\u001b[0;34m\u001b[0m\u001b[0m\n\u001b[0;32m----> 3\u001b[0;31m                                 aggfunc=np.mean).unstack()\n\u001b[0m\u001b[1;32m      4\u001b[0m \u001b[0mdf_wide\u001b[0m\u001b[0;34m.\u001b[0m\u001b[0mshape\u001b[0m\u001b[0;34m\u001b[0m\u001b[0m\n",
      "\u001b[0;32m/home/plim0793/anaconda3/lib/python3.6/site-packages/pandas/core/frame.py\u001b[0m in \u001b[0;36munstack\u001b[0;34m(self, level, fill_value)\u001b[0m\n\u001b[1;32m   4034\u001b[0m         \"\"\"\n\u001b[1;32m   4035\u001b[0m         \u001b[0;32mfrom\u001b[0m \u001b[0mpandas\u001b[0m\u001b[0;34m.\u001b[0m\u001b[0mcore\u001b[0m\u001b[0;34m.\u001b[0m\u001b[0mreshape\u001b[0m \u001b[0;32mimport\u001b[0m \u001b[0munstack\u001b[0m\u001b[0;34m\u001b[0m\u001b[0m\n\u001b[0;32m-> 4036\u001b[0;31m         \u001b[0;32mreturn\u001b[0m \u001b[0munstack\u001b[0m\u001b[0;34m(\u001b[0m\u001b[0mself\u001b[0m\u001b[0;34m,\u001b[0m \u001b[0mlevel\u001b[0m\u001b[0;34m,\u001b[0m \u001b[0mfill_value\u001b[0m\u001b[0;34m)\u001b[0m\u001b[0;34m\u001b[0m\u001b[0m\n\u001b[0m\u001b[1;32m   4037\u001b[0m \u001b[0;34m\u001b[0m\u001b[0m\n\u001b[1;32m   4038\u001b[0m     \u001b[0;31m# ----------------------------------------------------------------------\u001b[0m\u001b[0;34m\u001b[0m\u001b[0;34m\u001b[0m\u001b[0m\n",
      "\u001b[0;32m/home/plim0793/anaconda3/lib/python3.6/site-packages/pandas/core/reshape.py\u001b[0m in \u001b[0;36munstack\u001b[0;34m(obj, level, fill_value)\u001b[0m\n\u001b[1;32m    406\u001b[0m     \u001b[0;32mif\u001b[0m \u001b[0misinstance\u001b[0m\u001b[0;34m(\u001b[0m\u001b[0mobj\u001b[0m\u001b[0;34m,\u001b[0m \u001b[0mDataFrame\u001b[0m\u001b[0;34m)\u001b[0m\u001b[0;34m:\u001b[0m\u001b[0;34m\u001b[0m\u001b[0m\n\u001b[1;32m    407\u001b[0m         \u001b[0;32mif\u001b[0m \u001b[0misinstance\u001b[0m\u001b[0;34m(\u001b[0m\u001b[0mobj\u001b[0m\u001b[0;34m.\u001b[0m\u001b[0mindex\u001b[0m\u001b[0;34m,\u001b[0m \u001b[0mMultiIndex\u001b[0m\u001b[0;34m)\u001b[0m\u001b[0;34m:\u001b[0m\u001b[0;34m\u001b[0m\u001b[0m\n\u001b[0;32m--> 408\u001b[0;31m             \u001b[0;32mreturn\u001b[0m \u001b[0m_unstack_frame\u001b[0m\u001b[0;34m(\u001b[0m\u001b[0mobj\u001b[0m\u001b[0;34m,\u001b[0m \u001b[0mlevel\u001b[0m\u001b[0;34m,\u001b[0m \u001b[0mfill_value\u001b[0m\u001b[0;34m=\u001b[0m\u001b[0mfill_value\u001b[0m\u001b[0;34m)\u001b[0m\u001b[0;34m\u001b[0m\u001b[0m\n\u001b[0m\u001b[1;32m    409\u001b[0m         \u001b[0;32melse\u001b[0m\u001b[0;34m:\u001b[0m\u001b[0;34m\u001b[0m\u001b[0m\n\u001b[1;32m    410\u001b[0m             \u001b[0;32mreturn\u001b[0m \u001b[0mobj\u001b[0m\u001b[0;34m.\u001b[0m\u001b[0mT\u001b[0m\u001b[0;34m.\u001b[0m\u001b[0mstack\u001b[0m\u001b[0;34m(\u001b[0m\u001b[0mdropna\u001b[0m\u001b[0;34m=\u001b[0m\u001b[0;32mFalse\u001b[0m\u001b[0;34m)\u001b[0m\u001b[0;34m\u001b[0m\u001b[0m\n",
      "\u001b[0;32m/home/plim0793/anaconda3/lib/python3.6/site-packages/pandas/core/reshape.py\u001b[0m in \u001b[0;36m_unstack_frame\u001b[0;34m(obj, level, fill_value)\u001b[0m\n\u001b[1;32m    450\u001b[0m                                \u001b[0mvalue_columns\u001b[0m\u001b[0;34m=\u001b[0m\u001b[0mobj\u001b[0m\u001b[0;34m.\u001b[0m\u001b[0mcolumns\u001b[0m\u001b[0;34m,\u001b[0m\u001b[0;34m\u001b[0m\u001b[0m\n\u001b[1;32m    451\u001b[0m                                fill_value=fill_value)\n\u001b[0;32m--> 452\u001b[0;31m         \u001b[0;32mreturn\u001b[0m \u001b[0munstacker\u001b[0m\u001b[0;34m.\u001b[0m\u001b[0mget_result\u001b[0m\u001b[0;34m(\u001b[0m\u001b[0;34m)\u001b[0m\u001b[0;34m\u001b[0m\u001b[0m\n\u001b[0m\u001b[1;32m    453\u001b[0m \u001b[0;34m\u001b[0m\u001b[0m\n\u001b[1;32m    454\u001b[0m \u001b[0;34m\u001b[0m\u001b[0m\n",
      "\u001b[0;32m/home/plim0793/anaconda3/lib/python3.6/site-packages/pandas/core/reshape.py\u001b[0m in \u001b[0;36mget_result\u001b[0;34m(self)\u001b[0m\n\u001b[1;32m    150\u001b[0m         \u001b[0;31m# TODO: find a better way than this masking business\u001b[0m\u001b[0;34m\u001b[0m\u001b[0;34m\u001b[0m\u001b[0m\n\u001b[1;32m    151\u001b[0m \u001b[0;34m\u001b[0m\u001b[0m\n\u001b[0;32m--> 152\u001b[0;31m         \u001b[0mvalues\u001b[0m\u001b[0;34m,\u001b[0m \u001b[0mvalue_mask\u001b[0m \u001b[0;34m=\u001b[0m \u001b[0mself\u001b[0m\u001b[0;34m.\u001b[0m\u001b[0mget_new_values\u001b[0m\u001b[0;34m(\u001b[0m\u001b[0;34m)\u001b[0m\u001b[0;34m\u001b[0m\u001b[0m\n\u001b[0m\u001b[1;32m    153\u001b[0m         \u001b[0mcolumns\u001b[0m \u001b[0;34m=\u001b[0m \u001b[0mself\u001b[0m\u001b[0;34m.\u001b[0m\u001b[0mget_new_columns\u001b[0m\u001b[0;34m(\u001b[0m\u001b[0;34m)\u001b[0m\u001b[0;34m\u001b[0m\u001b[0m\n\u001b[1;32m    154\u001b[0m         \u001b[0mindex\u001b[0m \u001b[0;34m=\u001b[0m \u001b[0mself\u001b[0m\u001b[0;34m.\u001b[0m\u001b[0mget_new_index\u001b[0m\u001b[0;34m(\u001b[0m\u001b[0;34m)\u001b[0m\u001b[0;34m\u001b[0m\u001b[0m\n",
      "\u001b[0;32m/home/plim0793/anaconda3/lib/python3.6/site-packages/pandas/core/reshape.py\u001b[0m in \u001b[0;36mget_new_values\u001b[0;34m(self)\u001b[0m\n\u001b[1;32m    188\u001b[0m         \u001b[0;32melse\u001b[0m\u001b[0;34m:\u001b[0m\u001b[0;34m\u001b[0m\u001b[0m\n\u001b[1;32m    189\u001b[0m             \u001b[0mdtype\u001b[0m\u001b[0;34m,\u001b[0m \u001b[0mfill_value\u001b[0m \u001b[0;34m=\u001b[0m \u001b[0m_maybe_promote\u001b[0m\u001b[0;34m(\u001b[0m\u001b[0mvalues\u001b[0m\u001b[0;34m.\u001b[0m\u001b[0mdtype\u001b[0m\u001b[0;34m,\u001b[0m \u001b[0mself\u001b[0m\u001b[0;34m.\u001b[0m\u001b[0mfill_value\u001b[0m\u001b[0;34m)\u001b[0m\u001b[0;34m\u001b[0m\u001b[0m\n\u001b[0;32m--> 190\u001b[0;31m             \u001b[0mnew_values\u001b[0m \u001b[0;34m=\u001b[0m \u001b[0mnp\u001b[0m\u001b[0;34m.\u001b[0m\u001b[0mempty\u001b[0m\u001b[0;34m(\u001b[0m\u001b[0mresult_shape\u001b[0m\u001b[0;34m,\u001b[0m \u001b[0mdtype\u001b[0m\u001b[0;34m=\u001b[0m\u001b[0mdtype\u001b[0m\u001b[0;34m)\u001b[0m\u001b[0;34m\u001b[0m\u001b[0m\n\u001b[0m\u001b[1;32m    191\u001b[0m             \u001b[0mnew_values\u001b[0m\u001b[0;34m.\u001b[0m\u001b[0mfill\u001b[0m\u001b[0;34m(\u001b[0m\u001b[0mfill_value\u001b[0m\u001b[0;34m)\u001b[0m\u001b[0;34m\u001b[0m\u001b[0m\n\u001b[1;32m    192\u001b[0m \u001b[0;34m\u001b[0m\u001b[0m\n",
      "\u001b[0;31mMemoryError\u001b[0m: "
     ]
    }
   ],
   "source": [
    "df_wide = pd.pivot_table(df_tot, values=['stars'],\n",
    "                                index=['name', 'user_id'],\n",
    "                                aggfunc=np.mean).unstack()\n",
    "df_wide.shape"
   ]
  },
  {
   "cell_type": "code",
   "execution_count": null,
   "metadata": {
    "collapsed": true
   },
   "outputs": [],
   "source": [
    "df_wide_sample = df_wide.sample(frac=0.5)"
   ]
  },
  {
   "cell_type": "code",
   "execution_count": 10,
   "metadata": {
    "collapsed": false
   },
   "outputs": [
    {
     "data": {
      "text/html": [
       "<div>\n",
       "<table border=\"1\" class=\"dataframe\">\n",
       "  <thead>\n",
       "    <tr>\n",
       "      <th></th>\n",
       "      <th colspan=\"5\" halign=\"left\">stars</th>\n",
       "    </tr>\n",
       "    <tr>\n",
       "      <th>user_id</th>\n",
       "      <th>---94vtJ_5o_nikEs6hUjg</th>\n",
       "      <th>---cu1hq55BP9DWVXXKHZg</th>\n",
       "      <th>--1av6NdbEbMiuBr7Aup9A</th>\n",
       "      <th>--3WaS23LcIXtxyFULJHTA</th>\n",
       "      <th>--3oMd6gjXpAzhjLBrsVCQ</th>\n",
       "    </tr>\n",
       "    <tr>\n",
       "      <th>name</th>\n",
       "      <th></th>\n",
       "      <th></th>\n",
       "      <th></th>\n",
       "      <th></th>\n",
       "      <th></th>\n",
       "    </tr>\n",
       "  </thead>\n",
       "  <tbody>\n",
       "    <tr>\n",
       "      <th>$100 Substance Abuse Evaluation</th>\n",
       "      <td>NaN</td>\n",
       "      <td>NaN</td>\n",
       "      <td>NaN</td>\n",
       "      <td>NaN</td>\n",
       "      <td>NaN</td>\n",
       "    </tr>\n",
       "    <tr>\n",
       "      <th>.99 Cent Pizza Place</th>\n",
       "      <td>NaN</td>\n",
       "      <td>NaN</td>\n",
       "      <td>NaN</td>\n",
       "      <td>NaN</td>\n",
       "      <td>NaN</td>\n",
       "    </tr>\n",
       "    <tr>\n",
       "      <th>1 800-Flowers</th>\n",
       "      <td>NaN</td>\n",
       "      <td>NaN</td>\n",
       "      <td>NaN</td>\n",
       "      <td>NaN</td>\n",
       "      <td>NaN</td>\n",
       "    </tr>\n",
       "    <tr>\n",
       "      <th>1 Epic Nails &amp; Spa</th>\n",
       "      <td>NaN</td>\n",
       "      <td>NaN</td>\n",
       "      <td>NaN</td>\n",
       "      <td>NaN</td>\n",
       "      <td>NaN</td>\n",
       "    </tr>\n",
       "    <tr>\n",
       "      <th>1 on 1 Technologies</th>\n",
       "      <td>NaN</td>\n",
       "      <td>NaN</td>\n",
       "      <td>NaN</td>\n",
       "      <td>NaN</td>\n",
       "      <td>NaN</td>\n",
       "    </tr>\n",
       "  </tbody>\n",
       "</table>\n",
       "</div>"
      ],
      "text/plain": [
       "                                                 stars                         \\\n",
       "user_id                         ---94vtJ_5o_nikEs6hUjg ---cu1hq55BP9DWVXXKHZg   \n",
       "name                                                                            \n",
       "$100 Substance Abuse Evaluation                    NaN                    NaN   \n",
       ".99 Cent Pizza Place                               NaN                    NaN   \n",
       "1 800-Flowers                                      NaN                    NaN   \n",
       "1 Epic Nails & Spa                                 NaN                    NaN   \n",
       "1 on 1 Technologies                                NaN                    NaN   \n",
       "\n",
       "                                                                               \\\n",
       "user_id                         --1av6NdbEbMiuBr7Aup9A --3WaS23LcIXtxyFULJHTA   \n",
       "name                                                                            \n",
       "$100 Substance Abuse Evaluation                    NaN                    NaN   \n",
       ".99 Cent Pizza Place                               NaN                    NaN   \n",
       "1 800-Flowers                                      NaN                    NaN   \n",
       "1 Epic Nails & Spa                                 NaN                    NaN   \n",
       "1 on 1 Technologies                                NaN                    NaN   \n",
       "\n",
       "                                                        \n",
       "user_id                         --3oMd6gjXpAzhjLBrsVCQ  \n",
       "name                                                    \n",
       "$100 Substance Abuse Evaluation                    NaN  \n",
       ".99 Cent Pizza Place                               NaN  \n",
       "1 800-Flowers                                      NaN  \n",
       "1 Epic Nails & Spa                                 NaN  \n",
       "1 on 1 Technologies                                NaN  "
      ]
     },
     "execution_count": 10,
     "metadata": {},
     "output_type": "execute_result"
    }
   ],
   "source": [
    "df_wide.ix[0:5, 0:5]"
   ]
  },
  {
   "cell_type": "markdown",
   "metadata": {},
   "source": [
    "### Fill the null values with 2.5 (midpoint between 0 and 5)"
   ]
  },
  {
   "cell_type": "code",
   "execution_count": 13,
   "metadata": {
    "collapsed": false
   },
   "outputs": [
    {
     "ename": "MemoryError",
     "evalue": "",
     "output_type": "error",
     "traceback": [
      "\u001b[0;31m---------------------------------------------------------------------------\u001b[0m",
      "\u001b[0;31mMemoryError\u001b[0m                               Traceback (most recent call last)",
      "\u001b[0;32m<ipython-input-13-7751aad93ad4>\u001b[0m in \u001b[0;36m<module>\u001b[0;34m()\u001b[0m\n\u001b[0;32m----> 1\u001b[0;31m \u001b[0mdf_wide\u001b[0m \u001b[0;34m=\u001b[0m \u001b[0mdf_wide\u001b[0m\u001b[0;34m.\u001b[0m\u001b[0mfillna\u001b[0m\u001b[0;34m(\u001b[0m\u001b[0;36m2.5\u001b[0m\u001b[0;34m)\u001b[0m\u001b[0;34m\u001b[0m\u001b[0m\n\u001b[0m",
      "\u001b[0;32m/home/plim0793/anaconda3/lib/python3.6/site-packages/pandas/core/frame.py\u001b[0m in \u001b[0;36mfillna\u001b[0;34m(self, value, method, axis, inplace, limit, downcast, **kwargs)\u001b[0m\n\u001b[1;32m   2840\u001b[0m                      \u001b[0mself\u001b[0m\u001b[0;34m)\u001b[0m\u001b[0;34m.\u001b[0m\u001b[0mfillna\u001b[0m\u001b[0;34m(\u001b[0m\u001b[0mvalue\u001b[0m\u001b[0;34m=\u001b[0m\u001b[0mvalue\u001b[0m\u001b[0;34m,\u001b[0m \u001b[0mmethod\u001b[0m\u001b[0;34m=\u001b[0m\u001b[0mmethod\u001b[0m\u001b[0;34m,\u001b[0m \u001b[0maxis\u001b[0m\u001b[0;34m=\u001b[0m\u001b[0maxis\u001b[0m\u001b[0;34m,\u001b[0m\u001b[0;34m\u001b[0m\u001b[0m\n\u001b[1;32m   2841\u001b[0m                                   \u001b[0minplace\u001b[0m\u001b[0;34m=\u001b[0m\u001b[0minplace\u001b[0m\u001b[0;34m,\u001b[0m \u001b[0mlimit\u001b[0m\u001b[0;34m=\u001b[0m\u001b[0mlimit\u001b[0m\u001b[0;34m,\u001b[0m\u001b[0;34m\u001b[0m\u001b[0m\n\u001b[0;32m-> 2842\u001b[0;31m                                   downcast=downcast, **kwargs)\n\u001b[0m\u001b[1;32m   2843\u001b[0m \u001b[0;34m\u001b[0m\u001b[0m\n\u001b[1;32m   2844\u001b[0m     \u001b[0;34m@\u001b[0m\u001b[0mAppender\u001b[0m\u001b[0;34m(\u001b[0m\u001b[0m_shared_docs\u001b[0m\u001b[0;34m[\u001b[0m\u001b[0;34m'shift'\u001b[0m\u001b[0;34m]\u001b[0m \u001b[0;34m%\u001b[0m \u001b[0m_shared_doc_kwargs\u001b[0m\u001b[0;34m)\u001b[0m\u001b[0;34m\u001b[0m\u001b[0m\n",
      "\u001b[0;32m/home/plim0793/anaconda3/lib/python3.6/site-packages/pandas/core/generic.py\u001b[0m in \u001b[0;36mfillna\u001b[0;34m(self, value, method, axis, inplace, limit, downcast)\u001b[0m\n\u001b[1;32m   3286\u001b[0m                 new_data = self._data.fillna(value=value, limit=limit,\n\u001b[1;32m   3287\u001b[0m                                              \u001b[0minplace\u001b[0m\u001b[0;34m=\u001b[0m\u001b[0minplace\u001b[0m\u001b[0;34m,\u001b[0m\u001b[0;34m\u001b[0m\u001b[0m\n\u001b[0;32m-> 3288\u001b[0;31m                                              downcast=downcast)\n\u001b[0m\u001b[1;32m   3289\u001b[0m             \u001b[0;32melif\u001b[0m \u001b[0misinstance\u001b[0m\u001b[0;34m(\u001b[0m\u001b[0mvalue\u001b[0m\u001b[0;34m,\u001b[0m \u001b[0mDataFrame\u001b[0m\u001b[0;34m)\u001b[0m \u001b[0;32mand\u001b[0m \u001b[0mself\u001b[0m\u001b[0;34m.\u001b[0m\u001b[0mndim\u001b[0m \u001b[0;34m==\u001b[0m \u001b[0;36m2\u001b[0m\u001b[0;34m:\u001b[0m\u001b[0;34m\u001b[0m\u001b[0m\n\u001b[1;32m   3290\u001b[0m                 \u001b[0mnew_data\u001b[0m \u001b[0;34m=\u001b[0m \u001b[0mself\u001b[0m\u001b[0;34m.\u001b[0m\u001b[0mwhere\u001b[0m\u001b[0;34m(\u001b[0m\u001b[0mself\u001b[0m\u001b[0;34m.\u001b[0m\u001b[0mnotnull\u001b[0m\u001b[0;34m(\u001b[0m\u001b[0;34m)\u001b[0m\u001b[0;34m,\u001b[0m \u001b[0mvalue\u001b[0m\u001b[0;34m)\u001b[0m\u001b[0;34m\u001b[0m\u001b[0m\n",
      "\u001b[0;32m/home/plim0793/anaconda3/lib/python3.6/site-packages/pandas/core/internals.py\u001b[0m in \u001b[0;36mfillna\u001b[0;34m(self, **kwargs)\u001b[0m\n\u001b[1;32m   3181\u001b[0m \u001b[0;34m\u001b[0m\u001b[0m\n\u001b[1;32m   3182\u001b[0m     \u001b[0;32mdef\u001b[0m \u001b[0mfillna\u001b[0m\u001b[0;34m(\u001b[0m\u001b[0mself\u001b[0m\u001b[0;34m,\u001b[0m \u001b[0;34m**\u001b[0m\u001b[0mkwargs\u001b[0m\u001b[0;34m)\u001b[0m\u001b[0;34m:\u001b[0m\u001b[0;34m\u001b[0m\u001b[0m\n\u001b[0;32m-> 3183\u001b[0;31m         \u001b[0;32mreturn\u001b[0m \u001b[0mself\u001b[0m\u001b[0;34m.\u001b[0m\u001b[0mapply\u001b[0m\u001b[0;34m(\u001b[0m\u001b[0;34m'fillna'\u001b[0m\u001b[0;34m,\u001b[0m \u001b[0;34m**\u001b[0m\u001b[0mkwargs\u001b[0m\u001b[0;34m)\u001b[0m\u001b[0;34m\u001b[0m\u001b[0m\n\u001b[0m\u001b[1;32m   3184\u001b[0m \u001b[0;34m\u001b[0m\u001b[0m\n\u001b[1;32m   3185\u001b[0m     \u001b[0;32mdef\u001b[0m \u001b[0mdowncast\u001b[0m\u001b[0;34m(\u001b[0m\u001b[0mself\u001b[0m\u001b[0;34m,\u001b[0m \u001b[0;34m**\u001b[0m\u001b[0mkwargs\u001b[0m\u001b[0;34m)\u001b[0m\u001b[0;34m:\u001b[0m\u001b[0;34m\u001b[0m\u001b[0m\n",
      "\u001b[0;32m/home/plim0793/anaconda3/lib/python3.6/site-packages/pandas/core/internals.py\u001b[0m in \u001b[0;36mapply\u001b[0;34m(self, f, axes, filter, do_integrity_check, consolidate, **kwargs)\u001b[0m\n\u001b[1;32m   3054\u001b[0m \u001b[0;34m\u001b[0m\u001b[0m\n\u001b[1;32m   3055\u001b[0m             \u001b[0mkwargs\u001b[0m\u001b[0;34m[\u001b[0m\u001b[0;34m'mgr'\u001b[0m\u001b[0;34m]\u001b[0m \u001b[0;34m=\u001b[0m \u001b[0mself\u001b[0m\u001b[0;34m\u001b[0m\u001b[0m\n\u001b[0;32m-> 3056\u001b[0;31m             \u001b[0mapplied\u001b[0m \u001b[0;34m=\u001b[0m \u001b[0mgetattr\u001b[0m\u001b[0;34m(\u001b[0m\u001b[0mb\u001b[0m\u001b[0;34m,\u001b[0m \u001b[0mf\u001b[0m\u001b[0;34m)\u001b[0m\u001b[0;34m(\u001b[0m\u001b[0;34m**\u001b[0m\u001b[0mkwargs\u001b[0m\u001b[0;34m)\u001b[0m\u001b[0;34m\u001b[0m\u001b[0m\n\u001b[0m\u001b[1;32m   3057\u001b[0m             \u001b[0mresult_blocks\u001b[0m \u001b[0;34m=\u001b[0m \u001b[0m_extend_blocks\u001b[0m\u001b[0;34m(\u001b[0m\u001b[0mapplied\u001b[0m\u001b[0;34m,\u001b[0m \u001b[0mresult_blocks\u001b[0m\u001b[0;34m)\u001b[0m\u001b[0;34m\u001b[0m\u001b[0m\n\u001b[1;32m   3058\u001b[0m \u001b[0;34m\u001b[0m\u001b[0m\n",
      "\u001b[0;32m/home/plim0793/anaconda3/lib/python3.6/site-packages/pandas/core/internals.py\u001b[0m in \u001b[0;36mfillna\u001b[0;34m(self, value, limit, inplace, downcast, mgr)\u001b[0m\n\u001b[1;32m    379\u001b[0m         \u001b[0;32mtry\u001b[0m\u001b[0;34m:\u001b[0m\u001b[0;34m\u001b[0m\u001b[0m\n\u001b[1;32m    380\u001b[0m             \u001b[0mvalues\u001b[0m\u001b[0;34m,\u001b[0m \u001b[0m_\u001b[0m\u001b[0;34m,\u001b[0m \u001b[0mvalue\u001b[0m\u001b[0;34m,\u001b[0m \u001b[0m_\u001b[0m \u001b[0;34m=\u001b[0m \u001b[0mself\u001b[0m\u001b[0;34m.\u001b[0m\u001b[0m_try_coerce_args\u001b[0m\u001b[0;34m(\u001b[0m\u001b[0mself\u001b[0m\u001b[0;34m.\u001b[0m\u001b[0mvalues\u001b[0m\u001b[0;34m,\u001b[0m \u001b[0mvalue\u001b[0m\u001b[0;34m)\u001b[0m\u001b[0;34m\u001b[0m\u001b[0m\n\u001b[0;32m--> 381\u001b[0;31m             \u001b[0mblocks\u001b[0m \u001b[0;34m=\u001b[0m \u001b[0mself\u001b[0m\u001b[0;34m.\u001b[0m\u001b[0mputmask\u001b[0m\u001b[0;34m(\u001b[0m\u001b[0mmask\u001b[0m\u001b[0;34m,\u001b[0m \u001b[0mvalue\u001b[0m\u001b[0;34m,\u001b[0m \u001b[0minplace\u001b[0m\u001b[0;34m=\u001b[0m\u001b[0minplace\u001b[0m\u001b[0;34m)\u001b[0m\u001b[0;34m\u001b[0m\u001b[0m\n\u001b[0m\u001b[1;32m    382\u001b[0m             blocks = [b.make_block(values=self._try_coerce_result(b.values))\n\u001b[1;32m    383\u001b[0m                       for b in blocks]\n",
      "\u001b[0;32m/home/plim0793/anaconda3/lib/python3.6/site-packages/pandas/core/internals.py\u001b[0m in \u001b[0;36mputmask\u001b[0;34m(self, mask, new, align, inplace, axis, transpose, mgr)\u001b[0m\n\u001b[1;32m    800\u001b[0m         \"\"\"\n\u001b[1;32m    801\u001b[0m \u001b[0;34m\u001b[0m\u001b[0m\n\u001b[0;32m--> 802\u001b[0;31m         \u001b[0mnew_values\u001b[0m \u001b[0;34m=\u001b[0m \u001b[0mself\u001b[0m\u001b[0;34m.\u001b[0m\u001b[0mvalues\u001b[0m \u001b[0;32mif\u001b[0m \u001b[0minplace\u001b[0m \u001b[0;32melse\u001b[0m \u001b[0mself\u001b[0m\u001b[0;34m.\u001b[0m\u001b[0mvalues\u001b[0m\u001b[0;34m.\u001b[0m\u001b[0mcopy\u001b[0m\u001b[0;34m(\u001b[0m\u001b[0;34m)\u001b[0m\u001b[0;34m\u001b[0m\u001b[0m\n\u001b[0m\u001b[1;32m    803\u001b[0m \u001b[0;34m\u001b[0m\u001b[0m\n\u001b[1;32m    804\u001b[0m         \u001b[0;32mif\u001b[0m \u001b[0mhasattr\u001b[0m\u001b[0;34m(\u001b[0m\u001b[0mnew\u001b[0m\u001b[0;34m,\u001b[0m \u001b[0;34m'reindex_axis'\u001b[0m\u001b[0;34m)\u001b[0m\u001b[0;34m:\u001b[0m\u001b[0;34m\u001b[0m\u001b[0m\n",
      "\u001b[0;31mMemoryError\u001b[0m: "
     ]
    }
   ],
   "source": [
    "df_wide = df_wide.fillna(2.5)"
   ]
  },
  {
   "cell_type": "markdown",
   "metadata": {},
   "source": [
    "### Calculate cosine similarities and convert to dataframe"
   ]
  },
  {
   "cell_type": "code",
   "execution_count": 54,
   "metadata": {
    "collapsed": true
   },
   "outputs": [],
   "source": [
    "dists = cosine_similarity(df_wide)"
   ]
  },
  {
   "cell_type": "code",
   "execution_count": 55,
   "metadata": {
    "collapsed": false
   },
   "outputs": [],
   "source": [
    "df_dists = pd.DataFrame(dists, columns=df_wide.index)\n",
    "df_dists.index = df_dists.columns"
   ]
  },
  {
   "cell_type": "code",
   "execution_count": 56,
   "metadata": {
    "collapsed": false
   },
   "outputs": [
    {
     "data": {
      "text/html": [
       "<div>\n",
       "<table border=\"1\" class=\"dataframe\">\n",
       "  <thead>\n",
       "    <tr style=\"text-align: right;\">\n",
       "      <th>name</th>\n",
       "      <th>.99 Cent Pizza Place</th>\n",
       "      <th>10 Factory Fitness Center</th>\n",
       "      <th>1800-Plumbing of Arizona</th>\n",
       "      <th>1st Bank</th>\n",
       "      <th>1st Class Collision</th>\n",
       "      <th>2 B Wireless</th>\n",
       "      <th>2-Save Auto Glass</th>\n",
       "      <th>201 West</th>\n",
       "      <th>2015 NAILS &amp; SPA</th>\n",
       "      <th>24 Hour Glass &amp; Door Repair</th>\n",
       "    </tr>\n",
       "    <tr>\n",
       "      <th>name</th>\n",
       "      <th></th>\n",
       "      <th></th>\n",
       "      <th></th>\n",
       "      <th></th>\n",
       "      <th></th>\n",
       "      <th></th>\n",
       "      <th></th>\n",
       "      <th></th>\n",
       "      <th></th>\n",
       "      <th></th>\n",
       "    </tr>\n",
       "  </thead>\n",
       "  <tbody>\n",
       "    <tr>\n",
       "      <th>.99 Cent Pizza Place</th>\n",
       "      <td>1.000000</td>\n",
       "      <td>0.999766</td>\n",
       "      <td>0.999708</td>\n",
       "      <td>0.999822</td>\n",
       "      <td>0.999602</td>\n",
       "      <td>0.999803</td>\n",
       "      <td>0.999784</td>\n",
       "      <td>0.999843</td>\n",
       "      <td>0.999813</td>\n",
       "      <td>0.999840</td>\n",
       "    </tr>\n",
       "    <tr>\n",
       "      <th>10 Factory Fitness Center</th>\n",
       "      <td>0.999766</td>\n",
       "      <td>1.000000</td>\n",
       "      <td>0.999712</td>\n",
       "      <td>0.999827</td>\n",
       "      <td>0.999607</td>\n",
       "      <td>0.999807</td>\n",
       "      <td>0.999789</td>\n",
       "      <td>0.999854</td>\n",
       "      <td>0.999818</td>\n",
       "      <td>0.999844</td>\n",
       "    </tr>\n",
       "    <tr>\n",
       "      <th>1800-Plumbing of Arizona</th>\n",
       "      <td>0.999708</td>\n",
       "      <td>0.999712</td>\n",
       "      <td>1.000000</td>\n",
       "      <td>0.999768</td>\n",
       "      <td>0.999549</td>\n",
       "      <td>0.999749</td>\n",
       "      <td>0.999731</td>\n",
       "      <td>0.999796</td>\n",
       "      <td>0.999759</td>\n",
       "      <td>0.999786</td>\n",
       "    </tr>\n",
       "    <tr>\n",
       "      <th>1st Bank</th>\n",
       "      <td>0.999822</td>\n",
       "      <td>0.999827</td>\n",
       "      <td>0.999768</td>\n",
       "      <td>1.000000</td>\n",
       "      <td>0.999663</td>\n",
       "      <td>0.999864</td>\n",
       "      <td>0.999845</td>\n",
       "      <td>0.999911</td>\n",
       "      <td>0.999874</td>\n",
       "      <td>0.999900</td>\n",
       "    </tr>\n",
       "    <tr>\n",
       "      <th>1st Class Collision</th>\n",
       "      <td>0.999602</td>\n",
       "      <td>0.999607</td>\n",
       "      <td>0.999549</td>\n",
       "      <td>0.999663</td>\n",
       "      <td>1.000000</td>\n",
       "      <td>0.999644</td>\n",
       "      <td>0.999625</td>\n",
       "      <td>0.999691</td>\n",
       "      <td>0.999654</td>\n",
       "      <td>0.999680</td>\n",
       "    </tr>\n",
       "    <tr>\n",
       "      <th>2 B Wireless</th>\n",
       "      <td>0.999803</td>\n",
       "      <td>0.999807</td>\n",
       "      <td>0.999749</td>\n",
       "      <td>0.999864</td>\n",
       "      <td>0.999644</td>\n",
       "      <td>1.000000</td>\n",
       "      <td>0.999826</td>\n",
       "      <td>0.999891</td>\n",
       "      <td>0.999854</td>\n",
       "      <td>0.999881</td>\n",
       "    </tr>\n",
       "    <tr>\n",
       "      <th>2-Save Auto Glass</th>\n",
       "      <td>0.999784</td>\n",
       "      <td>0.999789</td>\n",
       "      <td>0.999731</td>\n",
       "      <td>0.999845</td>\n",
       "      <td>0.999625</td>\n",
       "      <td>0.999826</td>\n",
       "      <td>1.000000</td>\n",
       "      <td>0.999873</td>\n",
       "      <td>0.999836</td>\n",
       "      <td>0.999862</td>\n",
       "    </tr>\n",
       "    <tr>\n",
       "      <th>201 West</th>\n",
       "      <td>0.999843</td>\n",
       "      <td>0.999854</td>\n",
       "      <td>0.999796</td>\n",
       "      <td>0.999911</td>\n",
       "      <td>0.999691</td>\n",
       "      <td>0.999891</td>\n",
       "      <td>0.999873</td>\n",
       "      <td>1.000000</td>\n",
       "      <td>0.999901</td>\n",
       "      <td>0.999928</td>\n",
       "    </tr>\n",
       "    <tr>\n",
       "      <th>2015 NAILS &amp; SPA</th>\n",
       "      <td>0.999813</td>\n",
       "      <td>0.999818</td>\n",
       "      <td>0.999759</td>\n",
       "      <td>0.999874</td>\n",
       "      <td>0.999654</td>\n",
       "      <td>0.999854</td>\n",
       "      <td>0.999836</td>\n",
       "      <td>0.999901</td>\n",
       "      <td>1.000000</td>\n",
       "      <td>0.999891</td>\n",
       "    </tr>\n",
       "    <tr>\n",
       "      <th>24 Hour Glass &amp; Door Repair</th>\n",
       "      <td>0.999840</td>\n",
       "      <td>0.999844</td>\n",
       "      <td>0.999786</td>\n",
       "      <td>0.999900</td>\n",
       "      <td>0.999680</td>\n",
       "      <td>0.999881</td>\n",
       "      <td>0.999862</td>\n",
       "      <td>0.999928</td>\n",
       "      <td>0.999891</td>\n",
       "      <td>1.000000</td>\n",
       "    </tr>\n",
       "  </tbody>\n",
       "</table>\n",
       "</div>"
      ],
      "text/plain": [
       "name                         .99 Cent Pizza Place  10 Factory Fitness Center  \\\n",
       "name                                                                           \n",
       ".99 Cent Pizza Place                     1.000000                   0.999766   \n",
       "10 Factory Fitness Center                0.999766                   1.000000   \n",
       "1800-Plumbing of Arizona                 0.999708                   0.999712   \n",
       "1st Bank                                 0.999822                   0.999827   \n",
       "1st Class Collision                      0.999602                   0.999607   \n",
       "2 B Wireless                             0.999803                   0.999807   \n",
       "2-Save Auto Glass                        0.999784                   0.999789   \n",
       "201 West                                 0.999843                   0.999854   \n",
       "2015 NAILS & SPA                         0.999813                   0.999818   \n",
       "24 Hour Glass & Door Repair              0.999840                   0.999844   \n",
       "\n",
       "name                         1800-Plumbing of Arizona  1st Bank  \\\n",
       "name                                                              \n",
       ".99 Cent Pizza Place                         0.999708  0.999822   \n",
       "10 Factory Fitness Center                    0.999712  0.999827   \n",
       "1800-Plumbing of Arizona                     1.000000  0.999768   \n",
       "1st Bank                                     0.999768  1.000000   \n",
       "1st Class Collision                          0.999549  0.999663   \n",
       "2 B Wireless                                 0.999749  0.999864   \n",
       "2-Save Auto Glass                            0.999731  0.999845   \n",
       "201 West                                     0.999796  0.999911   \n",
       "2015 NAILS & SPA                             0.999759  0.999874   \n",
       "24 Hour Glass & Door Repair                  0.999786  0.999900   \n",
       "\n",
       "name                         1st Class Collision  2 B Wireless  \\\n",
       "name                                                             \n",
       ".99 Cent Pizza Place                    0.999602      0.999803   \n",
       "10 Factory Fitness Center               0.999607      0.999807   \n",
       "1800-Plumbing of Arizona                0.999549      0.999749   \n",
       "1st Bank                                0.999663      0.999864   \n",
       "1st Class Collision                     1.000000      0.999644   \n",
       "2 B Wireless                            0.999644      1.000000   \n",
       "2-Save Auto Glass                       0.999625      0.999826   \n",
       "201 West                                0.999691      0.999891   \n",
       "2015 NAILS & SPA                        0.999654      0.999854   \n",
       "24 Hour Glass & Door Repair             0.999680      0.999881   \n",
       "\n",
       "name                         2-Save Auto Glass  201 West  2015 NAILS & SPA  \\\n",
       "name                                                                         \n",
       ".99 Cent Pizza Place                  0.999784  0.999843          0.999813   \n",
       "10 Factory Fitness Center             0.999789  0.999854          0.999818   \n",
       "1800-Plumbing of Arizona              0.999731  0.999796          0.999759   \n",
       "1st Bank                              0.999845  0.999911          0.999874   \n",
       "1st Class Collision                   0.999625  0.999691          0.999654   \n",
       "2 B Wireless                          0.999826  0.999891          0.999854   \n",
       "2-Save Auto Glass                     1.000000  0.999873          0.999836   \n",
       "201 West                              0.999873  1.000000          0.999901   \n",
       "2015 NAILS & SPA                      0.999836  0.999901          1.000000   \n",
       "24 Hour Glass & Door Repair           0.999862  0.999928          0.999891   \n",
       "\n",
       "name                         24 Hour Glass & Door Repair  \n",
       "name                                                      \n",
       ".99 Cent Pizza Place                            0.999840  \n",
       "10 Factory Fitness Center                       0.999844  \n",
       "1800-Plumbing of Arizona                        0.999786  \n",
       "1st Bank                                        0.999900  \n",
       "1st Class Collision                             0.999680  \n",
       "2 B Wireless                                    0.999881  \n",
       "2-Save Auto Glass                               0.999862  \n",
       "201 West                                        0.999928  \n",
       "2015 NAILS & SPA                                0.999891  \n",
       "24 Hour Glass & Door Repair                     1.000000  "
      ]
     },
     "execution_count": 56,
     "metadata": {},
     "output_type": "execute_result"
    }
   ],
   "source": [
    "df_dists.ix[:10, :10]"
   ]
  },
  {
   "cell_type": "code",
   "execution_count": 57,
   "metadata": {
    "collapsed": false
   },
   "outputs": [
    {
     "data": {
      "text/html": [
       "<div>\n",
       "<table border=\"1\" class=\"dataframe\">\n",
       "  <thead>\n",
       "    <tr style=\"text-align: right;\">\n",
       "      <th>name</th>\n",
       "      <th>Taco Bell</th>\n",
       "    </tr>\n",
       "    <tr>\n",
       "      <th>name</th>\n",
       "      <th></th>\n",
       "    </tr>\n",
       "  </thead>\n",
       "  <tbody>\n",
       "    <tr>\n",
       "      <th>.99 Cent Pizza Place</th>\n",
       "      <td>0.999369</td>\n",
       "    </tr>\n",
       "    <tr>\n",
       "      <th>10 Factory Fitness Center</th>\n",
       "      <td>0.999374</td>\n",
       "    </tr>\n",
       "    <tr>\n",
       "      <th>1800-Plumbing of Arizona</th>\n",
       "      <td>0.999315</td>\n",
       "    </tr>\n",
       "    <tr>\n",
       "      <th>1st Bank</th>\n",
       "      <td>0.999430</td>\n",
       "    </tr>\n",
       "    <tr>\n",
       "      <th>1st Class Collision</th>\n",
       "      <td>0.999210</td>\n",
       "    </tr>\n",
       "  </tbody>\n",
       "</table>\n",
       "</div>"
      ],
      "text/plain": [
       "name                       Taco Bell\n",
       "name                                \n",
       ".99 Cent Pizza Place        0.999369\n",
       "10 Factory Fitness Center   0.999374\n",
       "1800-Plumbing of Arizona    0.999315\n",
       "1st Bank                    0.999430\n",
       "1st Class Collision         0.999210"
      ]
     },
     "execution_count": 57,
     "metadata": {},
     "output_type": "execute_result"
    }
   ],
   "source": [
    "food = ['Taco Bell']\n",
    "\n",
    "df_dists[food].head()"
   ]
  },
  {
   "cell_type": "code",
   "execution_count": 58,
   "metadata": {
    "collapsed": true
   },
   "outputs": [],
   "source": [
    "food_sum = df_dists[food].apply(lambda row: np.sum(row), axis=1)"
   ]
  },
  {
   "cell_type": "code",
   "execution_count": 59,
   "metadata": {
    "collapsed": false
   },
   "outputs": [
    {
     "data": {
      "text/plain": [
       "name\n",
       ".99 Cent Pizza Place                                      0.999369\n",
       "10 Factory Fitness Center                                 0.999374\n",
       "1800-Plumbing of Arizona                                  0.999315\n",
       "1st Bank                                                  0.999430\n",
       "1st Class Collision                                       0.999210\n",
       "2 B Wireless                                              0.999410\n",
       "2-Save Auto Glass                                         0.999392\n",
       "201 West                                                  0.999458\n",
       "2015 NAILS & SPA                                          0.999421\n",
       "24 Hour Glass & Door Repair                               0.999447\n",
       "3 Margaritas                                              0.999409\n",
       "3 Oceans Entertainment                                    0.999259\n",
       "34 Easy St                                                0.999439\n",
       "360 Physical Therapy                                      0.999374\n",
       "3rd Avenue Grill                                          0.999457\n",
       "3rd St Sushi & Bar                                        0.999421\n",
       "3rd Street Theatre                                        0.999439\n",
       "3rd Thursday Adventure Run Tempe                          0.999249\n",
       "4 Sons Chevron                                            0.999408\n",
       "4T Nail&Spa                                               0.999392\n",
       "5 & Diner                                                 0.999169\n",
       "51 Freeway                                                0.999258\n",
       "5395 West Soul Food Place                                 0.999447\n",
       "7 Brothers Barbershop                                     0.999421\n",
       "9 Dragons Healing Arts                                    0.999402\n",
       "9 The Gallery                                             0.999421\n",
       "99 Cents Only Store                                       0.999434\n",
       "99 Cents Only Stores                                      0.999291\n",
       "A & B Automotive                                          0.999392\n",
       "A & C Imports Service Center                              0.999316\n",
       "                                                            ...   \n",
       "Zayn's Hookah Lounge                                      0.999362\n",
       "Zen Buffet                                                0.999443\n",
       "Zen Medicinals                                            0.999374\n",
       "Zephyr Espresso Caffe                                     0.999421\n",
       "Zest - Spirited Dining                                    0.999319\n",
       "Zia Records                                               0.999398\n",
       "Ziggie's Music                                            0.999227\n",
       "Ziltzer Vivian Gee, MD                                    0.999402\n",
       "Zipcar                                                    0.999360\n",
       "Zippity Do Dogs                                           0.999420\n",
       "Zittel Stacey,DDS PC                                      0.999345\n",
       "Zmyslinski Eye & Contact Lens Center                      0.999421\n",
       "Zona Works                                                0.999429\n",
       "Zwirl                                                     0.999430\n",
       "a Midwife's Kaleidoscope                                  0.999363\n",
       "aka Green                                                 0.999410\n",
       "azpro                                                     0.999374\n",
       "bebe outlet                                               0.999439\n",
       "dd's DISCOUNTS                                            0.999438\n",
       "earth stone water                                         0.999439\n",
       "enVoqueMD                                                 0.999400\n",
       "iCellfix                                                  0.999392\n",
       "iConsign Stores                                           0.999259\n",
       "iCracked Professional iPhone, iPod and iPad Repair        0.999402\n",
       "iPhone Solutions                                          0.999210\n",
       "iPools AZ                                                 0.999277\n",
       "iSnow                                                     0.999300\n",
       "ilumina Healing Sanctuary                                 0.998974\n",
       "lucy Activewear                                           0.999285\n",
       "lumenbrite - Adobe Authorized Training in Phoenix Area    0.999402\n",
       "dtype: float64"
      ]
     },
     "execution_count": 59,
     "metadata": {},
     "output_type": "execute_result"
    }
   ],
   "source": [
    "food_sum"
   ]
  },
  {
   "cell_type": "code",
   "execution_count": null,
   "metadata": {
    "collapsed": true
   },
   "outputs": [],
   "source": []
  },
  {
   "cell_type": "code",
   "execution_count": null,
   "metadata": {
    "collapsed": true
   },
   "outputs": [],
   "source": []
  },
  {
   "cell_type": "code",
   "execution_count": null,
   "metadata": {
    "collapsed": true
   },
   "outputs": [],
   "source": []
  }
 ],
 "metadata": {
  "anaconda-cloud": {},
  "kernelspec": {
   "display_name": "Python 3",
   "language": "python",
   "name": "python3"
  },
  "language_info": {
   "codemirror_mode": {
    "name": "ipython",
    "version": 3
   },
   "file_extension": ".py",
   "mimetype": "text/x-python",
   "name": "python",
   "nbconvert_exporter": "python",
   "pygments_lexer": "ipython3",
   "version": "3.6.0"
  }
 },
 "nbformat": 4,
 "nbformat_minor": 1
}
