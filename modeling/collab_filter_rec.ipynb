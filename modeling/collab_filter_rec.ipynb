{
 "cells": [
  {
   "cell_type": "markdown",
   "metadata": {},
   "source": [
    "# Collaborative Filter Recommendation System\n",
    "\n",
    "Paul Lim"
   ]
  },
  {
   "cell_type": "markdown",
   "metadata": {},
   "source": [
    "## Libraries"
   ]
  },
  {
   "cell_type": "code",
   "execution_count": 46,
   "metadata": {
    "collapsed": false
   },
   "outputs": [],
   "source": [
    "# Main imports\n",
    "import pandas as pd\n",
    "import numpy as np\n",
    "import matplotlib.pyplot as plt\n",
    "import seaborn as sns\n",
    "import matplotlib\n",
    "\n",
    "# sklearn\n",
    "from sklearn.pipeline import make_pipeline\n",
    "from sklearn import pipeline, feature_selection, decomposition\n",
    "from sklearn.base import BaseEstimator, TransformerMixin\n",
    "from sklearn.externals import joblib\n",
    "from sklearn.feature_extraction.text import TfidfVectorizer\n",
    "from sklearn.pipeline import Pipeline, FeatureUnion\n",
    "from sklearn.cluster import DBSCAN, AgglomerativeClustering, Birch\n",
    "from sklearn.decomposition import PCA, NMF\n",
    "from sklearn.metrics import silhouette_score\n",
    "from sklearn.metrics.pairwise import cosine_similarity\n",
    "from sklearn.utils.extmath import randomized_svd\n",
    "\n",
    "# Misc.\n",
    "import re\n",
    "import datetime\n",
    "import time\n",
    "import logging\n",
    "import math\n",
    "import json\n",
    "\n",
    "% matplotlib inline\n",
    "\n",
    "sns.set_style(\"white\")\n",
    "sns.set_style('ticks')\n",
    "sns.set_style({'xtick.direction': u'in', 'ytick.direction': u'in'})\n",
    "sns.set_style({'legend.frameon': True})\n",
    "\n",
    "logging.basicConfig(format='%(asctime)s : %(levelname)s : %(message)s', level=logging.INFO)"
   ]
  },
  {
   "cell_type": "markdown",
   "metadata": {},
   "source": [
    "## Functions"
   ]
  },
  {
   "cell_type": "code",
   "execution_count": 2,
   "metadata": {
    "collapsed": false
   },
   "outputs": [],
   "source": [
    "def extract_reviews_json(file, nth=1, limit=100):\n",
    "    \n",
    "    user_list = []\n",
    "    biz_list = []\n",
    "    rating_list = []\n",
    "    useful_list = []\n",
    "    funny_list = []\n",
    "    cool_list = []\n",
    "    \n",
    "    df = pd.DataFrame()\n",
    "\n",
    "    with open(file) as f:\n",
    "        count = 0\n",
    "        for i, line in enumerate(f):\n",
    "            if count % nth == 0:\n",
    "                review_entry = json.loads(line)\n",
    "                user_list.append(review_entry['user_id'])\n",
    "                biz_list.append(review_entry['business_id'])\n",
    "                rating_list.append(review_entry['stars'])\n",
    "                useful_list.append(review_entry['useful'])\n",
    "                funny_list.append(review_entry['funny'])\n",
    "                cool_list.append(review_entry['cool'])\n",
    "                \n",
    "            if count > limit:\n",
    "                break\n",
    "            count += 1\n",
    "    df['user_id'] = user_list\n",
    "    df['business_id'] = biz_list\n",
    "    df['stars'] = rating_list\n",
    "    df['useful'] = useful_list\n",
    "    df['funny'] = funny_list\n",
    "    df['cool'] = cool_list\n",
    "    \n",
    "    return df\n",
    "\n",
    "def extract_business_names(file, nth=1, limit=100):\n",
    "    \n",
    "    city_list = []\n",
    "    state_list = []\n",
    "    biz_encrypt_list = []\n",
    "    biz_names_list = []\n",
    "    \n",
    "    df = pd.DataFrame()\n",
    "    \n",
    "    with open(file) as f:\n",
    "        count = 0\n",
    "        for i, line in enumerate(f):\n",
    "            if count % nth == 0:\n",
    "                business_entry = json.loads(line)\n",
    "                \n",
    "                city_list.append(business_entry['city'])\n",
    "                state_list.append(business_entry['state'])\n",
    "                biz_encrypt_list.append(business_entry['business_id'])\n",
    "                biz_names_list.append(business_entry['name'])\n",
    "\n",
    "            if count > limit:\n",
    "                break\n",
    "            count += 1\n",
    "    df['city'] = city_list\n",
    "    df['state'] = state_list\n",
    "    df['name'] = biz_names_list\n",
    "    df['encrypt'] = biz_encrypt_list\n",
    "    return df"
   ]
  },
  {
   "cell_type": "markdown",
   "metadata": {},
   "source": [
    "## Creating the recommender system"
   ]
  },
  {
   "cell_type": "markdown",
   "metadata": {},
   "source": [
    "### Load in review data and convert to a dataframe (~1M reviews)"
   ]
  },
  {
   "cell_type": "code",
   "execution_count": 3,
   "metadata": {
    "collapsed": false,
    "scrolled": false
   },
   "outputs": [],
   "source": [
    "df_reviews = extract_reviews_json(\"/home/plim0793/yelp_academic_dataset_review.json\", nth=1, limit=2000000)"
   ]
  },
  {
   "cell_type": "code",
   "execution_count": 4,
   "metadata": {
    "collapsed": true
   },
   "outputs": [],
   "source": [
    "df_names = extract_business_names(\"/home/plim0793/yelp_academic_dataset_business.json\", nth=1, limit=144072)"
   ]
  },
  {
   "cell_type": "code",
   "execution_count": 5,
   "metadata": {
    "collapsed": true
   },
   "outputs": [
    {
     "data": {
      "text/plain": [
       "AZ     43492\n",
       "NV     28214\n",
       "ON     24507\n",
       "NC     10177\n",
       "OH      9966\n",
       "PA      8091\n",
       "QC      6668\n",
       "WI      3899\n",
       "EDH     3539\n",
       "BW      2905\n",
       "IL      1556\n",
       "SC       498\n",
       "MLN      191\n",
       "HLD      172\n",
       "FIF       72\n",
       "ELN       36\n",
       "WLN       34\n",
       "NI        20\n",
       "NY        13\n",
       "ESX       11\n",
       "SCB        3\n",
       "FAL        1\n",
       "STG        1\n",
       "NTH        1\n",
       "FLN        1\n",
       "NLK        1\n",
       "PKN        1\n",
       "KHL        1\n",
       "VT         1\n",
       "Name: state, dtype: int64"
      ]
     },
     "execution_count": 5,
     "metadata": {},
     "output_type": "execute_result"
    }
   ],
   "source": [
    "df_names.state.value_counts()"
   ]
  },
  {
   "cell_type": "markdown",
   "metadata": {},
   "source": [
    "#### Focus on just businesses from AZ"
   ]
  },
  {
   "cell_type": "code",
   "execution_count": 48,
   "metadata": {
    "collapsed": false
   },
   "outputs": [],
   "source": [
    "df_OH = df_names[df_names['state'] == 'OH']"
   ]
  },
  {
   "cell_type": "code",
   "execution_count": 49,
   "metadata": {
    "collapsed": false
   },
   "outputs": [],
   "source": [
    "df_tot = df_reviews.merge(df_OH, how='left', left_on='business_id', right_on='encrypt')\n",
    "df_tot = df_tot.drop('encrypt', axis=1)\n",
    "df_tot = df_tot.dropna()"
   ]
  },
  {
   "cell_type": "code",
   "execution_count": 50,
   "metadata": {
    "collapsed": false
   },
   "outputs": [
    {
     "data": {
      "text/plain": [
       "(97648, 9)"
      ]
     },
     "execution_count": 50,
     "metadata": {},
     "output_type": "execute_result"
    }
   ],
   "source": [
    "df_tot.shape"
   ]
  },
  {
   "cell_type": "markdown",
   "metadata": {},
   "source": [
    "### Create the pivot table"
   ]
  },
  {
   "cell_type": "code",
   "execution_count": 51,
   "metadata": {
    "collapsed": false
   },
   "outputs": [
    {
     "data": {
      "text/plain": [
       "(4886, 36573)"
      ]
     },
     "execution_count": 51,
     "metadata": {},
     "output_type": "execute_result"
    }
   ],
   "source": [
    "df_wide = pd.pivot_table(df_tot, values=['stars'],\n",
    "                                index=['name', 'user_id'],\n",
    "                                aggfunc=np.mean).unstack()\n",
    "df_wide.shape"
   ]
  },
  {
   "cell_type": "code",
   "execution_count": 52,
   "metadata": {
    "collapsed": true
   },
   "outputs": [],
   "source": [
    "df_wide_sample = df_wide.sample(frac=1)"
   ]
  },
  {
   "cell_type": "code",
   "execution_count": 53,
   "metadata": {
    "collapsed": false
   },
   "outputs": [
    {
     "data": {
      "text/plain": [
       "(4886, 36573)"
      ]
     },
     "execution_count": 53,
     "metadata": {},
     "output_type": "execute_result"
    }
   ],
   "source": [
    "df_wide_sample.shape"
   ]
  },
  {
   "cell_type": "code",
   "execution_count": 77,
   "metadata": {
    "collapsed": false,
    "scrolled": false
   },
   "outputs": [
    {
     "data": {
      "text/html": [
       "<div>\n",
       "<table border=\"1\" class=\"dataframe\">\n",
       "  <thead>\n",
       "    <tr>\n",
       "      <th></th>\n",
       "      <th colspan=\"5\" halign=\"left\">stars</th>\n",
       "    </tr>\n",
       "    <tr>\n",
       "      <th>user_id</th>\n",
       "      <th>--Awhttr0FhVud5prVpVlA</th>\n",
       "      <th>--J8UruLD_xvVuI1lMAxpA</th>\n",
       "      <th>--_EpULz-cjQit4npXy1ng</th>\n",
       "      <th>--agAy0vRYwG6WqbInorfg</th>\n",
       "      <th>--amZ_cR9Zgu4B1RrAHJyA</th>\n",
       "    </tr>\n",
       "    <tr>\n",
       "      <th>name</th>\n",
       "      <th></th>\n",
       "      <th></th>\n",
       "      <th></th>\n",
       "      <th></th>\n",
       "      <th></th>\n",
       "    </tr>\n",
       "  </thead>\n",
       "  <tbody>\n",
       "    <tr>\n",
       "      <th>Delta Computers Inc</th>\n",
       "      <td>2.5</td>\n",
       "      <td>2.5</td>\n",
       "      <td>2.5</td>\n",
       "      <td>2.5</td>\n",
       "      <td>2.5</td>\n",
       "    </tr>\n",
       "    <tr>\n",
       "      <th>Parma Auto Body</th>\n",
       "      <td>2.5</td>\n",
       "      <td>2.5</td>\n",
       "      <td>2.5</td>\n",
       "      <td>2.5</td>\n",
       "      <td>2.5</td>\n",
       "    </tr>\n",
       "    <tr>\n",
       "      <th>Skyview Lodge Event Center</th>\n",
       "      <td>2.5</td>\n",
       "      <td>2.5</td>\n",
       "      <td>2.5</td>\n",
       "      <td>2.5</td>\n",
       "      <td>2.5</td>\n",
       "    </tr>\n",
       "    <tr>\n",
       "      <th>Sweet Melissa</th>\n",
       "      <td>2.5</td>\n",
       "      <td>2.5</td>\n",
       "      <td>2.5</td>\n",
       "      <td>2.5</td>\n",
       "      <td>2.5</td>\n",
       "    </tr>\n",
       "    <tr>\n",
       "      <th>Dish Disposal</th>\n",
       "      <td>2.5</td>\n",
       "      <td>2.5</td>\n",
       "      <td>2.5</td>\n",
       "      <td>2.5</td>\n",
       "      <td>2.5</td>\n",
       "    </tr>\n",
       "  </tbody>\n",
       "</table>\n",
       "</div>"
      ],
      "text/plain": [
       "                                            stars                         \\\n",
       "user_id                    --Awhttr0FhVud5prVpVlA --J8UruLD_xvVuI1lMAxpA   \n",
       "name                                                                       \n",
       "Delta Computers Inc                           2.5                    2.5   \n",
       "Parma Auto Body                               2.5                    2.5   \n",
       "Skyview Lodge Event Center                    2.5                    2.5   \n",
       "Sweet Melissa                                 2.5                    2.5   \n",
       "Dish Disposal                                 2.5                    2.5   \n",
       "\n",
       "                                                                          \\\n",
       "user_id                    --_EpULz-cjQit4npXy1ng --agAy0vRYwG6WqbInorfg   \n",
       "name                                                                       \n",
       "Delta Computers Inc                           2.5                    2.5   \n",
       "Parma Auto Body                               2.5                    2.5   \n",
       "Skyview Lodge Event Center                    2.5                    2.5   \n",
       "Sweet Melissa                                 2.5                    2.5   \n",
       "Dish Disposal                                 2.5                    2.5   \n",
       "\n",
       "                                                   \n",
       "user_id                    --amZ_cR9Zgu4B1RrAHJyA  \n",
       "name                                               \n",
       "Delta Computers Inc                           2.5  \n",
       "Parma Auto Body                               2.5  \n",
       "Skyview Lodge Event Center                    2.5  \n",
       "Sweet Melissa                                 2.5  \n",
       "Dish Disposal                                 2.5  "
      ]
     },
     "execution_count": 77,
     "metadata": {},
     "output_type": "execute_result"
    }
   ],
   "source": [
    "df_wide_sample.ix[:5, :5]"
   ]
  },
  {
   "cell_type": "markdown",
   "metadata": {},
   "source": [
    "### Fill the null values with 2.5 (midpoint between 0 and 5)"
   ]
  },
  {
   "cell_type": "code",
   "execution_count": 55,
   "metadata": {
    "collapsed": false
   },
   "outputs": [],
   "source": [
    "df_wide_sample = df_wide_sample.fillna(2.5)"
   ]
  },
  {
   "cell_type": "markdown",
   "metadata": {},
   "source": [
    "### Get user matrix and business matrix"
   ]
  },
  {
   "cell_type": "code",
   "execution_count": 57,
   "metadata": {
    "collapsed": false
   },
   "outputs": [],
   "source": [
    "U, sig, VT = randomized_svd(df_wide_sample, \n",
    "                            n_components=10,\n",
    "                            n_iter=5)"
   ]
  },
  {
   "cell_type": "code",
   "execution_count": 60,
   "metadata": {
    "collapsed": false
   },
   "outputs": [
    {
     "name": "stdout",
     "output_type": "stream",
     "text": [
      "Business in User Space:  (4886, 10)\n",
      "User in Business Space:  (10, 36573)\n"
     ]
    }
   ],
   "source": [
    "print(\"Business in User Space: \", U.shape)\n",
    "print(\"User in Business Space: \", VT.shape)"
   ]
  },
  {
   "cell_type": "markdown",
   "metadata": {},
   "source": [
    "### Calculate cosine similarities and convert to dataframe"
   ]
  },
  {
   "cell_type": "code",
   "execution_count": 61,
   "metadata": {
    "collapsed": true
   },
   "outputs": [],
   "source": [
    "dists = cosine_similarity(U)"
   ]
  },
  {
   "cell_type": "code",
   "execution_count": 62,
   "metadata": {
    "collapsed": false
   },
   "outputs": [
    {
     "data": {
      "text/plain": [
       "0.73743438255103022"
      ]
     },
     "execution_count": 62,
     "metadata": {},
     "output_type": "execute_result"
    }
   ],
   "source": [
    "np.mean(dists)"
   ]
  },
  {
   "cell_type": "code",
   "execution_count": 63,
   "metadata": {
    "collapsed": false
   },
   "outputs": [],
   "source": [
    "df_dists = pd.DataFrame(dists, columns=df_wide_sample.index)\n",
    "df_dists.index = df_dists.columns"
   ]
  },
  {
   "cell_type": "code",
   "execution_count": 74,
   "metadata": {
    "collapsed": false,
    "scrolled": true
   },
   "outputs": [
    {
     "data": {
      "text/html": [
       "<div>\n",
       "<table border=\"1\" class=\"dataframe\">\n",
       "  <thead>\n",
       "    <tr style=\"text-align: right;\">\n",
       "      <th>name</th>\n",
       "      <th>Delta Computers Inc</th>\n",
       "      <th>Parma Auto Body</th>\n",
       "      <th>Skyview Lodge Event Center</th>\n",
       "      <th>Sweet Melissa</th>\n",
       "      <th>Dish Disposal</th>\n",
       "    </tr>\n",
       "    <tr>\n",
       "      <th>name</th>\n",
       "      <th></th>\n",
       "      <th></th>\n",
       "      <th></th>\n",
       "      <th></th>\n",
       "      <th></th>\n",
       "    </tr>\n",
       "  </thead>\n",
       "  <tbody>\n",
       "    <tr>\n",
       "      <th>Delta Computers Inc</th>\n",
       "      <td>1.000000</td>\n",
       "      <td>0.972145</td>\n",
       "      <td>0.959831</td>\n",
       "      <td>0.081130</td>\n",
       "      <td>0.971435</td>\n",
       "    </tr>\n",
       "    <tr>\n",
       "      <th>Parma Auto Body</th>\n",
       "      <td>0.972145</td>\n",
       "      <td>1.000000</td>\n",
       "      <td>0.987774</td>\n",
       "      <td>-0.101072</td>\n",
       "      <td>0.999429</td>\n",
       "    </tr>\n",
       "    <tr>\n",
       "      <th>Skyview Lodge Event Center</th>\n",
       "      <td>0.959831</td>\n",
       "      <td>0.987774</td>\n",
       "      <td>1.000000</td>\n",
       "      <td>-0.103510</td>\n",
       "      <td>0.991503</td>\n",
       "    </tr>\n",
       "    <tr>\n",
       "      <th>Sweet Melissa</th>\n",
       "      <td>0.081130</td>\n",
       "      <td>-0.101072</td>\n",
       "      <td>-0.103510</td>\n",
       "      <td>1.000000</td>\n",
       "      <td>-0.100075</td>\n",
       "    </tr>\n",
       "    <tr>\n",
       "      <th>Dish Disposal</th>\n",
       "      <td>0.971435</td>\n",
       "      <td>0.999429</td>\n",
       "      <td>0.991503</td>\n",
       "      <td>-0.100075</td>\n",
       "      <td>1.000000</td>\n",
       "    </tr>\n",
       "  </tbody>\n",
       "</table>\n",
       "</div>"
      ],
      "text/plain": [
       "name                        Delta Computers Inc  Parma Auto Body  \\\n",
       "name                                                               \n",
       "Delta Computers Inc                    1.000000         0.972145   \n",
       "Parma Auto Body                        0.972145         1.000000   \n",
       "Skyview Lodge Event Center             0.959831         0.987774   \n",
       "Sweet Melissa                          0.081130        -0.101072   \n",
       "Dish Disposal                          0.971435         0.999429   \n",
       "\n",
       "name                        Skyview Lodge Event Center  Sweet Melissa  \\\n",
       "name                                                                    \n",
       "Delta Computers Inc                           0.959831       0.081130   \n",
       "Parma Auto Body                               0.987774      -0.101072   \n",
       "Skyview Lodge Event Center                    1.000000      -0.103510   \n",
       "Sweet Melissa                                -0.103510       1.000000   \n",
       "Dish Disposal                                 0.991503      -0.100075   \n",
       "\n",
       "name                        Dish Disposal  \n",
       "name                                       \n",
       "Delta Computers Inc              0.971435  \n",
       "Parma Auto Body                  0.999429  \n",
       "Skyview Lodge Event Center       0.991503  \n",
       "Sweet Melissa                   -0.100075  \n",
       "Dish Disposal                    1.000000  "
      ]
     },
     "execution_count": 74,
     "metadata": {},
     "output_type": "execute_result"
    }
   ],
   "source": [
    "df_dists.ix[:5, :5]"
   ]
  },
  {
   "cell_type": "markdown",
   "metadata": {},
   "source": [
    "### Try a sample input"
   ]
  },
  {
   "cell_type": "code",
   "execution_count": 76,
   "metadata": {
    "collapsed": false
   },
   "outputs": [],
   "source": [
    "food = ['LongHorn Steakhouse', \"Flury's Cafe\"]"
   ]
  },
  {
   "cell_type": "code",
   "execution_count": 69,
   "metadata": {
    "collapsed": true
   },
   "outputs": [],
   "source": [
    "food_sum = df_dists[food].apply(lambda row: np.sum(row), axis=1)"
   ]
  },
  {
   "cell_type": "markdown",
   "metadata": {},
   "source": [
    "#### Top 10 recommendations"
   ]
  },
  {
   "cell_type": "code",
   "execution_count": 75,
   "metadata": {
    "collapsed": false
   },
   "outputs": [
    {
     "data": {
      "text/plain": [
       "name\n",
       "Hibachi Japan Steak House                   1.803817\n",
       "Sugo Modern Italian Bistro                  1.802863\n",
       "Ceedo's Eatery                              1.789440\n",
       "The Natatorium Health and Fitness Center    1.781428\n",
       "Mark & Philly's                             1.778921\n",
       "Luca's New York Style Pizza                 1.775471\n",
       "Great Lakes Baking Company                  1.773838\n",
       "Sugar-Luv Confections                       1.772519\n",
       "Corner Cup Coffeehouse                      1.767198\n",
       "Rinky Dink Family Fun Center                1.747650\n",
       "dtype: float64"
      ]
     },
     "execution_count": 75,
     "metadata": {},
     "output_type": "execute_result"
    }
   ],
   "source": [
    "food_sum.sort_values(ascending=False)[:10]"
   ]
  },
  {
   "cell_type": "code",
   "execution_count": 78,
   "metadata": {
    "collapsed": false
   },
   "outputs": [
    {
     "data": {
      "text/plain": [
       "['/home/plim0793/fletcher/df_dists']"
      ]
     },
     "execution_count": 78,
     "metadata": {},
     "output_type": "execute_result"
    }
   ],
   "source": [
    "joblib.dump(df_dists, '/home/plim0793/fletcher/df_dists')"
   ]
  }
 ],
 "metadata": {
  "anaconda-cloud": {},
  "kernelspec": {
   "display_name": "Python 3",
   "language": "python",
   "name": "python3"
  },
  "language_info": {
   "codemirror_mode": {
    "name": "ipython",
    "version": 3
   },
   "file_extension": ".py",
   "mimetype": "text/x-python",
   "name": "python",
   "nbconvert_exporter": "python",
   "pygments_lexer": "ipython3",
   "version": "3.6.0"
  }
 },
 "nbformat": 4,
 "nbformat_minor": 1
}
