{
 "cells": [
  {
   "cell_type": "markdown",
   "metadata": {},
   "source": [
    "# Modeling Yelp Data\n",
    "\n",
    "Paul Lim"
   ]
  },
  {
   "cell_type": "markdown",
   "metadata": {},
   "source": [
    "## Libraries"
   ]
  },
  {
   "cell_type": "code",
   "execution_count": 1,
   "metadata": {
    "collapsed": false
   },
   "outputs": [],
   "source": [
    "# Main imports\n",
    "import pandas as pd\n",
    "import numpy as np\n",
    "import matplotlib.pyplot as plt\n",
    "import seaborn as sns\n",
    "import matplotlib\n",
    "\n",
    "# sklearn\n",
    "from sklearn.model_selection import train_test_split, learning_curve, cross_val_score, RandomizedSearchCV\n",
    "from sklearn.linear_model import LogisticRegression, SGDClassifier\n",
    "from sklearn.neighbors import KNeighborsClassifier\n",
    "from sklearn.metrics import accuracy_score, precision_score, recall_score, f1_score, fbeta_score\n",
    "from sklearn.metrics import roc_curve, roc_auc_score, precision_recall_curve\n",
    "from sklearn.naive_bayes import GaussianNB\n",
    "from sklearn.svm import SVC\n",
    "from sklearn.tree import DecisionTreeClassifier\n",
    "from sklearn.ensemble import RandomForestClassifier\n",
    "from sklearn.preprocessing import label_binarize\n",
    "from sklearn.preprocessing import StandardScaler\n",
    "from sklearn.pipeline import make_pipeline\n",
    "from sklearn import pipeline, feature_selection, decomposition\n",
    "from sklearn.base import BaseEstimator, TransformerMixin\n",
    "from sklearn.naive_bayes import GaussianNB, MultinomialNB\n",
    "from sklearn.externals import joblib\n",
    "from sklearn.dummy import DummyClassifier\n",
    "from sklearn.feature_extraction.text import TfidfVectorizer\n",
    "from sklearn.pipeline import Pipeline, FeatureUnion\n",
    "\n",
    "from sklearn.cluster import DBSCAN\n",
    "from sklearn.decomposition import PCA\n",
    "\n",
    "# NLP \n",
    "from nltk.corpus import stopwords\n",
    "from textblob import TextBlob\n",
    "import spacy\n",
    "\n",
    "# Misc.\n",
    "import re\n",
    "import datetime\n",
    "import time\n",
    "import logging\n",
    "import math\n",
    "\n",
    "% matplotlib inline\n",
    "\n",
    "sns.set_style(\"white\")\n",
    "sns.set_style('ticks')\n",
    "sns.set_style({'xtick.direction': u'in', 'ytick.direction': u'in'})\n",
    "sns.set_style({'legend.frameon': True})"
   ]
  },
  {
   "cell_type": "markdown",
   "metadata": {},
   "source": [
    "## Running List of Functions/Classes"
   ]
  },
  {
   "cell_type": "markdown",
   "metadata": {},
   "source": [
    "### Classes"
   ]
  },
  {
   "cell_type": "code",
   "execution_count": 56,
   "metadata": {
    "collapsed": true
   },
   "outputs": [],
   "source": [
    "class DataframeToSeries(BaseEstimator, TransformerMixin):\n",
    "        \n",
    "    def __init__(self, col=None):\n",
    "        self.col = col\n",
    "    \n",
    "    def fit(self, x, y=None):\n",
    "        return self\n",
    "    \n",
    "    def transform(self, X):\n",
    "        if self.col:\n",
    "            return X[self.col]\n",
    "        else:\n",
    "            return X\n",
    "        \n",
    "class SeparateFeatures(BaseEstimator, TransformerMixin):\n",
    "    \n",
    "    def __init__(self, num_cols=None):\n",
    "        self.num_cols = num_cols\n",
    "        \n",
    "    def fit(self, x, y=None):\n",
    "        return self\n",
    "    \n",
    "    def transform(self, X):\n",
    "        if self.num_cols:\n",
    "            return X.loc[:, self.num_cols]\n",
    "        else:\n",
    "            return X\n",
    "        \n",
    "class WilsonAverageTransformer(BaseEstimator, TransformerMixin):\n",
    "    \n",
    "    def __init__(self, num_col=None, biz_list=None):\n",
    "        self.num_col = num_col\n",
    "        self.biz_list = biz_list\n",
    "    \n",
    "    def fit(self, x, y=None):\n",
    "        return self\n",
    "    \n",
    "    def transform(self, X):\n",
    "        if self.num_col and self.biz_list.all():\n",
    "            scores = get_average_rating(X, self.biz_list)\n",
    "            \n",
    "            X_avg = pd.DataFrame({'average': scores})\n",
    "            \n",
    "            return X_avg\n",
    "        else:\n",
    "            return X\n",
    "        \n",
    "class CleanText(BaseEstimator, TransformerMixin):\n",
    "\n",
    "    def __init__(self, text_col=None):\n",
    "        self.text_col = text_col\n",
    "        \n",
    "    def fit(self, x, y=None):\n",
    "        return self\n",
    "    \n",
    "    def transform(self, X):\n",
    "        NLP = spacy.load('en')\n",
    "        \n",
    "        if self.text_col:\n",
    "            df = pd.DataFrame()\n",
    "            clean_review_list = []\n",
    "            \n",
    "            for review in X.loc[:, self.text_col]:\n",
    "                clean_review = ''\n",
    "                \n",
    "                for word in NLP(review):\n",
    "                    if word.is_stop == False:\n",
    "                        clean_review += word.lemma_ + ' '\n",
    "                        \n",
    "#                 clean_review = NLP(clean_review)\n",
    "                clean_review_list.append(clean_review)\n",
    "                        \n",
    "            df['clean_reviews'] = clean_review_list\n",
    "            \n",
    "            return df\n",
    "        else:\n",
    "            return X\n",
    "        \n",
    "class DensifyTransform(BaseEstimator, TransformerMixin):\n",
    "\n",
    "    def fit(self, X, y=None):\n",
    "        return self\n",
    "\n",
    "    def transform(self, X):\n",
    "        return X.toarray()"
   ]
  },
  {
   "cell_type": "markdown",
   "metadata": {},
   "source": [
    "### Functions"
   ]
  },
  {
   "cell_type": "code",
   "execution_count": 3,
   "metadata": {
    "collapsed": false
   },
   "outputs": [],
   "source": [
    "def confidence(pos, neg):\n",
    "    '''\n",
    "    Calculates the Wilson confidence where pos is the number of positive ratings\n",
    "    and neg is the number of negative ratings.\n",
    "    '''\n",
    "    n = pos + neg\n",
    "    \n",
    "    if n == 0:\n",
    "        return 0\n",
    "    z = 1.96 # 95% confidence interval\n",
    "    phat = float(pos) / n\n",
    "    return (((phat + z*z/(2*n) - z * np.sqrt((phat*(1-phat)+z*z/(4*n))/n))/(1+z*z/n)))\n",
    "\n",
    "def get_average_rating(df, biz_list):\n",
    "    '''\n",
    "    Compiles the list of average ratings for each business in biz_list.\n",
    "    '''\n",
    "    wils_list = []\n",
    "    \n",
    "    for biz in biz_list:\n",
    "        ind_biz = df[df['name'] == biz]\n",
    "        \n",
    "        pos_count = 0\n",
    "        neg_count = 0\n",
    "        \n",
    "        for rating in ind_biz['rating']:\n",
    "            if rating > 3:\n",
    "                pos_count += 1\n",
    "            else:\n",
    "                neg_count += 1\n",
    "        \n",
    "        wils_conf = confidence(pos_count, neg_count)\n",
    "        wils_list.append(wils_conf)\n",
    "    return wils_list"
   ]
  },
  {
   "cell_type": "markdown",
   "metadata": {},
   "source": [
    "## Data Preprocessing"
   ]
  },
  {
   "cell_type": "markdown",
   "metadata": {},
   "source": [
    "### Load in data"
   ]
  },
  {
   "cell_type": "code",
   "execution_count": 4,
   "metadata": {
    "collapsed": false
   },
   "outputs": [],
   "source": [
    "df_init = joblib.load('../data/df_tot')"
   ]
  },
  {
   "cell_type": "markdown",
   "metadata": {},
   "source": [
    "### Reorder columns"
   ]
  },
  {
   "cell_type": "code",
   "execution_count": 5,
   "metadata": {
    "collapsed": false
   },
   "outputs": [],
   "source": [
    "df_init = df_init[['name', 'rating' ,'reviews']]"
   ]
  },
  {
   "cell_type": "markdown",
   "metadata": {},
   "source": [
    "### Change rating to int type"
   ]
  },
  {
   "cell_type": "code",
   "execution_count": 6,
   "metadata": {
    "collapsed": true
   },
   "outputs": [],
   "source": [
    "df_init['rating'] = df_init['rating'].apply(lambda x: int(x))"
   ]
  },
  {
   "cell_type": "markdown",
   "metadata": {},
   "source": [
    "### Create holdout set"
   ]
  },
  {
   "cell_type": "code",
   "execution_count": 7,
   "metadata": {
    "collapsed": false
   },
   "outputs": [
    {
     "name": "stdout",
     "output_type": "stream",
     "text": [
      "Holdout Size:  40939\n",
      "CV Size:  163757\n"
     ]
    }
   ],
   "source": [
    "df_shuffled = df_init.sample(frac=1)\n",
    "\n",
    "holdout_size = round(len(df_shuffled)*0.2)\n",
    "\n",
    "df_holdout = df_shuffled.iloc[:holdout_size, :]\n",
    "df_model = df_shuffled.iloc[holdout_size:, :]\n",
    "\n",
    "print(\"Holdout Size: \", len(df_holdout))\n",
    "print(\"CV Size: \", len(df_model))"
   ]
  },
  {
   "cell_type": "markdown",
   "metadata": {},
   "source": [
    "### Sort the dataframe for cross-validation"
   ]
  },
  {
   "cell_type": "code",
   "execution_count": 8,
   "metadata": {
    "collapsed": false
   },
   "outputs": [
    {
     "name": "stderr",
     "output_type": "stream",
     "text": [
      "/Users/plim0793/anaconda/lib/python3.5/site-packages/ipykernel/__main__.py:1: FutureWarning: sort(....) is deprecated, use sort_index(.....)\n",
      "  if __name__ == '__main__':\n"
     ]
    }
   ],
   "source": [
    "df_model = df_model.sort()"
   ]
  },
  {
   "cell_type": "markdown",
   "metadata": {},
   "source": [
    "### Create transformers for splitting text and num columns"
   ]
  },
  {
   "cell_type": "code",
   "execution_count": 10,
   "metadata": {
    "collapsed": true
   },
   "outputs": [
    {
     "name": "stdout",
     "output_type": "stream",
     "text": [
      "                                             reviews\n",
      "0  Hipster coffee galore! What happened to just a...\n",
      "1  A pretty hipster, modern spacious place to do ...\n",
      "2  Great place to grab a coffee and you can get t...\n",
      "3  Coffee is amazing! Overpriced as usual. There'...\n",
      "4  Big time coffee lover. First time customer and...\n",
      "                 name  rating  \\\n",
      "0  0_FourBarrelCoffee       2   \n",
      "1  0_FourBarrelCoffee       4   \n",
      "2  0_FourBarrelCoffee       5   \n",
      "3  0_FourBarrelCoffee       4   \n",
      "4  0_FourBarrelCoffee       4   \n",
      "\n",
      "                                             reviews  \n",
      "0  Hipster coffee galore! What happened to just a...  \n",
      "1  A pretty hipster, modern spacious place to do ...  \n",
      "2  Great place to grab a coffee and you can get t...  \n",
      "3  Coffee is amazing! Overpriced as usual. There'...  \n",
      "4  Big time coffee lover. First time customer and...  \n"
     ]
    }
   ],
   "source": [
    "t = SeparateFeatures(['reviews'])\n",
    "n = SeparateFeatures()\n",
    "\n",
    "print(t.transform(df_model).head())\n",
    "print(n.transform(df_model).head())"
   ]
  },
  {
   "cell_type": "code",
   "execution_count": 11,
   "metadata": {
    "collapsed": false
   },
   "outputs": [
    {
     "data": {
      "text/plain": [
       "(163757, 3)"
      ]
     },
     "execution_count": 11,
     "metadata": {},
     "output_type": "execute_result"
    }
   ],
   "source": [
    "t.transform(df_model).shape\n",
    "n.transform(df_model).shape"
   ]
  },
  {
   "cell_type": "markdown",
   "metadata": {},
   "source": [
    "### Create transformer for averaging ratings for each business (may not need this since I might not average across the each business)"
   ]
  },
  {
   "cell_type": "markdown",
   "metadata": {},
   "source": [
    "#### Get Wilson average for one business"
   ]
  },
  {
   "cell_type": "code",
   "execution_count": 12,
   "metadata": {
    "collapsed": false
   },
   "outputs": [],
   "source": [
    "one_biz = df_model[df_model['name'] == '0_FourBarrelCoffee']"
   ]
  },
  {
   "cell_type": "code",
   "execution_count": 13,
   "metadata": {
    "collapsed": false
   },
   "outputs": [],
   "source": [
    "pos_count = 0\n",
    "neg_count = 0\n",
    "\n",
    "for rating in one_biz['rating']:\n",
    "    if rating > 3:\n",
    "        pos_count += 1\n",
    "    else:\n",
    "        neg_count += 1\n",
    "        \n",
    "wil_conf = confidence(pos_count, neg_count)"
   ]
  },
  {
   "cell_type": "markdown",
   "metadata": {},
   "source": [
    "#### Generalize to all businesses"
   ]
  },
  {
   "cell_type": "code",
   "execution_count": 14,
   "metadata": {
    "collapsed": false
   },
   "outputs": [],
   "source": [
    "biz_list = df_model['name'].unique()"
   ]
  },
  {
   "cell_type": "code",
   "execution_count": 15,
   "metadata": {
    "collapsed": false
   },
   "outputs": [],
   "source": [
    "wils_scores = get_average_rating(df_model, biz_list)"
   ]
  },
  {
   "cell_type": "markdown",
   "metadata": {},
   "source": [
    "#### Create the transformer class"
   ]
  },
  {
   "cell_type": "code",
   "execution_count": 16,
   "metadata": {
    "collapsed": true
   },
   "outputs": [],
   "source": [
    "wat = WilsonAverageTransformer(num_col='rating', biz_list=biz_list)"
   ]
  },
  {
   "cell_type": "code",
   "execution_count": 17,
   "metadata": {
    "collapsed": true
   },
   "outputs": [
    {
     "data": {
      "text/html": [
       "<div>\n",
       "<table border=\"1\" class=\"dataframe\">\n",
       "  <thead>\n",
       "    <tr style=\"text-align: right;\">\n",
       "      <th></th>\n",
       "      <th>average</th>\n",
       "    </tr>\n",
       "  </thead>\n",
       "  <tbody>\n",
       "    <tr>\n",
       "      <th>0</th>\n",
       "      <td>0.717901</td>\n",
       "    </tr>\n",
       "    <tr>\n",
       "      <th>1</th>\n",
       "      <td>0.858098</td>\n",
       "    </tr>\n",
       "    <tr>\n",
       "      <th>2</th>\n",
       "      <td>0.795028</td>\n",
       "    </tr>\n",
       "    <tr>\n",
       "      <th>3</th>\n",
       "      <td>0.732776</td>\n",
       "    </tr>\n",
       "    <tr>\n",
       "      <th>4</th>\n",
       "      <td>0.811068</td>\n",
       "    </tr>\n",
       "    <tr>\n",
       "      <th>5</th>\n",
       "      <td>0.790576</td>\n",
       "    </tr>\n",
       "    <tr>\n",
       "      <th>6</th>\n",
       "      <td>0.719914</td>\n",
       "    </tr>\n",
       "    <tr>\n",
       "      <th>7</th>\n",
       "      <td>0.891296</td>\n",
       "    </tr>\n",
       "    <tr>\n",
       "      <th>8</th>\n",
       "      <td>0.564857</td>\n",
       "    </tr>\n",
       "    <tr>\n",
       "      <th>9</th>\n",
       "      <td>0.922868</td>\n",
       "    </tr>\n",
       "    <tr>\n",
       "      <th>10</th>\n",
       "      <td>0.792293</td>\n",
       "    </tr>\n",
       "    <tr>\n",
       "      <th>11</th>\n",
       "      <td>0.882392</td>\n",
       "    </tr>\n",
       "    <tr>\n",
       "      <th>12</th>\n",
       "      <td>0.599987</td>\n",
       "    </tr>\n",
       "    <tr>\n",
       "      <th>13</th>\n",
       "      <td>0.691520</td>\n",
       "    </tr>\n",
       "    <tr>\n",
       "      <th>14</th>\n",
       "      <td>0.759557</td>\n",
       "    </tr>\n",
       "    <tr>\n",
       "      <th>15</th>\n",
       "      <td>0.607752</td>\n",
       "    </tr>\n",
       "    <tr>\n",
       "      <th>16</th>\n",
       "      <td>0.725742</td>\n",
       "    </tr>\n",
       "    <tr>\n",
       "      <th>17</th>\n",
       "      <td>0.646733</td>\n",
       "    </tr>\n",
       "    <tr>\n",
       "      <th>18</th>\n",
       "      <td>0.774520</td>\n",
       "    </tr>\n",
       "    <tr>\n",
       "      <th>19</th>\n",
       "      <td>0.829265</td>\n",
       "    </tr>\n",
       "    <tr>\n",
       "      <th>20</th>\n",
       "      <td>0.760822</td>\n",
       "    </tr>\n",
       "    <tr>\n",
       "      <th>21</th>\n",
       "      <td>0.750826</td>\n",
       "    </tr>\n",
       "    <tr>\n",
       "      <th>22</th>\n",
       "      <td>0.758883</td>\n",
       "    </tr>\n",
       "    <tr>\n",
       "      <th>23</th>\n",
       "      <td>0.900569</td>\n",
       "    </tr>\n",
       "    <tr>\n",
       "      <th>24</th>\n",
       "      <td>0.777617</td>\n",
       "    </tr>\n",
       "    <tr>\n",
       "      <th>25</th>\n",
       "      <td>0.595991</td>\n",
       "    </tr>\n",
       "    <tr>\n",
       "      <th>26</th>\n",
       "      <td>0.666438</td>\n",
       "    </tr>\n",
       "    <tr>\n",
       "      <th>27</th>\n",
       "      <td>0.726558</td>\n",
       "    </tr>\n",
       "    <tr>\n",
       "      <th>28</th>\n",
       "      <td>0.504826</td>\n",
       "    </tr>\n",
       "    <tr>\n",
       "      <th>29</th>\n",
       "      <td>0.642752</td>\n",
       "    </tr>\n",
       "    <tr>\n",
       "      <th>...</th>\n",
       "      <td>...</td>\n",
       "    </tr>\n",
       "    <tr>\n",
       "      <th>801</th>\n",
       "      <td>0.759213</td>\n",
       "    </tr>\n",
       "    <tr>\n",
       "      <th>802</th>\n",
       "      <td>0.775050</td>\n",
       "    </tr>\n",
       "    <tr>\n",
       "      <th>803</th>\n",
       "      <td>0.796786</td>\n",
       "    </tr>\n",
       "    <tr>\n",
       "      <th>804</th>\n",
       "      <td>0.744498</td>\n",
       "    </tr>\n",
       "    <tr>\n",
       "      <th>805</th>\n",
       "      <td>0.688230</td>\n",
       "    </tr>\n",
       "    <tr>\n",
       "      <th>806</th>\n",
       "      <td>0.577810</td>\n",
       "    </tr>\n",
       "    <tr>\n",
       "      <th>807</th>\n",
       "      <td>0.814134</td>\n",
       "    </tr>\n",
       "    <tr>\n",
       "      <th>808</th>\n",
       "      <td>0.450314</td>\n",
       "    </tr>\n",
       "    <tr>\n",
       "      <th>809</th>\n",
       "      <td>0.873341</td>\n",
       "    </tr>\n",
       "    <tr>\n",
       "      <th>810</th>\n",
       "      <td>0.708262</td>\n",
       "    </tr>\n",
       "    <tr>\n",
       "      <th>811</th>\n",
       "      <td>0.408930</td>\n",
       "    </tr>\n",
       "    <tr>\n",
       "      <th>812</th>\n",
       "      <td>0.384941</td>\n",
       "    </tr>\n",
       "    <tr>\n",
       "      <th>813</th>\n",
       "      <td>0.389483</td>\n",
       "    </tr>\n",
       "    <tr>\n",
       "      <th>814</th>\n",
       "      <td>0.560629</td>\n",
       "    </tr>\n",
       "    <tr>\n",
       "      <th>815</th>\n",
       "      <td>0.433005</td>\n",
       "    </tr>\n",
       "    <tr>\n",
       "      <th>816</th>\n",
       "      <td>0.809061</td>\n",
       "    </tr>\n",
       "    <tr>\n",
       "      <th>817</th>\n",
       "      <td>0.531295</td>\n",
       "    </tr>\n",
       "    <tr>\n",
       "      <th>818</th>\n",
       "      <td>0.891433</td>\n",
       "    </tr>\n",
       "    <tr>\n",
       "      <th>819</th>\n",
       "      <td>0.908187</td>\n",
       "    </tr>\n",
       "    <tr>\n",
       "      <th>820</th>\n",
       "      <td>0.710980</td>\n",
       "    </tr>\n",
       "    <tr>\n",
       "      <th>821</th>\n",
       "      <td>0.342542</td>\n",
       "    </tr>\n",
       "    <tr>\n",
       "      <th>822</th>\n",
       "      <td>0.947261</td>\n",
       "    </tr>\n",
       "    <tr>\n",
       "      <th>823</th>\n",
       "      <td>0.684759</td>\n",
       "    </tr>\n",
       "    <tr>\n",
       "      <th>824</th>\n",
       "      <td>0.702870</td>\n",
       "    </tr>\n",
       "    <tr>\n",
       "      <th>825</th>\n",
       "      <td>0.638473</td>\n",
       "    </tr>\n",
       "    <tr>\n",
       "      <th>826</th>\n",
       "      <td>0.813074</td>\n",
       "    </tr>\n",
       "    <tr>\n",
       "      <th>827</th>\n",
       "      <td>0.473448</td>\n",
       "    </tr>\n",
       "    <tr>\n",
       "      <th>828</th>\n",
       "      <td>0.518672</td>\n",
       "    </tr>\n",
       "    <tr>\n",
       "      <th>829</th>\n",
       "      <td>0.566655</td>\n",
       "    </tr>\n",
       "    <tr>\n",
       "      <th>830</th>\n",
       "      <td>0.969713</td>\n",
       "    </tr>\n",
       "  </tbody>\n",
       "</table>\n",
       "<p>831 rows × 1 columns</p>\n",
       "</div>"
      ],
      "text/plain": [
       "      average\n",
       "0    0.717901\n",
       "1    0.858098\n",
       "2    0.795028\n",
       "3    0.732776\n",
       "4    0.811068\n",
       "5    0.790576\n",
       "6    0.719914\n",
       "7    0.891296\n",
       "8    0.564857\n",
       "9    0.922868\n",
       "10   0.792293\n",
       "11   0.882392\n",
       "12   0.599987\n",
       "13   0.691520\n",
       "14   0.759557\n",
       "15   0.607752\n",
       "16   0.725742\n",
       "17   0.646733\n",
       "18   0.774520\n",
       "19   0.829265\n",
       "20   0.760822\n",
       "21   0.750826\n",
       "22   0.758883\n",
       "23   0.900569\n",
       "24   0.777617\n",
       "25   0.595991\n",
       "26   0.666438\n",
       "27   0.726558\n",
       "28   0.504826\n",
       "29   0.642752\n",
       "..        ...\n",
       "801  0.759213\n",
       "802  0.775050\n",
       "803  0.796786\n",
       "804  0.744498\n",
       "805  0.688230\n",
       "806  0.577810\n",
       "807  0.814134\n",
       "808  0.450314\n",
       "809  0.873341\n",
       "810  0.708262\n",
       "811  0.408930\n",
       "812  0.384941\n",
       "813  0.389483\n",
       "814  0.560629\n",
       "815  0.433005\n",
       "816  0.809061\n",
       "817  0.531295\n",
       "818  0.891433\n",
       "819  0.908187\n",
       "820  0.710980\n",
       "821  0.342542\n",
       "822  0.947261\n",
       "823  0.684759\n",
       "824  0.702870\n",
       "825  0.638473\n",
       "826  0.813074\n",
       "827  0.473448\n",
       "828  0.518672\n",
       "829  0.566655\n",
       "830  0.969713\n",
       "\n",
       "[831 rows x 1 columns]"
      ]
     },
     "execution_count": 17,
     "metadata": {},
     "output_type": "execute_result"
    }
   ],
   "source": [
    "wat.transform(df_model)"
   ]
  },
  {
   "cell_type": "markdown",
   "metadata": {},
   "source": [
    "### Create a transformer for preprocessing the reviews"
   ]
  },
  {
   "cell_type": "markdown",
   "metadata": {},
   "source": [
    "#### Get the lemmatized review for just one review"
   ]
  },
  {
   "cell_type": "code",
   "execution_count": 18,
   "metadata": {
    "collapsed": false
   },
   "outputs": [],
   "source": [
    "one_review = df_model.iloc[0, 2]"
   ]
  },
  {
   "cell_type": "code",
   "execution_count": 19,
   "metadata": {
    "collapsed": true
   },
   "outputs": [],
   "source": [
    "nlp = spacy.load('en')"
   ]
  },
  {
   "cell_type": "code",
   "execution_count": 20,
   "metadata": {
    "collapsed": false
   },
   "outputs": [],
   "source": [
    "sample_doc = nlp(one_review)"
   ]
  },
  {
   "cell_type": "code",
   "execution_count": 21,
   "metadata": {
    "collapsed": false
   },
   "outputs": [],
   "source": [
    "clean_doc = ''\n",
    "for word in sample_doc:\n",
    "    if word.is_stop == False:\n",
    "        clean_doc += word.lemma_ + ' '\n",
    "clean_doc = nlp(clean_doc)"
   ]
  },
  {
   "cell_type": "code",
   "execution_count": 22,
   "metadata": {
    "collapsed": true
   },
   "outputs": [
    {
     "name": "stdout",
     "output_type": "stream",
     "text": [
      "hipster coffee galore ! happen good ol cup joe ?\n",
      "need expensive ?\n",
      "line long , figure coffee mind blow .\n",
      "impressed . enjoy !\n"
     ]
    }
   ],
   "source": [
    "for sent in clean_doc.sents:\n",
    "    print(sent)"
   ]
  },
  {
   "cell_type": "markdown",
   "metadata": {},
   "source": [
    "#### Generalize to all reviews"
   ]
  },
  {
   "cell_type": "code",
   "execution_count": 23,
   "metadata": {
    "collapsed": true
   },
   "outputs": [],
   "source": [
    "test_df = df_model.iloc[:100, :]"
   ]
  },
  {
   "cell_type": "code",
   "execution_count": 24,
   "metadata": {
    "collapsed": false
   },
   "outputs": [],
   "source": [
    "ct = CleanText('reviews')\n",
    "\n",
    "test_ct = ct.transform(test_df)"
   ]
  },
  {
   "cell_type": "code",
   "execution_count": 25,
   "metadata": {
    "collapsed": false
   },
   "outputs": [],
   "source": [
    "tf = TfidfVectorizer()\n",
    "\n",
    "tf_t = tf.fit_transform(test_ct.clean_reviews)"
   ]
  },
  {
   "cell_type": "code",
   "execution_count": 26,
   "metadata": {
    "collapsed": true
   },
   "outputs": [
    {
     "data": {
      "text/plain": [
       "matrix([[ 0.,  0.,  0., ...,  0.,  0.,  0.],\n",
       "        [ 0.,  0.,  0., ...,  0.,  0.,  0.],\n",
       "        [ 0.,  0.,  0., ...,  0.,  0.,  0.],\n",
       "        ..., \n",
       "        [ 0.,  0.,  0., ...,  0.,  0.,  0.],\n",
       "        [ 0.,  0.,  0., ...,  0.,  0.,  0.],\n",
       "        [ 0.,  0.,  0., ...,  0.,  0.,  0.]])"
      ]
     },
     "execution_count": 26,
     "metadata": {},
     "output_type": "execute_result"
    }
   ],
   "source": [
    "tf_t.todense()"
   ]
  },
  {
   "cell_type": "code",
   "execution_count": 27,
   "metadata": {
    "collapsed": false
   },
   "outputs": [
    {
     "data": {
      "text/plain": [
       "str"
      ]
     },
     "execution_count": 27,
     "metadata": {},
     "output_type": "execute_result"
    }
   ],
   "source": [
    "type(test_ct.clean_reviews[0])"
   ]
  },
  {
   "cell_type": "code",
   "execution_count": 28,
   "metadata": {
    "collapsed": false
   },
   "outputs": [
    {
     "name": "stdout",
     "output_type": "stream",
     "text": [
      "hipster coffee galore ! happen good ol cup joe ? need expensive ? line long , figure coffee mind blow . impressed . enjoy ! \n"
     ]
    }
   ],
   "source": [
    "print(test_ct.clean_reviews[0])"
   ]
  },
  {
   "cell_type": "markdown",
   "metadata": {},
   "source": [
    "## Build the Pipeline"
   ]
  },
  {
   "cell_type": "code",
   "execution_count": 62,
   "metadata": {
    "collapsed": false
   },
   "outputs": [],
   "source": [
    "DB_baseline = Pipeline([\n",
    "        ('combined_features', FeatureUnion([\n",
    "                    \n",
    "            ('split_num', SeparateFeatures(num_cols=['rating'])),\n",
    "            ('text_vect', Pipeline([\n",
    "                                \n",
    "                ('split_text', SeparateFeatures()),\n",
    "                ('to_series', DataframeToSeries(col='reviews')),\n",
    "                ('tfidf', TfidfVectorizer()),\n",
    "                ('densify', DensifyTransform())\n",
    "            ]))           \n",
    "        ])),\n",
    "        ('pca', PCA(n_components=2)),\n",
    "        ('model', DBSCAN())\n",
    "    ])"
   ]
  },
  {
   "cell_type": "markdown",
   "metadata": {},
   "source": [
    "### Since the entire pipeline is crashing the kernel, the pipeline will be broken down into steps"
   ]
  },
  {
   "cell_type": "markdown",
   "metadata": {},
   "source": [
    "#### Set a smaller test dataframe"
   ]
  },
  {
   "cell_type": "code",
   "execution_count": 10,
   "metadata": {
    "collapsed": true
   },
   "outputs": [],
   "source": [
    "test_df = df_model.iloc[:500, :]"
   ]
  },
  {
   "cell_type": "markdown",
   "metadata": {},
   "source": [
    "#### Set the text processing steps"
   ]
  },
  {
   "cell_type": "code",
   "execution_count": 38,
   "metadata": {
    "collapsed": false
   },
   "outputs": [],
   "source": [
    "text_processing = Pipeline([\n",
    "                ('clean', CleanText('reviews')),\n",
    "                ('to_series', DataframeToSeries(col='clean_reviews')),\n",
    "                ('tfidf', TfidfVectorizer())\n",
    "            ])"
   ]
  },
  {
   "cell_type": "code",
   "execution_count": 39,
   "metadata": {
    "collapsed": false
   },
   "outputs": [
    {
     "data": {
      "text/plain": [
       "(1, 3626)"
      ]
     },
     "execution_count": 39,
     "metadata": {},
     "output_type": "execute_result"
    }
   ],
   "source": [
    "tp = text_processing.fit_transform(test_df)\n",
    "tp_dense = tp.todense()\n",
    "tp_dense[0].shape"
   ]
  },
  {
   "cell_type": "markdown",
   "metadata": {},
   "source": [
    "#### Run PCA with 2 latent features"
   ]
  },
  {
   "cell_type": "code",
   "execution_count": 34,
   "metadata": {
    "collapsed": false
   },
   "outputs": [],
   "source": [
    "pca = PCA(n_components=2)"
   ]
  },
  {
   "cell_type": "code",
   "execution_count": 42,
   "metadata": {
    "collapsed": false
   },
   "outputs": [],
   "source": [
    "tpm = pca.fit_transform(tp_dense)"
   ]
  },
  {
   "cell_type": "code",
   "execution_count": 43,
   "metadata": {
    "collapsed": false
   },
   "outputs": [
    {
     "data": {
      "text/plain": [
       "<matplotlib.collections.PathCollection at 0x1150987f0>"
      ]
     },
     "execution_count": 43,
     "metadata": {},
     "output_type": "execute_result"
    },
    {
     "data": {
      "image/png": "[encoded data removed]",
      "text/plain": [
       "<matplotlib.figure.Figure at 0x11d825b38>"
      ]
     },
     "metadata": {},
     "output_type": "display_data"
    }
   ],
   "source": [
    "plt.scatter(tpm[:,0], tpm[:,1])"
   ]
  },
  {
   "cell_type": "code",
   "execution_count": 44,
   "metadata": {
    "collapsed": false
   },
   "outputs": [
    {
     "name": "stdout",
     "output_type": "stream",
     "text": [
      "[ 0.01798397  0.00984968]\n"
     ]
    }
   ],
   "source": [
    "print(pca.explained_variance_ratio_)"
   ]
  },
  {
   "cell_type": "markdown",
   "metadata": {},
   "source": [
    "#### Try various numbers of latent features"
   ]
  },
  {
   "cell_type": "code",
   "execution_count": 49,
   "metadata": {
    "collapsed": false,
    "scrolled": false
   },
   "outputs": [],
   "source": [
    "pca_range = [i for i in range(50)]\n",
    "pca_variances = []\n",
    "\n",
    "for num in pca_range:\n",
    "    pca_obj = PCA(n_components=num)\n",
    "    pca_fit = pca_obj.fit_transform(tp_dense)\n",
    "    pca_variances.append(pca_obj.explained_variance_ratio_)"
   ]
  },
  {
   "cell_type": "code",
   "execution_count": 54,
   "metadata": {
    "collapsed": false
   },
   "outputs": [
    {
     "data": {
      "image/png": "[encoded data removed]",
      "text/plain": [
       "<matplotlib.figure.Figure at 0x11d9d9a90>"
      ]
     },
     "metadata": {},
     "output_type": "display_data"
    }
   ],
   "source": [
    "fig = plt.figure(figsize=(20,10))\n",
    "ax = fig.add_subplot(1,1,1)\n",
    "\n",
    "ax.bar([x for x in range(len(pca_obj.explained_variance_ratio_))],pca_obj.explained_variance_ratio_)\n",
    "\n",
    "ax.set_title(\"Explained variance\", size=32)\n",
    "ax.set_ylabel(\"Percent explained\", size=24)\n",
    "ax.set_xlabel(\"Principal Component\", size=24);"
   ]
  },
  {
   "cell_type": "code",
   "execution_count": 63,
   "metadata": {
    "collapsed": false
   },
   "outputs": [],
   "source": [
    "baseline = DB_baseline.fit(test_df)"
   ]
  },
  {
   "cell_type": "code",
   "execution_count": 66,
   "metadata": {
    "collapsed": false
   },
   "outputs": [
    {
     "data": {
      "text/plain": [
       "array([0, 1, 0, 0, 1, 0, 1, 1, 1, 0, 2, 0, 0, 1, 0, 1, 3, 1, 0, 0, 4, 2, 1,\n",
       "       1, 0, 4, 0, 1, 0, 4, 0, 0, 0, 0, 0, 1, 1, 0, 1, 1, 1, 1, 3, 4, 1, 0,\n",
       "       0, 1, 0, 1, 0, 0, 0, 1, 0, 1, 1, 1, 0, 2, 3, 1, 4, 0, 2, 0, 4, 0, 1,\n",
       "       0, 4, 0, 4, 0, 1, 0, 3, 1, 2, 0, 1, 4, 0, 0, 1, 4, 1, 0, 1, 4, 2, 1,\n",
       "       1, 1, 0, 0, 1, 1, 1, 0, 1, 4, 0, 4, 1, 1, 1, 0, 1, 1, 1, 1, 0, 0, 4,\n",
       "       1, 3, 4, 2, 0, 0, 2, 0, 1, 0, 3, 0, 1, 0, 0, 0, 1, 1, 0, 1, 1, 1, 1,\n",
       "       0, 1, 0, 0, 3, 0, 0, 0, 0, 0, 1, 1, 3, 1, 0, 1, 0, 0, 4, 1, 0, 0, 1,\n",
       "       1, 0, 4, 0, 3, 3, 3, 0, 1, 0, 1, 1, 1, 0, 1, 1, 1, 0, 0, 2, 1, 1, 2,\n",
       "       1, 1, 1, 1, 4, 0, 1, 4, 2, 3, 1, 4, 4, 1, 4, 1, 4, 1, 1, 1, 1, 1, 0,\n",
       "       0, 1, 0, 0, 3, 1, 0, 0, 0, 1, 1, 0, 1, 1, 0, 0, 1, 4, 0, 1, 1, 0, 0,\n",
       "       0, 0, 1, 1, 0, 1, 0, 1, 0, 0, 1, 1, 0, 4, 1, 1, 1, 1, 1, 0, 1, 0, 1,\n",
       "       1, 1, 0, 1, 1, 0, 0, 0, 1, 0, 1, 1, 1, 0, 0, 1, 1, 1, 0, 0, 1, 1, 1,\n",
       "       0, 1, 1, 0, 3, 4, 0, 0, 0, 4, 1, 1, 1, 1, 1, 1, 1, 1, 1, 1, 1, 4, 1,\n",
       "       1, 1, 1, 1, 1, 1, 1, 0, 3, 1, 0, 0, 1, 0, 1, 1, 1, 1, 0, 0, 1, 0, 1,\n",
       "       1, 1, 1, 3, 0, 0, 1, 1, 1, 1, 0, 0, 0, 1, 1, 0, 4, 0, 1, 0, 4, 0, 1,\n",
       "       0, 4, 1, 0, 1, 1, 0, 4, 0, 1, 0, 1, 0, 0, 1, 1, 1, 1, 1, 1, 1, 4, 1,\n",
       "       1, 4, 1, 1, 0, 1, 1, 1, 1, 1, 1, 4, 1, 1, 1, 1, 1, 2, 1, 1, 1, 1, 1,\n",
       "       0, 1, 2, 1, 1, 1, 1, 1, 1, 0, 2, 1, 1, 1, 1, 1, 1, 0, 1, 1, 1, 1, 1,\n",
       "       1, 1, 1, 1, 1, 1, 1, 1, 1, 1, 0, 0, 4, 0, 1, 1, 0, 1, 1, 1, 1, 0, 1,\n",
       "       1, 0, 0, 1, 0, 0, 0, 4, 0, 0, 1, 1, 4, 0, 0, 0, 1, 0, 4, 2, 4, 0, 0,\n",
       "       1, 0, 4, 1, 0, 0, 0, 0, 1, 1, 1, 0, 0, 1, 1, 1, 0, 0, 1, 1, 1, 2, 1,\n",
       "       2, 1, 1, 3, 0, 0, 2, 1, 1, 1, 0, 1, 0, 0, 0, 1, 1])"
      ]
     },
     "execution_count": 66,
     "metadata": {},
     "output_type": "execute_result"
    }
   ],
   "source": [
    "baseline.fit_predict(test_df)"
   ]
  },
  {
   "cell_type": "code",
   "execution_count": null,
   "metadata": {
    "collapsed": true
   },
   "outputs": [],
   "source": []
  },
  {
   "cell_type": "code",
   "execution_count": null,
   "metadata": {
    "collapsed": true
   },
   "outputs": [],
   "source": []
  },
  {
   "cell_type": "code",
   "execution_count": null,
   "metadata": {
    "collapsed": true
   },
   "outputs": [],
   "source": []
  },
  {
   "cell_type": "code",
   "execution_count": null,
   "metadata": {
    "collapsed": true
   },
   "outputs": [],
   "source": []
  },
  {
   "cell_type": "code",
   "execution_count": null,
   "metadata": {
    "collapsed": true
   },
   "outputs": [],
   "source": []
  },
  {
   "cell_type": "code",
   "execution_count": null,
   "metadata": {
    "collapsed": true
   },
   "outputs": [],
   "source": []
  }
 ],
 "metadata": {
  "anaconda-cloud": {},
  "kernelspec": {
   "display_name": "Python [default]",
   "language": "python",
   "name": "python3"
  },
  "language_info": {
   "codemirror_mode": {
    "name": "ipython",
    "version": 3
   },
   "file_extension": ".py",
   "mimetype": "text/x-python",
   "name": "python",
   "nbconvert_exporter": "python",
   "pygments_lexer": "ipython3",
   "version": "3.5.2"
  }
 },
 "nbformat": 4,
 "nbformat_minor": 1
}
