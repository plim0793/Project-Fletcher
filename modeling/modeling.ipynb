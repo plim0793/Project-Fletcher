{
 "cells": [
  {
   "cell_type": "markdown",
   "metadata": {},
   "source": [
    "# Modeling Yelp Data\n",
    "\n",
    "Paul Lim"
   ]
  },
  {
   "cell_type": "markdown",
   "metadata": {},
   "source": [
    "## Libraries"
   ]
  },
  {
   "cell_type": "code",
   "execution_count": 304,
   "metadata": {
    "collapsed": false
   },
   "outputs": [],
   "source": [
    "# Main imports\n",
    "import pandas as pd\n",
    "import numpy as np\n",
    "import matplotlib.pyplot as plt\n",
    "import seaborn as sns\n",
    "import matplotlib\n",
    "\n",
    "# sklearn\n",
    "from sklearn.model_selection import train_test_split, learning_curve, cross_val_score, RandomizedSearchCV\n",
    "from sklearn.preprocessing import label_binarize\n",
    "from sklearn.preprocessing import StandardScaler\n",
    "from sklearn.pipeline import make_pipeline\n",
    "from sklearn import pipeline, feature_selection, decomposition\n",
    "from sklearn.base import BaseEstimator, TransformerMixin\n",
    "from sklearn.externals import joblib\n",
    "from sklearn.feature_extraction.text import TfidfVectorizer\n",
    "from sklearn.pipeline import Pipeline, FeatureUnion\n",
    "from sklearn.cluster import DBSCAN, AgglomerativeClustering, Birch\n",
    "from sklearn.decomposition import PCA, NMF\n",
    "from sklearn.metrics import silhouette_score\n",
    "\n",
    "# from sklearn.naive_bayes import GaussianNB, MultinomialNB\n",
    "# from sklearn.linear_model import LogisticRegression, SGDClassifier\n",
    "# from sklearn.neighbors import KNeighborsClassifier\n",
    "# from sklearn.metrics import accuracy_score, precision_score, recall_score, f1_score, fbeta_score\n",
    "# from sklearn.metrics import roc_curve, roc_auc_score, precision_recall_curve\n",
    "# from sklearn.naive_bayes import GaussianNB\n",
    "# from sklearn.svm import SVC\n",
    "# from sklearn.tree import DecisionTreeClassifier\n",
    "# from sklearn.ensemble import RandomForestClassifier\n",
    "\n",
    "# NLP \n",
    "import nltk\n",
    "from nltk.corpus import stopwords\n",
    "from nltk.sentiment.vader import SentimentIntensityAnalyzer\n",
    "from textblob import TextBlob\n",
    "import spacy\n",
    "import gensim\n",
    "from gensim import models\n",
    "from gensim.models import word2vec\n",
    "import snowballstemmer\n",
    "\n",
    "# Misc.\n",
    "import re\n",
    "import datetime\n",
    "import time\n",
    "import logging\n",
    "import math\n",
    "\n",
    "% matplotlib inline\n",
    "\n",
    "sns.set_style(\"white\")\n",
    "sns.set_style('ticks')\n",
    "sns.set_style({'xtick.direction': u'in', 'ytick.direction': u'in'})\n",
    "sns.set_style({'legend.frameon': True})\n",
    "\n",
    "logging.basicConfig(format='%(asctime)s : %(levelname)s : %(message)s', level=logging.INFO)"
   ]
  },
  {
   "cell_type": "markdown",
   "metadata": {},
   "source": [
    "## Running List of Functions/Classes"
   ]
  },
  {
   "cell_type": "markdown",
   "metadata": {},
   "source": [
    "### Classes"
   ]
  },
  {
   "cell_type": "code",
   "execution_count": 280,
   "metadata": {
    "collapsed": false
   },
   "outputs": [],
   "source": [
    "class DataframeToSeriesTransformer(BaseEstimator, TransformerMixin):\n",
    "        \n",
    "    def __init__(self, col=None):\n",
    "        self.col = col\n",
    "    \n",
    "    def fit(self, x, y=None):\n",
    "        return self\n",
    "    \n",
    "    def transform(self, X):\n",
    "        if self.col:\n",
    "            print(\"DTST: \", X[self.col].shape)\n",
    "            return X[self.col]\n",
    "        else:\n",
    "            return X\n",
    "        \n",
    "class SeparateFeaturesTransformer(BaseEstimator, TransformerMixin):\n",
    "    \n",
    "    def __init__(self, num_cols=None, text_cols=None):\n",
    "        self.num_cols = num_cols\n",
    "        self.text_cols = text_cols\n",
    "        \n",
    "    def fit(self, x, y=None):\n",
    "        return self\n",
    "    \n",
    "    def transform(self, X):\n",
    "        if self.num_cols:\n",
    "            print(\"SFT: \", X.loc[:, self.num_cols].shape)\n",
    "            return X.loc[:, self.num_cols]\n",
    "        elif self.text_cols:\n",
    "            print(\"SFT: \", X.loc[:, self.text_cols].shape)\n",
    "            return X.loc[:, self.text_cols]\n",
    "        else:\n",
    "            return X\n",
    "        \n",
    "class WilsonAverageTransformer(BaseEstimator, TransformerMixin):\n",
    "    \n",
    "    def __init__(self, num_col=None, biz_list=None):\n",
    "        self.num_col = num_col\n",
    "        self.biz_list = biz_list\n",
    "    \n",
    "    def fit(self, x, y=None):\n",
    "        return self\n",
    "    \n",
    "    def transform(self, X):\n",
    "        if self.num_col and self.biz_list.all():\n",
    "            scores = get_average_rating(X, self.biz_list)\n",
    "            \n",
    "            X_avg = pd.DataFrame({'average': scores})\n",
    "            print(\"WAT: \", X_avg.shape)\n",
    "            return X_avg\n",
    "        else:\n",
    "            return X\n",
    "        \n",
    "class CleanTextTransformer(BaseEstimator, TransformerMixin):\n",
    "\n",
    "    def __init__(self, text_col=None):\n",
    "        self.text_col = text_col\n",
    "        \n",
    "    def fit(self, x, y=None):\n",
    "        return self\n",
    "    \n",
    "    def transform(self, X):\n",
    "#         NLP = spacy.load('en')\n",
    "        stemmer = snowballstemmer.EnglishStemmer()\n",
    "        stop = stopwords.words('english')\n",
    "        stop_list = stemmer.stemWords(stop)\n",
    "        stop_list = set(stop_list)\n",
    "        stop = set(stop + list(stop_list))\n",
    "        \n",
    "        if self.text_col:\n",
    "            df = pd.DataFrame()\n",
    "            clean_review_list = []\n",
    "            \n",
    "            for review in X.loc[:, self.text_col]:\n",
    "                clean_review = ''\n",
    "                \n",
    "                for word in TextBlob(review).words:\n",
    "                    if word not in stop:\n",
    "                        clean_review += word.lemmatize() + ' '\n",
    "                        \n",
    "#                 clean_review = NLP(clean_review)\n",
    "                clean_review_list.append(clean_review)\n",
    "                        \n",
    "            df['clean_reviews'] = clean_review_list\n",
    "            print(\"CTT: \", df.shape)\n",
    "            return df\n",
    "        else:\n",
    "            return X\n",
    "        \n",
    "class DensifyTransformer(BaseEstimator, TransformerMixin):\n",
    "\n",
    "    def fit(self, X, y=None):\n",
    "        return self\n",
    "\n",
    "    def transform(self, X):\n",
    "        df = pd.DataFrame(X.toarray())\n",
    "        print(\"DT: \", df.shape)\n",
    "        return df\n",
    "    \n",
    "class SentimentTransformer(BaseEstimator, TransformerMixin):\n",
    "    \n",
    "    def __init__(self, text_col=None):\n",
    "        self.text_col = text_col\n",
    "    \n",
    "    def fit(self, x, y=None):\n",
    "        return self\n",
    "    \n",
    "    def transform(self, X):\n",
    "        if self.text_col:\n",
    "            df = pd.DataFrame()\n",
    "            sum_pol_list = []\n",
    "            sum_sub_list = []\n",
    "\n",
    "            for doc in X.loc[:, self.text_col]:\n",
    "                sum_pol = 0\n",
    "                sum_sub = 0\n",
    "                doc_blob = TextBlob(doc)\n",
    "\n",
    "                for sent in doc_blob.sentences:\n",
    "                    sum_pol += sent.sentiment[0]\n",
    "                    sum_sub += sent.sentiment[1]\n",
    "\n",
    "                sum_pol_list.append(sum_pol)\n",
    "                sum_sub_list.append(sum_sub)\n",
    "\n",
    "            df['pol'] = sum_pol_list\n",
    "            df['sub'] = sum_sub_list\n",
    "            df['clean_reviews'] = X.loc[:, self.text_col] # Need to keep the clean reviews for the W2V transformer.\n",
    "            print(\"ST: \", df.shape)\n",
    "            return df\n",
    "        else:\n",
    "            return X\n",
    "\n",
    "class Word2VecTransformer(BaseEstimator, TransformerMixin):\n",
    "    \n",
    "    def __init__(self, text_col=None, w2v=None):\n",
    "        self.text_col = text_col\n",
    "        self.w2v = w2v\n",
    "        \n",
    "    def fit(self, x, y=None):\n",
    "        return self\n",
    "    \n",
    "    def transform(self, X):\n",
    "        if self.text_col:\n",
    "            avg_w2v_list = []\n",
    "            \n",
    "            for review in X.loc[:, self.text_col]:\n",
    "                avg_w2v = np.zeros(300)\n",
    "                count = 0\n",
    "                \n",
    "                for word in review:\n",
    "                    try:\n",
    "                        avg_w2v += w2v.word_vec(word)\n",
    "                        count += 1\n",
    "                    except Exception:\n",
    "                        continue\n",
    "\n",
    "                avg_w2v_list.append(avg_w2v/count)\n",
    "            df = pd.DataFrame(avg_w2v_list)\n",
    "#             print(df.head())\n",
    "            print(\"W2V: \", df.shape)\n",
    "            return df\n",
    "        else:\n",
    "            return X\n",
    "        \n",
    "class ToDataFrameTransformer(BaseEstimator, TransformerMixin):\n",
    "    \n",
    "    def fit(self, x, y=None):\n",
    "        return self\n",
    "    \n",
    "    def transform(self, X):\n",
    "        df = pd.DataFrame(X)\n",
    "#         print(df.head())\n",
    "        print(\"TDFT: \", df.shape)\n",
    "        return df\n",
    "        \n",
    "class DropTextTransformer(BaseEstimator, TransformerMixin):\n",
    "    \n",
    "    def __init__(self, text_col=None):\n",
    "        self.text_col = text_col\n",
    "        \n",
    "    def fit(self, x, y=None):\n",
    "        return self\n",
    "    \n",
    "    def transform(self, X):\n",
    "        if self.text_col:\n",
    "            df = X.drop(self.text_col, axis=1)\n",
    "            print(\"DTT: \", df.shape)\n",
    "            return df"
   ]
  },
  {
   "cell_type": "markdown",
   "metadata": {},
   "source": [
    "### Functions"
   ]
  },
  {
   "cell_type": "code",
   "execution_count": 290,
   "metadata": {
    "collapsed": false
   },
   "outputs": [],
   "source": [
    "def confidence(pos, neg):\n",
    "    '''\n",
    "    Calculates the Wilson confidence where pos is the number of positive ratings\n",
    "    and neg is the number of negative ratings.\n",
    "    '''\n",
    "    n = pos + neg\n",
    "    \n",
    "    if n == 0:\n",
    "        return 0\n",
    "    z = 1.96 # 95% confidence interval\n",
    "    phat = float(pos) / n\n",
    "    return (((phat + z*z/(2*n) - z * np.sqrt((phat*(1-phat)+z*z/(4*n))/n))/(1+z*z/n)))\n",
    "\n",
    "def get_average_rating(df, biz_list):\n",
    "    '''\n",
    "    Compiles the list of average ratings for each business in biz_list.\n",
    "    '''\n",
    "    wils_list = []\n",
    "    \n",
    "    for biz in biz_list:\n",
    "        ind_biz = df[df['name'] == biz]\n",
    "        \n",
    "        pos_count = 0\n",
    "        neg_count = 0\n",
    "        \n",
    "        for rating in ind_biz['rating']:\n",
    "            if rating > 3:\n",
    "                pos_count += 1\n",
    "            else:\n",
    "                neg_count += 1\n",
    "        \n",
    "        wils_conf = confidence(pos_count, neg_count)\n",
    "        wils_list.append(wils_conf)\n",
    "    return wils_list\n",
    "\n",
    "def sample_cluster(df, group_by_cols, size=5):\n",
    "    sample_fn = lambda obj: obj.loc[np.random.choice(obj.index, size, replace=True), :]\n",
    "    df = df.groupby(group_by_cols, as_index=False).apply(sample_fn)\n",
    "    \n",
    "    return df\n",
    "\n",
    "def get_metrics(pipe, model, df_orig):\n",
    "    df_transformed = pipe.fit_transform(df_orig)\n",
    "#     print(df_transformed[0])\n",
    "    pred = model.fit_predict(df_transformed)\n",
    "    print(\"Number of Clusters: \", len(np.unique(pred)))\n",
    "    print(\"Silhouette Coefficient: %0.3f\" % silhouette_score(df_transformed, model.labels_))\n",
    "    return df_transformed, pred\n",
    "\n",
    "def model_metrics(model_dict, pipe, df):\n",
    "\n",
    "    model_dfs = {}\n",
    "    for name, model in model_dict.items():\n",
    "        print(name)\n",
    "        temp_df, temp_score = get_metrics(pipe, model, df)\n",
    "        model_dfs[name] = [temp_df, temp_score]\n",
    "    return model_dfs"
   ]
  },
  {
   "cell_type": "markdown",
   "metadata": {},
   "source": [
    "## Data Preprocessing"
   ]
  },
  {
   "cell_type": "markdown",
   "metadata": {},
   "source": [
    "### Load in data"
   ]
  },
  {
   "cell_type": "code",
   "execution_count": 4,
   "metadata": {
    "collapsed": false
   },
   "outputs": [],
   "source": [
    "df_init = joblib.load('../data/df_tot')"
   ]
  },
  {
   "cell_type": "markdown",
   "metadata": {},
   "source": [
    "### Reorder columns"
   ]
  },
  {
   "cell_type": "code",
   "execution_count": 5,
   "metadata": {
    "collapsed": false
   },
   "outputs": [],
   "source": [
    "df_init = df_init[['name', 'rating' ,'reviews']]"
   ]
  },
  {
   "cell_type": "markdown",
   "metadata": {},
   "source": [
    "### Change rating to int type"
   ]
  },
  {
   "cell_type": "code",
   "execution_count": 6,
   "metadata": {
    "collapsed": true
   },
   "outputs": [],
   "source": [
    "df_init['rating'] = df_init['rating'].apply(lambda x: int(x))"
   ]
  },
  {
   "cell_type": "markdown",
   "metadata": {},
   "source": [
    "### Create holdout set"
   ]
  },
  {
   "cell_type": "code",
   "execution_count": 7,
   "metadata": {
    "collapsed": false
   },
   "outputs": [
    {
     "name": "stdout",
     "output_type": "stream",
     "text": [
      "Holdout Size:  40939\n",
      "CV Size:  163757\n"
     ]
    }
   ],
   "source": [
    "df_shuffled = df_init.sample(frac=1)\n",
    "\n",
    "holdout_size = round(len(df_shuffled)*0.2)\n",
    "\n",
    "df_holdout = df_shuffled.iloc[:holdout_size, :]\n",
    "df_model = df_shuffled.iloc[holdout_size:, :]\n",
    "\n",
    "print(\"Holdout Size: \", len(df_holdout))\n",
    "print(\"CV Size: \", len(df_model))"
   ]
  },
  {
   "cell_type": "markdown",
   "metadata": {},
   "source": [
    "### Sort the dataframe for cross-validation"
   ]
  },
  {
   "cell_type": "code",
   "execution_count": 8,
   "metadata": {
    "collapsed": false
   },
   "outputs": [
    {
     "name": "stderr",
     "output_type": "stream",
     "text": [
      "/Users/plim0793/anaconda/lib/python3.5/site-packages/ipykernel/__main__.py:1: FutureWarning: sort(....) is deprecated, use sort_index(.....)\n",
      "  if __name__ == '__main__':\n"
     ]
    }
   ],
   "source": [
    "df_model = df_model.sort()"
   ]
  },
  {
   "cell_type": "markdown",
   "metadata": {},
   "source": [
    "### Create transformers for splitting text and num columns"
   ]
  },
  {
   "cell_type": "code",
   "execution_count": 74,
   "metadata": {
    "collapsed": true
   },
   "outputs": [
    {
     "name": "stdout",
     "output_type": "stream",
     "text": [
      "                                             reviews\n",
      "1  A pretty hipster, modern spacious place to do ...\n",
      "2  Great place to grab a coffee and you can get t...\n",
      "3  Coffee is amazing! Overpriced as usual. There'...\n",
      "4  Big time coffee lover. First time customer and...\n",
      "5  Cool vibes abound in this warehouse-style open...\n",
      "   rating\n",
      "1       4\n",
      "2       5\n",
      "3       4\n",
      "4       4\n",
      "5       5\n"
     ]
    }
   ],
   "source": [
    "t = SeparateFeatures(text_cols=['reviews'])\n",
    "n = SeparateFeatures(num_cols=['rating'])\n",
    "\n",
    "print(t.transform(df_model).head())\n",
    "print(n.transform(df_model).head())"
   ]
  },
  {
   "cell_type": "code",
   "execution_count": 11,
   "metadata": {
    "collapsed": false
   },
   "outputs": [
    {
     "data": {
      "text/plain": [
       "(163757, 3)"
      ]
     },
     "execution_count": 11,
     "metadata": {},
     "output_type": "execute_result"
    }
   ],
   "source": [
    "t.transform(df_model).shape\n",
    "n.transform(df_model).shape"
   ]
  },
  {
   "cell_type": "markdown",
   "metadata": {},
   "source": [
    "### Create transformer for averaging ratings for each business (may not need this since I might not average across the each business)"
   ]
  },
  {
   "cell_type": "markdown",
   "metadata": {},
   "source": [
    "#### Get Wilson average for one business"
   ]
  },
  {
   "cell_type": "code",
   "execution_count": 12,
   "metadata": {
    "collapsed": false
   },
   "outputs": [],
   "source": [
    "one_biz = df_model[df_model['name'] == '0_FourBarrelCoffee']"
   ]
  },
  {
   "cell_type": "code",
   "execution_count": 13,
   "metadata": {
    "collapsed": false
   },
   "outputs": [],
   "source": [
    "pos_count = 0\n",
    "neg_count = 0\n",
    "\n",
    "for rating in one_biz['rating']:\n",
    "    if rating > 3:\n",
    "        pos_count += 1\n",
    "    else:\n",
    "        neg_count += 1\n",
    "        \n",
    "wil_conf = confidence(pos_count, neg_count)"
   ]
  },
  {
   "cell_type": "markdown",
   "metadata": {},
   "source": [
    "#### Generalize to all businesses"
   ]
  },
  {
   "cell_type": "code",
   "execution_count": 14,
   "metadata": {
    "collapsed": false
   },
   "outputs": [],
   "source": [
    "biz_list = df_model['name'].unique()"
   ]
  },
  {
   "cell_type": "code",
   "execution_count": 15,
   "metadata": {
    "collapsed": false
   },
   "outputs": [],
   "source": [
    "wils_scores = get_average_rating(df_model, biz_list)"
   ]
  },
  {
   "cell_type": "markdown",
   "metadata": {},
   "source": [
    "#### Create the transformer class"
   ]
  },
  {
   "cell_type": "code",
   "execution_count": 16,
   "metadata": {
    "collapsed": true
   },
   "outputs": [],
   "source": [
    "wat = WilsonAverageTransformer(num_col='rating', biz_list=biz_list)"
   ]
  },
  {
   "cell_type": "code",
   "execution_count": 17,
   "metadata": {
    "collapsed": true
   },
   "outputs": [
    {
     "data": {
      "text/html": [
       "<div>\n",
       "<table border=\"1\" class=\"dataframe\">\n",
       "  <thead>\n",
       "    <tr style=\"text-align: right;\">\n",
       "      <th></th>\n",
       "      <th>average</th>\n",
       "    </tr>\n",
       "  </thead>\n",
       "  <tbody>\n",
       "    <tr>\n",
       "      <th>0</th>\n",
       "      <td>0.717901</td>\n",
       "    </tr>\n",
       "    <tr>\n",
       "      <th>1</th>\n",
       "      <td>0.858098</td>\n",
       "    </tr>\n",
       "    <tr>\n",
       "      <th>2</th>\n",
       "      <td>0.795028</td>\n",
       "    </tr>\n",
       "    <tr>\n",
       "      <th>3</th>\n",
       "      <td>0.732776</td>\n",
       "    </tr>\n",
       "    <tr>\n",
       "      <th>4</th>\n",
       "      <td>0.811068</td>\n",
       "    </tr>\n",
       "    <tr>\n",
       "      <th>5</th>\n",
       "      <td>0.790576</td>\n",
       "    </tr>\n",
       "    <tr>\n",
       "      <th>6</th>\n",
       "      <td>0.719914</td>\n",
       "    </tr>\n",
       "    <tr>\n",
       "      <th>7</th>\n",
       "      <td>0.891296</td>\n",
       "    </tr>\n",
       "    <tr>\n",
       "      <th>8</th>\n",
       "      <td>0.564857</td>\n",
       "    </tr>\n",
       "    <tr>\n",
       "      <th>9</th>\n",
       "      <td>0.922868</td>\n",
       "    </tr>\n",
       "    <tr>\n",
       "      <th>10</th>\n",
       "      <td>0.792293</td>\n",
       "    </tr>\n",
       "    <tr>\n",
       "      <th>11</th>\n",
       "      <td>0.882392</td>\n",
       "    </tr>\n",
       "    <tr>\n",
       "      <th>12</th>\n",
       "      <td>0.599987</td>\n",
       "    </tr>\n",
       "    <tr>\n",
       "      <th>13</th>\n",
       "      <td>0.691520</td>\n",
       "    </tr>\n",
       "    <tr>\n",
       "      <th>14</th>\n",
       "      <td>0.759557</td>\n",
       "    </tr>\n",
       "    <tr>\n",
       "      <th>15</th>\n",
       "      <td>0.607752</td>\n",
       "    </tr>\n",
       "    <tr>\n",
       "      <th>16</th>\n",
       "      <td>0.725742</td>\n",
       "    </tr>\n",
       "    <tr>\n",
       "      <th>17</th>\n",
       "      <td>0.646733</td>\n",
       "    </tr>\n",
       "    <tr>\n",
       "      <th>18</th>\n",
       "      <td>0.774520</td>\n",
       "    </tr>\n",
       "    <tr>\n",
       "      <th>19</th>\n",
       "      <td>0.829265</td>\n",
       "    </tr>\n",
       "    <tr>\n",
       "      <th>20</th>\n",
       "      <td>0.760822</td>\n",
       "    </tr>\n",
       "    <tr>\n",
       "      <th>21</th>\n",
       "      <td>0.750826</td>\n",
       "    </tr>\n",
       "    <tr>\n",
       "      <th>22</th>\n",
       "      <td>0.758883</td>\n",
       "    </tr>\n",
       "    <tr>\n",
       "      <th>23</th>\n",
       "      <td>0.900569</td>\n",
       "    </tr>\n",
       "    <tr>\n",
       "      <th>24</th>\n",
       "      <td>0.777617</td>\n",
       "    </tr>\n",
       "    <tr>\n",
       "      <th>25</th>\n",
       "      <td>0.595991</td>\n",
       "    </tr>\n",
       "    <tr>\n",
       "      <th>26</th>\n",
       "      <td>0.666438</td>\n",
       "    </tr>\n",
       "    <tr>\n",
       "      <th>27</th>\n",
       "      <td>0.726558</td>\n",
       "    </tr>\n",
       "    <tr>\n",
       "      <th>28</th>\n",
       "      <td>0.504826</td>\n",
       "    </tr>\n",
       "    <tr>\n",
       "      <th>29</th>\n",
       "      <td>0.642752</td>\n",
       "    </tr>\n",
       "    <tr>\n",
       "      <th>...</th>\n",
       "      <td>...</td>\n",
       "    </tr>\n",
       "    <tr>\n",
       "      <th>801</th>\n",
       "      <td>0.759213</td>\n",
       "    </tr>\n",
       "    <tr>\n",
       "      <th>802</th>\n",
       "      <td>0.775050</td>\n",
       "    </tr>\n",
       "    <tr>\n",
       "      <th>803</th>\n",
       "      <td>0.796786</td>\n",
       "    </tr>\n",
       "    <tr>\n",
       "      <th>804</th>\n",
       "      <td>0.744498</td>\n",
       "    </tr>\n",
       "    <tr>\n",
       "      <th>805</th>\n",
       "      <td>0.688230</td>\n",
       "    </tr>\n",
       "    <tr>\n",
       "      <th>806</th>\n",
       "      <td>0.577810</td>\n",
       "    </tr>\n",
       "    <tr>\n",
       "      <th>807</th>\n",
       "      <td>0.814134</td>\n",
       "    </tr>\n",
       "    <tr>\n",
       "      <th>808</th>\n",
       "      <td>0.450314</td>\n",
       "    </tr>\n",
       "    <tr>\n",
       "      <th>809</th>\n",
       "      <td>0.873341</td>\n",
       "    </tr>\n",
       "    <tr>\n",
       "      <th>810</th>\n",
       "      <td>0.708262</td>\n",
       "    </tr>\n",
       "    <tr>\n",
       "      <th>811</th>\n",
       "      <td>0.408930</td>\n",
       "    </tr>\n",
       "    <tr>\n",
       "      <th>812</th>\n",
       "      <td>0.384941</td>\n",
       "    </tr>\n",
       "    <tr>\n",
       "      <th>813</th>\n",
       "      <td>0.389483</td>\n",
       "    </tr>\n",
       "    <tr>\n",
       "      <th>814</th>\n",
       "      <td>0.560629</td>\n",
       "    </tr>\n",
       "    <tr>\n",
       "      <th>815</th>\n",
       "      <td>0.433005</td>\n",
       "    </tr>\n",
       "    <tr>\n",
       "      <th>816</th>\n",
       "      <td>0.809061</td>\n",
       "    </tr>\n",
       "    <tr>\n",
       "      <th>817</th>\n",
       "      <td>0.531295</td>\n",
       "    </tr>\n",
       "    <tr>\n",
       "      <th>818</th>\n",
       "      <td>0.891433</td>\n",
       "    </tr>\n",
       "    <tr>\n",
       "      <th>819</th>\n",
       "      <td>0.908187</td>\n",
       "    </tr>\n",
       "    <tr>\n",
       "      <th>820</th>\n",
       "      <td>0.710980</td>\n",
       "    </tr>\n",
       "    <tr>\n",
       "      <th>821</th>\n",
       "      <td>0.342542</td>\n",
       "    </tr>\n",
       "    <tr>\n",
       "      <th>822</th>\n",
       "      <td>0.947261</td>\n",
       "    </tr>\n",
       "    <tr>\n",
       "      <th>823</th>\n",
       "      <td>0.684759</td>\n",
       "    </tr>\n",
       "    <tr>\n",
       "      <th>824</th>\n",
       "      <td>0.702870</td>\n",
       "    </tr>\n",
       "    <tr>\n",
       "      <th>825</th>\n",
       "      <td>0.638473</td>\n",
       "    </tr>\n",
       "    <tr>\n",
       "      <th>826</th>\n",
       "      <td>0.813074</td>\n",
       "    </tr>\n",
       "    <tr>\n",
       "      <th>827</th>\n",
       "      <td>0.473448</td>\n",
       "    </tr>\n",
       "    <tr>\n",
       "      <th>828</th>\n",
       "      <td>0.518672</td>\n",
       "    </tr>\n",
       "    <tr>\n",
       "      <th>829</th>\n",
       "      <td>0.566655</td>\n",
       "    </tr>\n",
       "    <tr>\n",
       "      <th>830</th>\n",
       "      <td>0.969713</td>\n",
       "    </tr>\n",
       "  </tbody>\n",
       "</table>\n",
       "<p>831 rows × 1 columns</p>\n",
       "</div>"
      ],
      "text/plain": [
       "      average\n",
       "0    0.717901\n",
       "1    0.858098\n",
       "2    0.795028\n",
       "3    0.732776\n",
       "4    0.811068\n",
       "5    0.790576\n",
       "6    0.719914\n",
       "7    0.891296\n",
       "8    0.564857\n",
       "9    0.922868\n",
       "10   0.792293\n",
       "11   0.882392\n",
       "12   0.599987\n",
       "13   0.691520\n",
       "14   0.759557\n",
       "15   0.607752\n",
       "16   0.725742\n",
       "17   0.646733\n",
       "18   0.774520\n",
       "19   0.829265\n",
       "20   0.760822\n",
       "21   0.750826\n",
       "22   0.758883\n",
       "23   0.900569\n",
       "24   0.777617\n",
       "25   0.595991\n",
       "26   0.666438\n",
       "27   0.726558\n",
       "28   0.504826\n",
       "29   0.642752\n",
       "..        ...\n",
       "801  0.759213\n",
       "802  0.775050\n",
       "803  0.796786\n",
       "804  0.744498\n",
       "805  0.688230\n",
       "806  0.577810\n",
       "807  0.814134\n",
       "808  0.450314\n",
       "809  0.873341\n",
       "810  0.708262\n",
       "811  0.408930\n",
       "812  0.384941\n",
       "813  0.389483\n",
       "814  0.560629\n",
       "815  0.433005\n",
       "816  0.809061\n",
       "817  0.531295\n",
       "818  0.891433\n",
       "819  0.908187\n",
       "820  0.710980\n",
       "821  0.342542\n",
       "822  0.947261\n",
       "823  0.684759\n",
       "824  0.702870\n",
       "825  0.638473\n",
       "826  0.813074\n",
       "827  0.473448\n",
       "828  0.518672\n",
       "829  0.566655\n",
       "830  0.969713\n",
       "\n",
       "[831 rows x 1 columns]"
      ]
     },
     "execution_count": 17,
     "metadata": {},
     "output_type": "execute_result"
    }
   ],
   "source": [
    "wat.transform(df_model)"
   ]
  },
  {
   "cell_type": "markdown",
   "metadata": {},
   "source": [
    "### Create a transformer for preprocessing the reviews"
   ]
  },
  {
   "cell_type": "markdown",
   "metadata": {},
   "source": [
    "#### Get the lemmatized review for just one review"
   ]
  },
  {
   "cell_type": "code",
   "execution_count": 18,
   "metadata": {
    "collapsed": false
   },
   "outputs": [],
   "source": [
    "one_review = df_model.iloc[0, 2]"
   ]
  },
  {
   "cell_type": "code",
   "execution_count": 19,
   "metadata": {
    "collapsed": true
   },
   "outputs": [],
   "source": [
    "nlp = spacy.load('en')"
   ]
  },
  {
   "cell_type": "code",
   "execution_count": 20,
   "metadata": {
    "collapsed": false
   },
   "outputs": [],
   "source": [
    "sample_doc = nlp(one_review)"
   ]
  },
  {
   "cell_type": "code",
   "execution_count": 21,
   "metadata": {
    "collapsed": false
   },
   "outputs": [],
   "source": [
    "clean_doc = ''\n",
    "for word in sample_doc:\n",
    "    if word.is_stop == False:\n",
    "        clean_doc += word.lemma_ + ' '\n",
    "clean_doc = nlp(clean_doc)"
   ]
  },
  {
   "cell_type": "code",
   "execution_count": 22,
   "metadata": {
    "collapsed": true
   },
   "outputs": [
    {
     "name": "stdout",
     "output_type": "stream",
     "text": [
      "hipster coffee galore ! happen good ol cup joe ?\n",
      "need expensive ?\n",
      "line long , figure coffee mind blow .\n",
      "impressed . enjoy !\n"
     ]
    }
   ],
   "source": [
    "for sent in clean_doc.sents:\n",
    "    print(sent)"
   ]
  },
  {
   "cell_type": "markdown",
   "metadata": {},
   "source": [
    "#### Generalize to all reviews"
   ]
  },
  {
   "cell_type": "code",
   "execution_count": 23,
   "metadata": {
    "collapsed": true
   },
   "outputs": [],
   "source": [
    "test_df = df_model.iloc[:100, :]"
   ]
  },
  {
   "cell_type": "code",
   "execution_count": 24,
   "metadata": {
    "collapsed": false
   },
   "outputs": [],
   "source": [
    "ct = CleanText('reviews')\n",
    "\n",
    "test_ct = ct.transform(test_df)"
   ]
  },
  {
   "cell_type": "code",
   "execution_count": 25,
   "metadata": {
    "collapsed": false
   },
   "outputs": [],
   "source": [
    "tf = TfidfVectorizer()\n",
    "\n",
    "tf_t = tf.fit_transform(test_ct.clean_reviews)"
   ]
  },
  {
   "cell_type": "code",
   "execution_count": 26,
   "metadata": {
    "collapsed": true
   },
   "outputs": [
    {
     "data": {
      "text/plain": [
       "matrix([[ 0.,  0.,  0., ...,  0.,  0.,  0.],\n",
       "        [ 0.,  0.,  0., ...,  0.,  0.,  0.],\n",
       "        [ 0.,  0.,  0., ...,  0.,  0.,  0.],\n",
       "        ..., \n",
       "        [ 0.,  0.,  0., ...,  0.,  0.,  0.],\n",
       "        [ 0.,  0.,  0., ...,  0.,  0.,  0.],\n",
       "        [ 0.,  0.,  0., ...,  0.,  0.,  0.]])"
      ]
     },
     "execution_count": 26,
     "metadata": {},
     "output_type": "execute_result"
    }
   ],
   "source": [
    "tf_t.todense()"
   ]
  },
  {
   "cell_type": "code",
   "execution_count": 28,
   "metadata": {
    "collapsed": false
   },
   "outputs": [
    {
     "name": "stdout",
     "output_type": "stream",
     "text": [
      "hipster coffee galore ! happen good ol cup joe ? need expensive ? line long , figure coffee mind blow . impressed . enjoy ! \n"
     ]
    }
   ],
   "source": [
    "print(test_ct.clean_reviews[0])"
   ]
  },
  {
   "cell_type": "markdown",
   "metadata": {},
   "source": [
    "## Build the Pipeline"
   ]
  },
  {
   "cell_type": "markdown",
   "metadata": {},
   "source": [
    "#### Set a smaller test dataframe (10 samples from each business)"
   ]
  },
  {
   "cell_type": "code",
   "execution_count": 9,
   "metadata": {
    "collapsed": true
   },
   "outputs": [],
   "source": [
    "df_test = sample_cluster(df_model, ['name'], size=5)"
   ]
  },
  {
   "cell_type": "code",
   "execution_count": 10,
   "metadata": {
    "collapsed": false
   },
   "outputs": [
    {
     "data": {
      "text/plain": [
       "(4155, 3)"
      ]
     },
     "execution_count": 10,
     "metadata": {},
     "output_type": "execute_result"
    }
   ],
   "source": [
    "df_test.shape"
   ]
  },
  {
   "cell_type": "markdown",
   "metadata": {},
   "source": [
    "#### PCA pipeline"
   ]
  },
  {
   "cell_type": "code",
   "execution_count": 303,
   "metadata": {
    "collapsed": false
   },
   "outputs": [],
   "source": [
    "pipe_pca = Pipeline([\n",
    "                            ('combined_features', FeatureUnion([\n",
    "\n",
    "                                ('num_feat', SeparateFeaturesTransformer(num_cols=['rating'])),\n",
    "                                ('text_feat', Pipeline([\n",
    "\n",
    "                                    ('split_text', SeparateFeaturesTransformer(text_cols=['reviews'])),\n",
    "                                    ('clean', CleanTextTransformer('reviews')),\n",
    "                                    ('combine_text', FeatureUnion([\n",
    "                                            \n",
    "                                        ('sentiment_analysis', SentimentTransformer(text_col='clean_reviews')),\n",
    "                                        ('vectorize', Pipeline([\n",
    "\n",
    "                                            ('to_series', DataframeToSeriesTransformer(col='clean_reviews')),\n",
    "                                            ('tfidf', TfidfVectorizer(stop_words=\"english\",\n",
    "                                                                      token_pattern=\"\\\\b[a-zA-Z][a-zA-Z]+\\\\b\",\n",
    "                                                                      min_df=10)),\n",
    "                                            ('densify', DensifyTransformer()),\n",
    "                                            ('pca', PCA(n_components=3))\n",
    "                                                            ]))\n",
    "                                                                ])),\n",
    "                                    ('to_df', ToDataFrameTransformer()),\n",
    "                                    ('drop_text', DropTextTransformer(text_col=2))\n",
    "                                                        ]))\n",
    "                                                            ]))\n",
    "                            ])"
   ]
  },
  {
   "cell_type": "markdown",
   "metadata": {},
   "source": [
    "#### NMF pipeline"
   ]
  },
  {
   "cell_type": "code",
   "execution_count": 305,
   "metadata": {
    "collapsed": true
   },
   "outputs": [],
   "source": [
    "pipe_nmf = Pipeline([\n",
    "                            ('combined_features', FeatureUnion([\n",
    "\n",
    "                                ('num_feat', SeparateFeaturesTransformer(num_cols=['rating'])),\n",
    "                                ('text_feat', Pipeline([\n",
    "\n",
    "                                    ('split_text', SeparateFeaturesTransformer(text_cols=['reviews'])),\n",
    "                                    ('clean', CleanTextTransformer('reviews')),\n",
    "                                    ('combine_text', FeatureUnion([\n",
    "                                            \n",
    "                                        ('sentiment_analysis', SentimentTransformer(text_col='clean_reviews')),\n",
    "                                        ('vectorize', Pipeline([\n",
    "\n",
    "                                            ('to_series', DataframeToSeriesTransformer(col='clean_reviews')),\n",
    "                                            ('tfidf', TfidfVectorizer(stop_words=\"english\",\n",
    "                                                                      token_pattern=\"\\\\b[a-zA-Z][a-zA-Z]+\\\\b\",\n",
    "                                                                      min_df=10)),\n",
    "                                            ('densify', DensifyTransformer()),\n",
    "                                            ('nmf', NMF(n_components=3))\n",
    "                                                            ]))\n",
    "                                                                ])),\n",
    "                                    ('to_df', ToDataFrameTransformer()),\n",
    "                                    ('drop_text', DropTextTransformer(text_col=2))\n",
    "                                                        ]))\n",
    "                                                            ]))\n",
    "                            ])"
   ]
  },
  {
   "cell_type": "markdown",
   "metadata": {},
   "source": [
    "#### Use the Google word2vec model in place of the tf-idf and PCA steps"
   ]
  },
  {
   "cell_type": "code",
   "execution_count": 285,
   "metadata": {
    "collapsed": false
   },
   "outputs": [
    {
     "name": "stderr",
     "output_type": "stream",
     "text": [
      "2017-05-26 10:26:24,311 : INFO : loading projection weights from ~/Documents/GoogleNews-vectors-negative300.bin.gz\n",
      "2017-05-26 10:29:06,505 : INFO : loaded (3000000, 300) matrix from ~/Documents/GoogleNews-vectors-negative300.bin.gz\n"
     ]
    }
   ],
   "source": [
    "# ONLY RUN ONCE AT THE START OF THE KERNEL\n",
    "# w2v = models.KeyedVectors.load_word2vec_format(\"~/Documents/GoogleNews-vectors-negative300.bin.gz\",binary=True)"
   ]
  },
  {
   "cell_type": "code",
   "execution_count": 306,
   "metadata": {
    "collapsed": false
   },
   "outputs": [],
   "source": [
    "pipe_w2v = Pipeline([\n",
    "                                ('combined_features', FeatureUnion([\n",
    "\n",
    "                                    ('num_feat', SeparateFeaturesTransformer(num_cols=['rating'])),\n",
    "                                    ('text_feat', Pipeline([\n",
    "\n",
    "                                        ('split_text', SeparateFeaturesTransformer(text_cols=['reviews'])),\n",
    "                                        ('clean', CleanTextTransformer('reviews')),\n",
    "                                        ('sentiment', SentimentTransformer(text_col='clean_reviews')),\n",
    "                                        ('vectorize', Word2VecTransformer(text_col='clean_reviews', w2v=w2v))\n",
    "                                                            ]))\n",
    "                                                                    ]))\n",
    "                                ])"
   ]
  },
  {
   "cell_type": "markdown",
   "metadata": {},
   "source": [
    "### In order to take a closer look at the text processing steps, a smaller pipeline will be created"
   ]
  },
  {
   "cell_type": "markdown",
   "metadata": {},
   "source": [
    "#### Set the text processing steps"
   ]
  },
  {
   "cell_type": "code",
   "execution_count": 12,
   "metadata": {
    "collapsed": false
   },
   "outputs": [],
   "source": [
    "text_processing = Pipeline([\n",
    "                ('clean', CleanTextTransformer('reviews')),\n",
    "                ('to_series', DataframeToSeriesTransformer(col='clean_reviews')),\n",
    "                ('tfidf', TfidfVectorizer(stop_words=\"english\",\n",
    "                                          token_pattern=\"\\\\b[a-zA-Z][a-zA-Z]+\\\\b\",\n",
    "                                          min_df=10)),\n",
    "                ('densify', DensifyTransformer())\n",
    "            ])"
   ]
  },
  {
   "cell_type": "code",
   "execution_count": 13,
   "metadata": {
    "collapsed": false
   },
   "outputs": [
    {
     "data": {
      "text/plain": [
       "(4155, 2163)"
      ]
     },
     "execution_count": 13,
     "metadata": {},
     "output_type": "execute_result"
    }
   ],
   "source": [
    "tp = text_processing.fit_transform(df_test)\n",
    "tp.shape"
   ]
  },
  {
   "cell_type": "markdown",
   "metadata": {},
   "source": [
    "#### Run PCA with 2 latent features"
   ]
  },
  {
   "cell_type": "code",
   "execution_count": 14,
   "metadata": {
    "collapsed": false
   },
   "outputs": [],
   "source": [
    "pca = PCA(n_components=2)"
   ]
  },
  {
   "cell_type": "code",
   "execution_count": 15,
   "metadata": {
    "collapsed": false
   },
   "outputs": [],
   "source": [
    "tpm = pca.fit_transform(tp)"
   ]
  },
  {
   "cell_type": "code",
   "execution_count": 16,
   "metadata": {
    "collapsed": false
   },
   "outputs": [
    {
     "data": {
      "text/plain": [
       "<matplotlib.collections.PathCollection at 0x12a9d2fd0>"
      ]
     },
     "execution_count": 16,
     "metadata": {},
     "output_type": "execute_result"
    },
    {
     "data": {
      "image/png": "[encoded data removed]",
      "text/plain": [
       "<matplotlib.figure.Figure at 0x12a9cea90>"
      ]
     },
     "metadata": {},
     "output_type": "display_data"
    }
   ],
   "source": [
    "plt.scatter(tpm[:,0], tpm[:,1])"
   ]
  },
  {
   "cell_type": "code",
   "execution_count": 17,
   "metadata": {
    "collapsed": false
   },
   "outputs": [
    {
     "name": "stdout",
     "output_type": "stream",
     "text": [
      "[ 0.00933844  0.00853894]\n"
     ]
    }
   ],
   "source": [
    "print(pca.explained_variance_ratio_)"
   ]
  },
  {
   "cell_type": "markdown",
   "metadata": {},
   "source": [
    "#### Try various numbers of latent features"
   ]
  },
  {
   "cell_type": "code",
   "execution_count": 20,
   "metadata": {
    "collapsed": false,
    "scrolled": false
   },
   "outputs": [],
   "source": [
    "pca_range = [i for i in range(40)]\n",
    "pca_variances_cum = []\n",
    "\n",
    "for num in pca_range:\n",
    "    pca_obj = PCA(n_components=num)\n",
    "    pca_fit = pca_obj.fit_transform(tp)\n",
    "    \n",
    "    pca_variances_cum.append(sum(pca_obj.explained_variance_ratio_))"
   ]
  },
  {
   "cell_type": "code",
   "execution_count": 21,
   "metadata": {
    "collapsed": true
   },
   "outputs": [
    {
     "data": {
      "text/plain": [
       "<matplotlib.text.Text at 0x119b73fd0>"
      ]
     },
     "execution_count": 21,
     "metadata": {},
     "output_type": "execute_result"
    },
    {
     "data": {
      "image/png": "[encoded data removed]",
      "text/plain": [
       "<matplotlib.figure.Figure at 0x139214320>"
      ]
     },
     "metadata": {},
     "output_type": "display_data"
    }
   ],
   "source": [
    "fig, ax = plt.subplots(2,1, figsize=(8,6))\n",
    "\n",
    "left  = 0.125  # the left side of the subplots of the figure\n",
    "right = 0.9    # the right side of the subplots of the figure\n",
    "bottom = 0.1   # the bottom of the subplots of the figure\n",
    "top = 0.9      # the top of the subplots of the figure\n",
    "wspace = 0.2   # the amount of width reserved for blank space between subplots\n",
    "hspace = 0.5   # the amount of height reserved for white space between subplots\n",
    "\n",
    "fig.subplots_adjust(left=left, bottom=bottom, right=right, top=top, wspace=wspace, hspace=hspace)\n",
    "\n",
    "# Plot of explained variance\n",
    "ax1 = ax[0]\n",
    "ax1.bar([x for x in range(len(pca_obj.explained_variance_ratio_))],pca_obj.explained_variance_ratio_)\n",
    "\n",
    "ax1.set_title(\"Explained Variance\", size=18)\n",
    "ax1.set_ylabel(\"Percent Explained\", size=16)\n",
    "ax1.set_xlabel(\"Principal Component\", size=16)\n",
    "\n",
    "# Plot of cumulative explained variance\n",
    "ax2 = ax[1]\n",
    "ax2.plot([x for x in range(len(pca_variances_cum))], pca_variances_cum)\n",
    "\n",
    "ax2.set_title(\"Cumulative Explained Variance\", size=18)\n",
    "ax2.set_ylabel(\"Percent Explained\", size=16)\n",
    "ax2.set_xlabel(\"Principal Component\", size=16)"
   ]
  },
  {
   "cell_type": "markdown",
   "metadata": {},
   "source": [
    "## Gauge how the PCA pipeline is by testing on DB Scan"
   ]
  },
  {
   "cell_type": "code",
   "execution_count": 150,
   "metadata": {
    "collapsed": true
   },
   "outputs": [],
   "source": [
    "db = DBSCAN(eps=0.5,\n",
    "            min_samples=10,\n",
    "            metric='euclidean')"
   ]
  },
  {
   "cell_type": "code",
   "execution_count": 310,
   "metadata": {
    "collapsed": false,
    "scrolled": true
   },
   "outputs": [
    {
     "name": "stdout",
     "output_type": "stream",
     "text": [
      "SFT:  (4155, 1)\n",
      "SFT:  (4155, 1)\n",
      "CTT:  (4155, 1)\n",
      "ST:  (4155, 3)\n",
      "DTST:  (4155,)\n",
      "DT:  (4155, 2163)\n",
      "TDFT:  (4155, 6)\n",
      "DTT:  (4155, 5)\n",
      "Number of Clusters:  5\n",
      "Silhouette Coefficient: 0.681\n"
     ]
    }
   ],
   "source": [
    "pca_arr, pred_pca = get_metrics(pipe_pca, db, df_test)"
   ]
  },
  {
   "cell_type": "markdown",
   "metadata": {},
   "source": [
    "## Gauge how the NMF pipeline performs on DB Scan"
   ]
  },
  {
   "cell_type": "code",
   "execution_count": 309,
   "metadata": {
    "collapsed": false
   },
   "outputs": [
    {
     "name": "stdout",
     "output_type": "stream",
     "text": [
      "SFT:  (4155, 1)\n",
      "SFT:  (4155, 1)\n",
      "CTT:  (4155, 1)\n",
      "ST:  (4155, 3)\n",
      "DTST:  (4155,)\n",
      "DT:  (4155, 2163)\n",
      "TDFT:  (4155, 6)\n",
      "DTT:  (4155, 5)\n",
      "Number of Clusters:  5\n",
      "Silhouette Coefficient: 0.737\n"
     ]
    }
   ],
   "source": [
    "nmf_arr, pred_nmf = get_metrics(pipe_nmf, db, df_test)"
   ]
  },
  {
   "cell_type": "markdown",
   "metadata": {},
   "source": [
    "## Gauge how the W2V pipeline performs on DB Scan"
   ]
  },
  {
   "cell_type": "code",
   "execution_count": 308,
   "metadata": {
    "collapsed": false,
    "scrolled": false
   },
   "outputs": [
    {
     "name": "stdout",
     "output_type": "stream",
     "text": [
      "SFT:  (4155, 1)\n",
      "SFT:  (4155, 1)\n",
      "CTT:  (4155, 1)\n",
      "ST:  (4155, 3)\n",
      "W2V:  (4155, 300)\n",
      "Number of Clusters:  6\n",
      "Silhouette Coefficient: 0.768\n"
     ]
    }
   ],
   "source": [
    "w2v_arr, pred_w2v = get_metrics(pipe_w2v, db, df_test)"
   ]
  },
  {
   "cell_type": "markdown",
   "metadata": {},
   "source": [
    "## Try other clustering algorithms"
   ]
  },
  {
   "cell_type": "code",
   "execution_count": 288,
   "metadata": {
    "collapsed": true
   },
   "outputs": [],
   "source": [
    "model_dict = {\n",
    "    \"agg\": AgglomerativeClustering(n_clusters=5,\n",
    "                                   affinity=\"cosine\",\n",
    "                                   linkage=\"complete\"),\n",
    "    \"birch\": Birch(threshold=0.5,\n",
    "                   n_clusters=5,\n",
    "                   branching_factor=50),\n",
    "    \"db\": DBSCAN(eps=0.5,\n",
    "                 min_samples=10,\n",
    "                 metric=\"euclidean\")\n",
    "}"
   ]
  },
  {
   "cell_type": "markdown",
   "metadata": {},
   "source": [
    "### Test on PCA pipeline"
   ]
  },
  {
   "cell_type": "code",
   "execution_count": 311,
   "metadata": {
    "collapsed": false,
    "scrolled": false
   },
   "outputs": [
    {
     "name": "stdout",
     "output_type": "stream",
     "text": [
      "birch\n",
      "SFT:  (4155, 1)\n",
      "SFT:  (4155, 1)\n",
      "CTT:  (4155, 1)\n",
      "ST:  (4155, 3)\n",
      "DTST:  (4155,)\n",
      "DT:  (4155, 2163)\n",
      "TDFT:  (4155, 6)\n",
      "DTT:  (4155, 5)\n",
      "Number of Clusters:  5\n",
      "Silhouette Coefficient: 0.681\n",
      "agg\n",
      "SFT:  (4155, 1)\n",
      "SFT:  (4155, 1)\n",
      "CTT:  (4155, 1)\n",
      "ST:  (4155, 3)\n",
      "DTST:  (4155,)\n",
      "DT:  (4155, 2163)\n",
      "TDFT:  (4155, 6)\n",
      "DTT:  (4155, 5)\n",
      "Number of Clusters:  5\n",
      "Silhouette Coefficient: 0.533\n",
      "db\n",
      "SFT:  (4155, 1)\n",
      "SFT:  (4155, 1)\n",
      "CTT:  (4155, 1)\n",
      "ST:  (4155, 3)\n",
      "DTST:  (4155,)\n",
      "DT:  (4155, 2163)\n",
      "TDFT:  (4155, 6)\n",
      "DTT:  (4155, 5)\n",
      "Number of Clusters:  5\n",
      "Silhouette Coefficient: 0.681\n"
     ]
    }
   ],
   "source": [
    "model_metrics_dict_PCA = model_metrics(model_dict, pipe_pca, df_test)"
   ]
  },
  {
   "cell_type": "markdown",
   "metadata": {},
   "source": [
    "### Test on NMF pipeline"
   ]
  },
  {
   "cell_type": "code",
   "execution_count": 312,
   "metadata": {
    "collapsed": false
   },
   "outputs": [
    {
     "name": "stdout",
     "output_type": "stream",
     "text": [
      "birch\n",
      "SFT:  (4155, 1)\n",
      "SFT:  (4155, 1)\n",
      "CTT:  (4155, 1)\n",
      "ST:  (4155, 3)\n",
      "DTST:  (4155,)\n",
      "DT:  (4155, 2163)\n",
      "TDFT:  (4155, 6)\n",
      "DTT:  (4155, 5)\n",
      "Number of Clusters:  5\n",
      "Silhouette Coefficient: 0.737\n",
      "agg\n",
      "SFT:  (4155, 1)\n",
      "SFT:  (4155, 1)\n",
      "CTT:  (4155, 1)\n",
      "ST:  (4155, 3)\n",
      "DTST:  (4155,)\n",
      "DT:  (4155, 2163)\n",
      "TDFT:  (4155, 6)\n",
      "DTT:  (4155, 5)\n",
      "Number of Clusters:  5\n",
      "Silhouette Coefficient: 0.533\n",
      "db\n",
      "SFT:  (4155, 1)\n",
      "SFT:  (4155, 1)\n",
      "CTT:  (4155, 1)\n",
      "ST:  (4155, 3)\n",
      "DTST:  (4155,)\n",
      "DT:  (4155, 2163)\n",
      "TDFT:  (4155, 6)\n",
      "DTT:  (4155, 5)\n",
      "Number of Clusters:  5\n",
      "Silhouette Coefficient: 0.737\n"
     ]
    }
   ],
   "source": [
    "model_metrics_dict_NMF = model_metrics(model_dict, pipe_nmf, df_test)"
   ]
  },
  {
   "cell_type": "markdown",
   "metadata": {},
   "source": [
    "### Test on W2V pipeline"
   ]
  },
  {
   "cell_type": "code",
   "execution_count": 313,
   "metadata": {
    "collapsed": false
   },
   "outputs": [
    {
     "name": "stdout",
     "output_type": "stream",
     "text": [
      "birch\n",
      "SFT:  (4155, 1)\n",
      "SFT:  (4155, 1)\n",
      "CTT:  (4155, 1)\n",
      "ST:  (4155, 3)\n",
      "W2V:  (4155, 300)\n",
      "Number of Clusters:  4\n"
     ]
    },
    {
     "name": "stderr",
     "output_type": "stream",
     "text": [
      "/Users/plim0793/anaconda/lib/python3.5/site-packages/sklearn/cluster/birch.py:602: UserWarning: Number of subclusters found (4) by Birch is less than (5). Decrease the threshold.\n",
      "  % (len(centroids), self.n_clusters))\n"
     ]
    },
    {
     "name": "stdout",
     "output_type": "stream",
     "text": [
      "Silhouette Coefficient: 0.652\n",
      "agg\n",
      "SFT:  (4155, 1)\n",
      "SFT:  (4155, 1)\n",
      "CTT:  (4155, 1)\n",
      "ST:  (4155, 3)\n",
      "W2V:  (4155, 300)\n",
      "Number of Clusters:  5\n",
      "Silhouette Coefficient: 0.615\n",
      "db\n",
      "SFT:  (4155, 1)\n",
      "SFT:  (4155, 1)\n",
      "CTT:  (4155, 1)\n",
      "ST:  (4155, 3)\n",
      "W2V:  (4155, 300)\n",
      "Number of Clusters:  6\n",
      "Silhouette Coefficient: 0.768\n"
     ]
    }
   ],
   "source": [
    "model_metrics_dict_W2V = model_metrics(model_dict, pipe_w2v, df_test)"
   ]
  },
  {
   "cell_type": "markdown",
   "metadata": {},
   "source": [
    "### Append the predicted clusters to the dataframe"
   ]
  },
  {
   "cell_type": "code",
   "execution_count": 123,
   "metadata": {
    "collapsed": false
   },
   "outputs": [],
   "source": [
    "df_test['baseline_cluster'] = pred_bl"
   ]
  },
  {
   "cell_type": "code",
   "execution_count": 124,
   "metadata": {
    "collapsed": false
   },
   "outputs": [
    {
     "data": {
      "text/plain": [
       "['../data/df_test']"
      ]
     },
     "execution_count": 124,
     "metadata": {},
     "output_type": "execute_result"
    }
   ],
   "source": [
    "# Save the df_test so that the code doesn't have to be rerun each time\n",
    "joblib.dump(df_test, '../data/df_test')"
   ]
  },
  {
   "cell_type": "code",
   "execution_count": 125,
   "metadata": {
    "collapsed": false
   },
   "outputs": [],
   "source": [
    "grouped_df_test = df_test.groupby(['baseline_cluster'], as_index=False)"
   ]
  },
  {
   "cell_type": "markdown",
   "metadata": {},
   "source": [
    "### Randomly draw a subset of reviews from each cluster and look at them individually"
   ]
  },
  {
   "cell_type": "code",
   "execution_count": 126,
   "metadata": {
    "collapsed": false
   },
   "outputs": [],
   "source": [
    "sampled_df_bl = sample_cluster(df_test, ['baseline_cluster'], size=5)"
   ]
  },
  {
   "cell_type": "code",
   "execution_count": 28,
   "metadata": {
    "collapsed": true
   },
   "outputs": [
    {
     "name": "stdout",
     "output_type": "stream",
     "text": [
      "Document #:  0\n",
      "Best coffee in Cole Valley.  Chairs outside.  Friendly staff.It's kind of small and awkward seating inside, so this is mostlya place to grab coffee and go.But they have nice chairs and tables outside so you can havea nice view of whatever delivery truck is parked in front ;)LIfe in the city; it's still nice.\n",
      "Document #:  1\n",
      "Overall it's a 3.5 star so just bumped to 4 stars for now.I've been a fan of Project Juice even since I did my first juice cleanse in April. I got my juice cleanse pack in the Mission store, daily drink at the FiDi store if I feel like to. Project Juice Test Kitchen opened last Saturday and I saw the promotion on Instagram -- get a smoothie or juice or bowl and show the staff the IG photo to receive a free kombucha juice! I got the classic acai bowl and swizz beetz kombucha juice. Acai bowl was yummy dessert, swizz beetz kombucha was better than I expected, I guess it was because the beets so it made the drink sweeter than regular kombucha. However it was pretty pricy for both of them. I'm not sure if I will come back for it because of the price.\n",
      "Document #:  2\n",
      "Heard this was the birthplace of Irish Coffee and had to try it out! Luckily, we were able to snag a front row seat at the bar and watch the entire process-- pretty neat! The drink was decent, a tad bit on the strong side, but decent nonetheless. The only downside was the one bartender making all of the drinks, taking orders, and handling checks. He did a great job but probably could have used some help!\n",
      "Document #:  3\n",
      "A very neat little coffee place. Not really a coffee shop, its more of a drop in coffee joint and there Iced Macau is a MUST on a warm San Francisco day. A SOMA must. Don't come here to sit down and sip your espresso with your laptop out but nevertheless the place still is worth a stop for a great coffee.\n",
      "Document #:  4\n",
      "No lines at 4:30pm. Their chai lattes are made from real tea, not that concentrate stuff. Would return if I'm in the area\n",
      "Document #:  5\n",
      "Just have to say that a year later, these people are still the friendliest and most efficient baristas I have ever encountered at a Starbucks.  Some staff have left and others have arrived, but the managers must be doing something right, because every employee is still friendly and awesome.Seriously, whoever manages this location deserves a serious bonus from corporate.  Not to mention everyone who works there.  I am sad to not be around UCSF next year, because I will have to find a new location with baristas who can meet the standards set by these guys/gals.Just thought they deserved some more Yelp love!\n",
      "Document #:  6\n",
      "Gyro wrap...super yum! No frills quick delicious lunch. Love that they use local organic coffee (mr espresso), and their salads look really good, I'll need to come back to try.  Solid choice!\n",
      "Document #:  7\n",
      "About a week ago I had two out of the batch of chocolate chip cookies that were baked by someone here in my office. Upon the first bite I was SNATCHED from reality as I savored the warm bold & buttery flavor of these wholesome delights. I will definitely have to visit the store to see what other goodies are there!\n",
      "Document #:  8\n",
      "Seriously one of the best Burgers I've had in SF so far...if not the best. Bacon, pickled onions, aioli...and a perfectly cooked, seasoned and generous beef patty. The food came out way faster than at the Rhea's on Valencia (so much for stoned hipster sandwich makers over there). I'll happily go there for my burger or sandwich fix and pay an extra buck.Well played Rhea's, well played.\n",
      "Document #:  9\n",
      "Absolutely SHOCKED with the prices here!!! Only $4 for a burrito the size of my forearm?  Can't even get a donut for the price of $4 in the financial district!  The bagel breakfast sandwich that I picked up for under five bucks was as much a brick (very heavy) as it was delicious--ooey gooey jack cheese in a toasted \"everything\" bagel, packed with egg, sausage, shredded chicken, pesto spread, and a hint of siracha.  I think I have to finish the rest for lunch.  Which is sad, because I'd like to try their panini for lunch.  It'll have to be some other day, then.Five dollars for 2 meals? In the financial district? Believe it.  Important tip: The entrance is not on Battery, but rather Sacramento Street.  SF Soup Co. is hiding the sign, but walk down a little bit, and you'll see this blessed hole in the wall!\n",
      "Document #:  10\n",
      "I was in the mood for good fresh baked bread but Tartine didn't have any (they bake and sell loaves at 4:45pm daily) so I stopped by the next nearest one - Thoroughbread. I've been back on several occasions and had not been impressed:- Olive bread - same dough as foccacia. Super hard and crusty. - French Baguette - very mediocre, I think Safeway bread is better - Cupcakes - meh. Sorry but this was a thoroughly disappointing bakery in my opinion.\n",
      "Document #:  11\n",
      "I have to say I frequent this particular cafe quit often sometimes for lunch sometimes for breakfast sandwiches and they are quit good,but more often then not they run out of croissants early in the morning. How does a baking company that bakes all their own product run out of croissants especially croissants which is a big breakfast item?   The other reason for only 3 stars is they are slow it takes forever to get food except salad comes quick . I have waited up to 10 min for a sandwich even when they are slow and it's after lunch time. I understand the restaurant business have been in it for 20 years but with all those employees standing around this incomprehensible how product is produced at a snails paceToday May 20th 2016 8:10 am ordered 4 breakfast sandwiches for my employees. Ordered 3 regulate and one with croissant  get buzzed and told they are out of ciabatta bread   (\"What the ^*+#\"). Your a bakery you can't know your running out of items that are on your menu   Come on it's not that difficult This specialty's is a prime location right as everyone comes off Bart they walk up the post Montgomery exit there is specialty baking.  What's wrong get someone in who can manage this facility correctly. Bad bad bad to run out of what you make this early in the morning\n",
      "Document #:  12\n",
      "The Good: Coffee is the real deal. The Bad: You wait patiently as they caress your cup of coffee like a new-born child, taking the most ridiculous steps and precautions, to give you the ultimate in hipster coffee experience. 20 minutes later, you have a DRIP coffee that cost $4. It's definitely not worth the money or wait.If it's the scene you're after, then I guess this is the place for you. If you're after a quick cup of good, reasonably priced coffee, go somewhere else.\n",
      "Document #:  13\n",
      "Over priced food for the small portion size that you get and had to add salt to almost everything. Coffee tasted great but even a small cup was over-priced. Mediocre customer service. Their French toast and crepes looked delicious, should have ordered that.\n",
      "Document #:  14\n",
      "I feel like in order to keep your lunch under five dollars from this place, you have to get lettuce with a side of air.  No dressing.  Dressing is extra weight.Seriously though, I got some chicken curry (excellent excellent excellent by the way) and a side salad.  And I'm talking lettuce with a few carrots and ranch dressing.  And it's not like I got a massive helping of chicken curry.$10I'm sorry, what?!Head to Lee's, Mixt Greens, Specialty's, or the Royal Exchange for some good salads for practically the same price.  Skip the heart attack at the scale!\n",
      "Document #:  15\n",
      "Overrated. Definitely not worth the long lines or prices with horrible customer service to boot.Went here for Mother's Day with my parents. The pastries are good but not worth the price or the wait. We also ordered 3 different sandwiches. Again, the sandwiches are good (though a bit on the salty side) but definitely not worth the $15 price tag per sandwich or the wait.But the reason why this place gets one star is the horrible customer service. There was some sort of 'computer glitch' where my family as well as several other customers sandwich orders were not arriving in the kitchen. If we had not gone up to the counter and asked we never would have gotten our sandwiches. So we finally get our sandwiches after waiting a full hour. We do get an apology from the poor girl who made our sandwiches (though it's not her fault). At any other place the manager would have come out and apologized and comped us some pastries or something but not here. I don't fault them for having a computer glitch but the staff definitely needs to be trained better on how to handle these type of situations.\n",
      "Document #:  16\n",
      "At the first time that I went to the Town's End, the waitress put us at a bad table: small, squeezed between two other tables and with the air conditioner right over our heads. My boyfriend asked the waitress to please verify the possibility to put ourselves in another table (we could see that there were at least 3 other tables free) but she said that would not be possible, and that if we wanted another table, we should go back to the line. We feel disrespected and left without eating.As the restaurant is close to our house, and the reviews were very good, we decided to try one more time. The attendance was better, but the food is definitely not worth the price. We moved a little time for SF, and every Sunday we prove a new brunch, to find our favorite. I can say with all certainty that this was what I liked least. I ordered an omelet that was ok, and the french toast was a disappointment. The only things that worthed, were the mini muffins and the Mimosa.\n",
      "Document #:  17\n",
      "I have been a Specialtys Customer since they started back in the Late 1980s/Early 1990s and they have Gone down hill.  The staff are not the most proficient - how can you screw up a simple order remove Spinich add lettuce and make it hot - (its a hot sandwich anyways on their freaking menu)  I dont get it... Also their pastries have gone down hill - bring back the Yogurt Cran  Muffin that was your signature pastry - very disappointed and over this place...\n",
      "Document #:  18\n",
      "I hate giving negative reviews but here goes.I arrived here very HUNGRY and I ordered  pasta from the lady making a sandwich because she was the only person working and this is how our conversation went:Lady: Hi. Do you want to order?Me: Yes. Can I get the angel hair pasta with meat Bolognese and chicken?Lady: No combo? No combo?Me: What?Lady: You don't want salad?Me: No. Just the pasta.Lady: Marina sauce right?Me: No. I said meat Bologneselady: You want cheese?Me: YES. Cashier calls me....so I went and paid.I then sat in a chair and started waitingLADY SHOUTS \"PASTA'!!!!!!!!!!!!!!!!!!!!!!!!!!!!!!!!I came and found there was no chicken. I told here\" Where is the chicken? I told you awhile ago\".She said \"you should have told me earlier since the chicken is cold\"I said \"If you were listening to me earlier, you would not forget\"She also asked me again if I wanted cheese.I'm not sure if this restaurant hires mentally slow/ borderline retarded people because I have not experienced such stupidity in my entire 23 years of living\n",
      "Document #:  19\n",
      "I did not receive what I originally purchased but thought that I would give the new thing a try anyways (falafels and hummus salad). Definitely not my choice of a salad. There was only about a handful of thinly sliced lettuce on my plate, a little bit of tomatoes and pickles, a bowl of hummus, and 4 falafels. Service was mediocre. In addition to the food tasting terrible, the restaurant looks like the heath inspectors completely overlooked it. The floors were dirty and filthy but I guess you can't expect much in the Tenderloin.  Oh, one more thing. They tried to charge me $.10 for a straw. What the FUCK? Nobody should be putting their lips on ANY cup in the Tenderloin! You should give me a damn straw for FREE!\n",
      "Document #:  20\n",
      "I finally made it to Tartine after all of these years living around here. I know it's one of those popular tourist destinations from 7x7 and what not, but to be fair, I have had a better experience at other bakeries around in the SF Bay Area. Our wait was about 15 minutes, but to be frank, the line is made intentionally to make the place look more busy/popular. FOOD: Morning Bun. Frangipan Tart. The morning bun was actually quite delicious with its dried candid orange zest and the cinnamon, this one has a solid punch to it with its pull like quality on the bread, analogous to cinnamon rolls. I found the morning bun to a solid hit, thus, the popular choice here at Tartine, which led me to give it an A-OK review. The Frangipan tart though was a huge disappointment. Not enough filling on the inside and the dough was too flaky that it caused the pastry to be more dry. Also, the wording of \"seasonal fruit\" is so abused at these kind of places. Blueberries are not seasonal in January (unless we're in Chile), so I am unsure how there were blueberries on it if sold as \"seasonal\".  SERVICE: A little slow if you ask me, but it is what it is. Overall, this place to me sells itself to the tourists who come to San Francisco. I know there are other bakeries in the city and around the Bay that do not have this ridiculous wait and serves high quality pastries as well. It's not worth the hype, but if you're around in the area, you can give it a shot.\n",
      "Document #:  21\n",
      "I only had about 20 minutes for lunch and this place didn't have a line out the door (either my lucky day or a premonition).  After a brief glance at the menu I decided that I was in the mood for their Falafel Wrap.  The Verdict:A decent wrap.  The falafel themselves were crisp on the outside and moist in the middle.  The vegetables in the wrap were fresh.  The only real disappointment was the white sauce - terribly bland.  If they could have nailed that I would have been tempted to give a fourth star.Will I rush back?  Probably not.  But if I'm in the area again and need a quick lunch it will definitely be an option.\n",
      "Document #:  22\n",
      "Food is average and a bit expensive for a cafe. The service is really fast, restaurant is pretty big and clean. I'll probably come back if no other option in the area.\n",
      "Document #:  23\n",
      "Cregel Sando -- not as good as a croissant sandwich, but slightly better than a bagel sandwich. Cregel, indeed. $7.50 is way overpriced - I don't know why I got two. It's okay to try once, but I would half it and explore what other options you have in the city.Now, the coffee cola on the other hand? Delicious!\n",
      "Document #:  24\n",
      "Cregel Sando -- not as good as a croissant sandwich, but slightly better than a bagel sandwich. Cregel, indeed. $7.50 is way overpriced - I don't know why I got two. It's okay to try once, but I would half it and explore what other options you have in the city.Now, the coffee cola on the other hand? Delicious!\n",
      "Document #:  25\n",
      "small place but great breakfast sandwiches.  Looks like they buy ingredients from COSTCO.  Good quality, coffee was okay but okay for breakfast on the run.\n"
     ]
    }
   ],
   "source": [
    "for i,doc in enumerate(sampled_df['reviews']):\n",
    "    print(\"Document #: \", i)\n",
    "    print(doc)"
   ]
  },
  {
   "cell_type": "code",
   "execution_count": 127,
   "metadata": {
    "collapsed": true
   },
   "outputs": [],
   "source": [
    "https://www.yelp.com/user_details?userid=FTfr7IJurqo_Ika3NoZ-Kw"
   ]
  },
  {
   "cell_type": "code",
   "execution_count": null,
   "metadata": {
    "collapsed": true
   },
   "outputs": [],
   "source": []
  },
  {
   "cell_type": "code",
   "execution_count": null,
   "metadata": {
    "collapsed": true
   },
   "outputs": [],
   "source": []
  },
  {
   "cell_type": "code",
   "execution_count": null,
   "metadata": {
    "collapsed": true
   },
   "outputs": [],
   "source": []
  },
  {
   "cell_type": "code",
   "execution_count": null,
   "metadata": {
    "collapsed": true
   },
   "outputs": [],
   "source": []
  },
  {
   "cell_type": "code",
   "execution_count": null,
   "metadata": {
    "collapsed": true
   },
   "outputs": [],
   "source": []
  },
  {
   "cell_type": "code",
   "execution_count": null,
   "metadata": {
    "collapsed": true
   },
   "outputs": [],
   "source": []
  }
 ],
 "metadata": {
  "anaconda-cloud": {},
  "kernelspec": {
   "display_name": "Python [default]",
   "language": "python",
   "name": "python3"
  },
  "language_info": {
   "codemirror_mode": {
    "name": "ipython",
    "version": 3
   },
   "file_extension": ".py",
   "mimetype": "text/x-python",
   "name": "python",
   "nbconvert_exporter": "python",
   "pygments_lexer": "ipython3",
   "version": "3.5.2"
  }
 },
 "nbformat": 4,
 "nbformat_minor": 1
}
