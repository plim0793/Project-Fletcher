{
 "cells": [
  {
   "cell_type": "markdown",
   "metadata": {},
   "source": [
    "# Modeling Yelp Data\n",
    "\n",
    "Paul Lim"
   ]
  },
  {
   "cell_type": "markdown",
   "metadata": {},
   "source": [
    "## Libraries"
   ]
  },
  {
   "cell_type": "code",
   "execution_count": 2,
   "metadata": {
    "collapsed": false
   },
   "outputs": [],
   "source": [
    "# Main imports\n",
    "import pandas as pd\n",
    "import numpy as np\n",
    "import matplotlib.pyplot as plt\n",
    "import seaborn as sns\n",
    "import matplotlib\n",
    "\n",
    "# sklearn\n",
    "from sklearn.model_selection import train_test_split, learning_curve, cross_val_score, RandomizedSearchCV\n",
    "from sklearn.linear_model import LogisticRegression, SGDClassifier\n",
    "from sklearn.neighbors import KNeighborsClassifier\n",
    "from sklearn.metrics import accuracy_score, precision_score, recall_score, f1_score, fbeta_score\n",
    "from sklearn.metrics import roc_curve, roc_auc_score, precision_recall_curve\n",
    "from sklearn.naive_bayes import GaussianNB\n",
    "from sklearn.svm import SVC\n",
    "from sklearn.tree import DecisionTreeClassifier\n",
    "from sklearn.ensemble import RandomForestClassifier\n",
    "from sklearn.preprocessing import label_binarize\n",
    "from sklearn.preprocessing import StandardScaler\n",
    "from sklearn.pipeline import make_pipeline\n",
    "from sklearn import pipeline, feature_selection, decomposition\n",
    "from sklearn.base import BaseEstimator, TransformerMixin\n",
    "from sklearn.naive_bayes import GaussianNB, MultinomialNB\n",
    "from sklearn.externals import joblib\n",
    "from sklearn.dummy import DummyClassifier\n",
    "from sklearn.feature_extraction.text import TfidfVectorizer\n",
    "from sklearn.pipeline import Pipeline, FeatureUnion\n",
    "\n",
    "from sklearn.cluster import DBSCAN\n",
    "from sklearn.decomposition import PCA\n",
    "\n",
    "# NLP \n",
    "import nltk\n",
    "from nltk.corpus import stopwords\n",
    "from nltk.sentiment.vader import SentimentIntensityAnalyzer\n",
    "from textblob import TextBlob\n",
    "import spacy\n",
    "import gensim\n",
    "import snowballstemmer\n",
    "\n",
    "# Misc.\n",
    "import re\n",
    "import datetime\n",
    "import time\n",
    "import logging\n",
    "import math\n",
    "\n",
    "% matplotlib inline\n",
    "\n",
    "sns.set_style(\"white\")\n",
    "sns.set_style('ticks')\n",
    "sns.set_style({'xtick.direction': u'in', 'ytick.direction': u'in'})\n",
    "sns.set_style({'legend.frameon': True})"
   ]
  },
  {
   "cell_type": "markdown",
   "metadata": {},
   "source": [
    "## Running List of Functions/Classes"
   ]
  },
  {
   "cell_type": "markdown",
   "metadata": {},
   "source": [
    "### Classes"
   ]
  },
  {
   "cell_type": "code",
   "execution_count": 41,
   "metadata": {
    "collapsed": false
   },
   "outputs": [],
   "source": [
    "class DataframeToSeriesTransformer(BaseEstimator, TransformerMixin):\n",
    "        \n",
    "    def __init__(self, col=None):\n",
    "        self.col = col\n",
    "    \n",
    "    def fit(self, x, y=None):\n",
    "        return self\n",
    "    \n",
    "    def transform(self, X):\n",
    "        if self.col:\n",
    "            return X[self.col]\n",
    "        else:\n",
    "            return X\n",
    "        \n",
    "class SeparateFeaturesTransformer(BaseEstimator, TransformerMixin):\n",
    "    \n",
    "    def __init__(self, num_cols=None, text_cols=None):\n",
    "        self.num_cols = num_cols\n",
    "        self.text_cols = text_cols\n",
    "        \n",
    "    def fit(self, x, y=None):\n",
    "        return self\n",
    "    \n",
    "    def transform(self, X):\n",
    "        if self.num_cols:\n",
    "            return X.loc[:, self.num_cols]\n",
    "        elif self.text_cols:\n",
    "            return X.loc[:, self.text_cols]\n",
    "        else:\n",
    "            return X\n",
    "        \n",
    "class WilsonAverageTransformer(BaseEstimator, TransformerMixin):\n",
    "    \n",
    "    def __init__(self, num_col=None, biz_list=None):\n",
    "        self.num_col = num_col\n",
    "        self.biz_list = biz_list\n",
    "    \n",
    "    def fit(self, x, y=None):\n",
    "        return self\n",
    "    \n",
    "    def transform(self, X):\n",
    "        if self.num_col and self.biz_list.all():\n",
    "            scores = get_average_rating(X, self.biz_list)\n",
    "            \n",
    "            X_avg = pd.DataFrame({'average': scores})\n",
    "            \n",
    "            return X_avg\n",
    "        else:\n",
    "            return X\n",
    "        \n",
    "class CleanTextTransformer(BaseEstimator, TransformerMixin):\n",
    "\n",
    "    def __init__(self, text_col=None):\n",
    "        self.text_col = text_col\n",
    "        \n",
    "    def fit(self, x, y=None):\n",
    "        return self\n",
    "    \n",
    "    def transform(self, X):\n",
    "#         NLP = spacy.load('en')\n",
    "        stemmer = snowballstemmer.EnglishStemmer()\n",
    "        stop = stopwords.words('english')\n",
    "        stop_list = stemmer.stemWords(stop)\n",
    "        stop_list = set(stop_list)\n",
    "        stop = set(stop + list(stop_list))\n",
    "        \n",
    "        if self.text_col:\n",
    "            df = pd.DataFrame()\n",
    "            clean_review_list = []\n",
    "            \n",
    "            for review in X.loc[:, self.text_col]:\n",
    "                clean_review = ''\n",
    "                \n",
    "                for word in TextBlob(review).words:\n",
    "                    if word not in stop:\n",
    "                        clean_review += word.lemmatize() + ' '\n",
    "                        \n",
    "#                 clean_review = NLP(clean_review)\n",
    "                clean_review_list.append(clean_review)\n",
    "                        \n",
    "            df['clean_reviews'] = clean_review_list\n",
    "            \n",
    "            return df\n",
    "        else:\n",
    "            return X\n",
    "        \n",
    "class DensifyTransformer(BaseEstimator, TransformerMixin):\n",
    "\n",
    "    def fit(self, X, y=None):\n",
    "        return self\n",
    "\n",
    "    def transform(self, X):\n",
    "        return X.toarray()\n",
    "    \n",
    "class SentimentTransformer(BaseEstimator, TransformerMixin):\n",
    "    \n",
    "    def __init__(self, text_col=None):\n",
    "        self.text_col = text_col\n",
    "    \n",
    "    def fit(self, x, y=None):\n",
    "        return self\n",
    "    \n",
    "    def transform(self, X):\n",
    "        if self.text_col:\n",
    "            df = pd.DataFrame()\n",
    "            sum_pol_list = []\n",
    "            sum_sub_list = []\n",
    "\n",
    "            for doc in X[self.text_col]:\n",
    "                sum_pol = 0\n",
    "                sum_sub = 0\n",
    "                doc_blob = TextBlob(doc)\n",
    "\n",
    "                for sent in doc_blob.sentences:\n",
    "                    sum_pol += sent.sentiment[0]\n",
    "                    sum_sub += sent.sentiment[1]\n",
    "\n",
    "                sum_pol_list.append(sum_pol)\n",
    "                sum_sub_list.append(sum_sub)\n",
    "\n",
    "            df['pol'] = sum_pol_list\n",
    "            df['sub'] = sum_sub_list\n",
    "            return df\n",
    "        else:\n",
    "            return X\n",
    "     "
   ]
  },
  {
   "cell_type": "markdown",
   "metadata": {},
   "source": [
    "### Functions"
   ]
  },
  {
   "cell_type": "code",
   "execution_count": 91,
   "metadata": {
    "collapsed": false
   },
   "outputs": [],
   "source": [
    "def confidence(pos, neg):\n",
    "    '''\n",
    "    Calculates the Wilson confidence where pos is the number of positive ratings\n",
    "    and neg is the number of negative ratings.\n",
    "    '''\n",
    "    n = pos + neg\n",
    "    \n",
    "    if n == 0:\n",
    "        return 0\n",
    "    z = 1.96 # 95% confidence interval\n",
    "    phat = float(pos) / n\n",
    "    return (((phat + z*z/(2*n) - z * np.sqrt((phat*(1-phat)+z*z/(4*n))/n))/(1+z*z/n)))\n",
    "\n",
    "def get_average_rating(df, biz_list):\n",
    "    '''\n",
    "    Compiles the list of average ratings for each business in biz_list.\n",
    "    '''\n",
    "    wils_list = []\n",
    "    \n",
    "    for biz in biz_list:\n",
    "        ind_biz = df[df['name'] == biz]\n",
    "        \n",
    "        pos_count = 0\n",
    "        neg_count = 0\n",
    "        \n",
    "        for rating in ind_biz['rating']:\n",
    "            if rating > 3:\n",
    "                pos_count += 1\n",
    "            else:\n",
    "                neg_count += 1\n",
    "        \n",
    "        wils_conf = confidence(pos_count, neg_count)\n",
    "        wils_list.append(wils_conf)\n",
    "    return wils_list\n",
    "\n",
    "def sample_cluster(df, group_by_cols, size=5):\n",
    "    sample_fn = lambda obj: obj.loc[np.random.choice(obj.index, size, replace=True), :]\n",
    "    df = df.groupby(group_by_cols, as_index=False).apply(sample_fn)\n",
    "    \n",
    "    return df"
   ]
  },
  {
   "cell_type": "markdown",
   "metadata": {},
   "source": [
    "## Data Preprocessing"
   ]
  },
  {
   "cell_type": "markdown",
   "metadata": {},
   "source": [
    "### Load in data"
   ]
  },
  {
   "cell_type": "code",
   "execution_count": 8,
   "metadata": {
    "collapsed": false
   },
   "outputs": [],
   "source": [
    "df_init = joblib.load('../data/df_tot')"
   ]
  },
  {
   "cell_type": "markdown",
   "metadata": {},
   "source": [
    "### Reorder columns"
   ]
  },
  {
   "cell_type": "code",
   "execution_count": 9,
   "metadata": {
    "collapsed": false
   },
   "outputs": [],
   "source": [
    "df_init = df_init[['name', 'rating' ,'reviews']]"
   ]
  },
  {
   "cell_type": "markdown",
   "metadata": {},
   "source": [
    "### Change rating to int type"
   ]
  },
  {
   "cell_type": "code",
   "execution_count": 10,
   "metadata": {
    "collapsed": true
   },
   "outputs": [],
   "source": [
    "df_init['rating'] = df_init['rating'].apply(lambda x: int(x))"
   ]
  },
  {
   "cell_type": "markdown",
   "metadata": {},
   "source": [
    "### Create holdout set"
   ]
  },
  {
   "cell_type": "code",
   "execution_count": 11,
   "metadata": {
    "collapsed": false
   },
   "outputs": [
    {
     "name": "stdout",
     "output_type": "stream",
     "text": [
      "Holdout Size:  40939\n",
      "CV Size:  163757\n"
     ]
    }
   ],
   "source": [
    "df_shuffled = df_init.sample(frac=1)\n",
    "\n",
    "holdout_size = round(len(df_shuffled)*0.2)\n",
    "\n",
    "df_holdout = df_shuffled.iloc[:holdout_size, :]\n",
    "df_model = df_shuffled.iloc[holdout_size:, :]\n",
    "\n",
    "print(\"Holdout Size: \", len(df_holdout))\n",
    "print(\"CV Size: \", len(df_model))"
   ]
  },
  {
   "cell_type": "markdown",
   "metadata": {},
   "source": [
    "### Sort the dataframe for cross-validation"
   ]
  },
  {
   "cell_type": "code",
   "execution_count": 12,
   "metadata": {
    "collapsed": false
   },
   "outputs": [
    {
     "name": "stderr",
     "output_type": "stream",
     "text": [
      "/Users/plim0793/anaconda/lib/python3.5/site-packages/ipykernel/__main__.py:1: FutureWarning: sort(....) is deprecated, use sort_index(.....)\n",
      "  if __name__ == '__main__':\n"
     ]
    }
   ],
   "source": [
    "df_model = df_model.sort()"
   ]
  },
  {
   "cell_type": "markdown",
   "metadata": {},
   "source": [
    "### Create transformers for splitting text and num columns"
   ]
  },
  {
   "cell_type": "code",
   "execution_count": 74,
   "metadata": {
    "collapsed": true
   },
   "outputs": [
    {
     "name": "stdout",
     "output_type": "stream",
     "text": [
      "                                             reviews\n",
      "1  A pretty hipster, modern spacious place to do ...\n",
      "2  Great place to grab a coffee and you can get t...\n",
      "3  Coffee is amazing! Overpriced as usual. There'...\n",
      "4  Big time coffee lover. First time customer and...\n",
      "5  Cool vibes abound in this warehouse-style open...\n",
      "   rating\n",
      "1       4\n",
      "2       5\n",
      "3       4\n",
      "4       4\n",
      "5       5\n"
     ]
    }
   ],
   "source": [
    "t = SeparateFeatures(text_cols=['reviews'])\n",
    "n = SeparateFeatures(num_cols=['rating'])\n",
    "\n",
    "print(t.transform(df_model).head())\n",
    "print(n.transform(df_model).head())"
   ]
  },
  {
   "cell_type": "code",
   "execution_count": 11,
   "metadata": {
    "collapsed": false
   },
   "outputs": [
    {
     "data": {
      "text/plain": [
       "(163757, 3)"
      ]
     },
     "execution_count": 11,
     "metadata": {},
     "output_type": "execute_result"
    }
   ],
   "source": [
    "t.transform(df_model).shape\n",
    "n.transform(df_model).shape"
   ]
  },
  {
   "cell_type": "markdown",
   "metadata": {},
   "source": [
    "### Create transformer for averaging ratings for each business (may not need this since I might not average across the each business)"
   ]
  },
  {
   "cell_type": "markdown",
   "metadata": {},
   "source": [
    "#### Get Wilson average for one business"
   ]
  },
  {
   "cell_type": "code",
   "execution_count": 12,
   "metadata": {
    "collapsed": false
   },
   "outputs": [],
   "source": [
    "one_biz = df_model[df_model['name'] == '0_FourBarrelCoffee']"
   ]
  },
  {
   "cell_type": "code",
   "execution_count": 13,
   "metadata": {
    "collapsed": false
   },
   "outputs": [],
   "source": [
    "pos_count = 0\n",
    "neg_count = 0\n",
    "\n",
    "for rating in one_biz['rating']:\n",
    "    if rating > 3:\n",
    "        pos_count += 1\n",
    "    else:\n",
    "        neg_count += 1\n",
    "        \n",
    "wil_conf = confidence(pos_count, neg_count)"
   ]
  },
  {
   "cell_type": "markdown",
   "metadata": {},
   "source": [
    "#### Generalize to all businesses"
   ]
  },
  {
   "cell_type": "code",
   "execution_count": 14,
   "metadata": {
    "collapsed": false
   },
   "outputs": [],
   "source": [
    "biz_list = df_model['name'].unique()"
   ]
  },
  {
   "cell_type": "code",
   "execution_count": 15,
   "metadata": {
    "collapsed": false
   },
   "outputs": [],
   "source": [
    "wils_scores = get_average_rating(df_model, biz_list)"
   ]
  },
  {
   "cell_type": "markdown",
   "metadata": {},
   "source": [
    "#### Create the transformer class"
   ]
  },
  {
   "cell_type": "code",
   "execution_count": 16,
   "metadata": {
    "collapsed": true
   },
   "outputs": [],
   "source": [
    "wat = WilsonAverageTransformer(num_col='rating', biz_list=biz_list)"
   ]
  },
  {
   "cell_type": "code",
   "execution_count": 17,
   "metadata": {
    "collapsed": true
   },
   "outputs": [
    {
     "data": {
      "text/html": [
       "<div>\n",
       "<table border=\"1\" class=\"dataframe\">\n",
       "  <thead>\n",
       "    <tr style=\"text-align: right;\">\n",
       "      <th></th>\n",
       "      <th>average</th>\n",
       "    </tr>\n",
       "  </thead>\n",
       "  <tbody>\n",
       "    <tr>\n",
       "      <th>0</th>\n",
       "      <td>0.717901</td>\n",
       "    </tr>\n",
       "    <tr>\n",
       "      <th>1</th>\n",
       "      <td>0.858098</td>\n",
       "    </tr>\n",
       "    <tr>\n",
       "      <th>2</th>\n",
       "      <td>0.795028</td>\n",
       "    </tr>\n",
       "    <tr>\n",
       "      <th>3</th>\n",
       "      <td>0.732776</td>\n",
       "    </tr>\n",
       "    <tr>\n",
       "      <th>4</th>\n",
       "      <td>0.811068</td>\n",
       "    </tr>\n",
       "    <tr>\n",
       "      <th>5</th>\n",
       "      <td>0.790576</td>\n",
       "    </tr>\n",
       "    <tr>\n",
       "      <th>6</th>\n",
       "      <td>0.719914</td>\n",
       "    </tr>\n",
       "    <tr>\n",
       "      <th>7</th>\n",
       "      <td>0.891296</td>\n",
       "    </tr>\n",
       "    <tr>\n",
       "      <th>8</th>\n",
       "      <td>0.564857</td>\n",
       "    </tr>\n",
       "    <tr>\n",
       "      <th>9</th>\n",
       "      <td>0.922868</td>\n",
       "    </tr>\n",
       "    <tr>\n",
       "      <th>10</th>\n",
       "      <td>0.792293</td>\n",
       "    </tr>\n",
       "    <tr>\n",
       "      <th>11</th>\n",
       "      <td>0.882392</td>\n",
       "    </tr>\n",
       "    <tr>\n",
       "      <th>12</th>\n",
       "      <td>0.599987</td>\n",
       "    </tr>\n",
       "    <tr>\n",
       "      <th>13</th>\n",
       "      <td>0.691520</td>\n",
       "    </tr>\n",
       "    <tr>\n",
       "      <th>14</th>\n",
       "      <td>0.759557</td>\n",
       "    </tr>\n",
       "    <tr>\n",
       "      <th>15</th>\n",
       "      <td>0.607752</td>\n",
       "    </tr>\n",
       "    <tr>\n",
       "      <th>16</th>\n",
       "      <td>0.725742</td>\n",
       "    </tr>\n",
       "    <tr>\n",
       "      <th>17</th>\n",
       "      <td>0.646733</td>\n",
       "    </tr>\n",
       "    <tr>\n",
       "      <th>18</th>\n",
       "      <td>0.774520</td>\n",
       "    </tr>\n",
       "    <tr>\n",
       "      <th>19</th>\n",
       "      <td>0.829265</td>\n",
       "    </tr>\n",
       "    <tr>\n",
       "      <th>20</th>\n",
       "      <td>0.760822</td>\n",
       "    </tr>\n",
       "    <tr>\n",
       "      <th>21</th>\n",
       "      <td>0.750826</td>\n",
       "    </tr>\n",
       "    <tr>\n",
       "      <th>22</th>\n",
       "      <td>0.758883</td>\n",
       "    </tr>\n",
       "    <tr>\n",
       "      <th>23</th>\n",
       "      <td>0.900569</td>\n",
       "    </tr>\n",
       "    <tr>\n",
       "      <th>24</th>\n",
       "      <td>0.777617</td>\n",
       "    </tr>\n",
       "    <tr>\n",
       "      <th>25</th>\n",
       "      <td>0.595991</td>\n",
       "    </tr>\n",
       "    <tr>\n",
       "      <th>26</th>\n",
       "      <td>0.666438</td>\n",
       "    </tr>\n",
       "    <tr>\n",
       "      <th>27</th>\n",
       "      <td>0.726558</td>\n",
       "    </tr>\n",
       "    <tr>\n",
       "      <th>28</th>\n",
       "      <td>0.504826</td>\n",
       "    </tr>\n",
       "    <tr>\n",
       "      <th>29</th>\n",
       "      <td>0.642752</td>\n",
       "    </tr>\n",
       "    <tr>\n",
       "      <th>...</th>\n",
       "      <td>...</td>\n",
       "    </tr>\n",
       "    <tr>\n",
       "      <th>801</th>\n",
       "      <td>0.759213</td>\n",
       "    </tr>\n",
       "    <tr>\n",
       "      <th>802</th>\n",
       "      <td>0.775050</td>\n",
       "    </tr>\n",
       "    <tr>\n",
       "      <th>803</th>\n",
       "      <td>0.796786</td>\n",
       "    </tr>\n",
       "    <tr>\n",
       "      <th>804</th>\n",
       "      <td>0.744498</td>\n",
       "    </tr>\n",
       "    <tr>\n",
       "      <th>805</th>\n",
       "      <td>0.688230</td>\n",
       "    </tr>\n",
       "    <tr>\n",
       "      <th>806</th>\n",
       "      <td>0.577810</td>\n",
       "    </tr>\n",
       "    <tr>\n",
       "      <th>807</th>\n",
       "      <td>0.814134</td>\n",
       "    </tr>\n",
       "    <tr>\n",
       "      <th>808</th>\n",
       "      <td>0.450314</td>\n",
       "    </tr>\n",
       "    <tr>\n",
       "      <th>809</th>\n",
       "      <td>0.873341</td>\n",
       "    </tr>\n",
       "    <tr>\n",
       "      <th>810</th>\n",
       "      <td>0.708262</td>\n",
       "    </tr>\n",
       "    <tr>\n",
       "      <th>811</th>\n",
       "      <td>0.408930</td>\n",
       "    </tr>\n",
       "    <tr>\n",
       "      <th>812</th>\n",
       "      <td>0.384941</td>\n",
       "    </tr>\n",
       "    <tr>\n",
       "      <th>813</th>\n",
       "      <td>0.389483</td>\n",
       "    </tr>\n",
       "    <tr>\n",
       "      <th>814</th>\n",
       "      <td>0.560629</td>\n",
       "    </tr>\n",
       "    <tr>\n",
       "      <th>815</th>\n",
       "      <td>0.433005</td>\n",
       "    </tr>\n",
       "    <tr>\n",
       "      <th>816</th>\n",
       "      <td>0.809061</td>\n",
       "    </tr>\n",
       "    <tr>\n",
       "      <th>817</th>\n",
       "      <td>0.531295</td>\n",
       "    </tr>\n",
       "    <tr>\n",
       "      <th>818</th>\n",
       "      <td>0.891433</td>\n",
       "    </tr>\n",
       "    <tr>\n",
       "      <th>819</th>\n",
       "      <td>0.908187</td>\n",
       "    </tr>\n",
       "    <tr>\n",
       "      <th>820</th>\n",
       "      <td>0.710980</td>\n",
       "    </tr>\n",
       "    <tr>\n",
       "      <th>821</th>\n",
       "      <td>0.342542</td>\n",
       "    </tr>\n",
       "    <tr>\n",
       "      <th>822</th>\n",
       "      <td>0.947261</td>\n",
       "    </tr>\n",
       "    <tr>\n",
       "      <th>823</th>\n",
       "      <td>0.684759</td>\n",
       "    </tr>\n",
       "    <tr>\n",
       "      <th>824</th>\n",
       "      <td>0.702870</td>\n",
       "    </tr>\n",
       "    <tr>\n",
       "      <th>825</th>\n",
       "      <td>0.638473</td>\n",
       "    </tr>\n",
       "    <tr>\n",
       "      <th>826</th>\n",
       "      <td>0.813074</td>\n",
       "    </tr>\n",
       "    <tr>\n",
       "      <th>827</th>\n",
       "      <td>0.473448</td>\n",
       "    </tr>\n",
       "    <tr>\n",
       "      <th>828</th>\n",
       "      <td>0.518672</td>\n",
       "    </tr>\n",
       "    <tr>\n",
       "      <th>829</th>\n",
       "      <td>0.566655</td>\n",
       "    </tr>\n",
       "    <tr>\n",
       "      <th>830</th>\n",
       "      <td>0.969713</td>\n",
       "    </tr>\n",
       "  </tbody>\n",
       "</table>\n",
       "<p>831 rows × 1 columns</p>\n",
       "</div>"
      ],
      "text/plain": [
       "      average\n",
       "0    0.717901\n",
       "1    0.858098\n",
       "2    0.795028\n",
       "3    0.732776\n",
       "4    0.811068\n",
       "5    0.790576\n",
       "6    0.719914\n",
       "7    0.891296\n",
       "8    0.564857\n",
       "9    0.922868\n",
       "10   0.792293\n",
       "11   0.882392\n",
       "12   0.599987\n",
       "13   0.691520\n",
       "14   0.759557\n",
       "15   0.607752\n",
       "16   0.725742\n",
       "17   0.646733\n",
       "18   0.774520\n",
       "19   0.829265\n",
       "20   0.760822\n",
       "21   0.750826\n",
       "22   0.758883\n",
       "23   0.900569\n",
       "24   0.777617\n",
       "25   0.595991\n",
       "26   0.666438\n",
       "27   0.726558\n",
       "28   0.504826\n",
       "29   0.642752\n",
       "..        ...\n",
       "801  0.759213\n",
       "802  0.775050\n",
       "803  0.796786\n",
       "804  0.744498\n",
       "805  0.688230\n",
       "806  0.577810\n",
       "807  0.814134\n",
       "808  0.450314\n",
       "809  0.873341\n",
       "810  0.708262\n",
       "811  0.408930\n",
       "812  0.384941\n",
       "813  0.389483\n",
       "814  0.560629\n",
       "815  0.433005\n",
       "816  0.809061\n",
       "817  0.531295\n",
       "818  0.891433\n",
       "819  0.908187\n",
       "820  0.710980\n",
       "821  0.342542\n",
       "822  0.947261\n",
       "823  0.684759\n",
       "824  0.702870\n",
       "825  0.638473\n",
       "826  0.813074\n",
       "827  0.473448\n",
       "828  0.518672\n",
       "829  0.566655\n",
       "830  0.969713\n",
       "\n",
       "[831 rows x 1 columns]"
      ]
     },
     "execution_count": 17,
     "metadata": {},
     "output_type": "execute_result"
    }
   ],
   "source": [
    "wat.transform(df_model)"
   ]
  },
  {
   "cell_type": "markdown",
   "metadata": {},
   "source": [
    "### Create a transformer for preprocessing the reviews"
   ]
  },
  {
   "cell_type": "markdown",
   "metadata": {},
   "source": [
    "#### Get the lemmatized review for just one review"
   ]
  },
  {
   "cell_type": "code",
   "execution_count": 18,
   "metadata": {
    "collapsed": false
   },
   "outputs": [],
   "source": [
    "one_review = df_model.iloc[0, 2]"
   ]
  },
  {
   "cell_type": "code",
   "execution_count": 19,
   "metadata": {
    "collapsed": true
   },
   "outputs": [],
   "source": [
    "nlp = spacy.load('en')"
   ]
  },
  {
   "cell_type": "code",
   "execution_count": 20,
   "metadata": {
    "collapsed": false
   },
   "outputs": [],
   "source": [
    "sample_doc = nlp(one_review)"
   ]
  },
  {
   "cell_type": "code",
   "execution_count": 21,
   "metadata": {
    "collapsed": false
   },
   "outputs": [],
   "source": [
    "clean_doc = ''\n",
    "for word in sample_doc:\n",
    "    if word.is_stop == False:\n",
    "        clean_doc += word.lemma_ + ' '\n",
    "clean_doc = nlp(clean_doc)"
   ]
  },
  {
   "cell_type": "code",
   "execution_count": 22,
   "metadata": {
    "collapsed": true
   },
   "outputs": [
    {
     "name": "stdout",
     "output_type": "stream",
     "text": [
      "hipster coffee galore ! happen good ol cup joe ?\n",
      "need expensive ?\n",
      "line long , figure coffee mind blow .\n",
      "impressed . enjoy !\n"
     ]
    }
   ],
   "source": [
    "for sent in clean_doc.sents:\n",
    "    print(sent)"
   ]
  },
  {
   "cell_type": "markdown",
   "metadata": {},
   "source": [
    "#### Generalize to all reviews"
   ]
  },
  {
   "cell_type": "code",
   "execution_count": 23,
   "metadata": {
    "collapsed": true
   },
   "outputs": [],
   "source": [
    "test_df = df_model.iloc[:100, :]"
   ]
  },
  {
   "cell_type": "code",
   "execution_count": 24,
   "metadata": {
    "collapsed": false
   },
   "outputs": [],
   "source": [
    "ct = CleanText('reviews')\n",
    "\n",
    "test_ct = ct.transform(test_df)"
   ]
  },
  {
   "cell_type": "code",
   "execution_count": 25,
   "metadata": {
    "collapsed": false
   },
   "outputs": [],
   "source": [
    "tf = TfidfVectorizer()\n",
    "\n",
    "tf_t = tf.fit_transform(test_ct.clean_reviews)"
   ]
  },
  {
   "cell_type": "code",
   "execution_count": 26,
   "metadata": {
    "collapsed": true
   },
   "outputs": [
    {
     "data": {
      "text/plain": [
       "matrix([[ 0.,  0.,  0., ...,  0.,  0.,  0.],\n",
       "        [ 0.,  0.,  0., ...,  0.,  0.,  0.],\n",
       "        [ 0.,  0.,  0., ...,  0.,  0.,  0.],\n",
       "        ..., \n",
       "        [ 0.,  0.,  0., ...,  0.,  0.,  0.],\n",
       "        [ 0.,  0.,  0., ...,  0.,  0.,  0.],\n",
       "        [ 0.,  0.,  0., ...,  0.,  0.,  0.]])"
      ]
     },
     "execution_count": 26,
     "metadata": {},
     "output_type": "execute_result"
    }
   ],
   "source": [
    "tf_t.todense()"
   ]
  },
  {
   "cell_type": "code",
   "execution_count": 28,
   "metadata": {
    "collapsed": false
   },
   "outputs": [
    {
     "name": "stdout",
     "output_type": "stream",
     "text": [
      "hipster coffee galore ! happen good ol cup joe ? need expensive ? line long , figure coffee mind blow . impressed . enjoy ! \n"
     ]
    }
   ],
   "source": [
    "print(test_ct.clean_reviews[0])"
   ]
  },
  {
   "cell_type": "markdown",
   "metadata": {},
   "source": [
    "## Build the Pipeline"
   ]
  },
  {
   "cell_type": "markdown",
   "metadata": {},
   "source": [
    "#### Set a smaller test dataframe (10 samples from each business)"
   ]
  },
  {
   "cell_type": "code",
   "execution_count": 92,
   "metadata": {
    "collapsed": true
   },
   "outputs": [],
   "source": [
    "df_test = sample_cluster(df_model, ['name'], size=5)"
   ]
  },
  {
   "cell_type": "code",
   "execution_count": 96,
   "metadata": {
    "collapsed": false
   },
   "outputs": [
    {
     "data": {
      "text/plain": [
       "(4155, 3)"
      ]
     },
     "execution_count": 96,
     "metadata": {},
     "output_type": "execute_result"
    }
   ],
   "source": [
    "df_test.shape"
   ]
  },
  {
   "cell_type": "code",
   "execution_count": 48,
   "metadata": {
    "collapsed": false
   },
   "outputs": [],
   "source": [
    "pipe = Pipeline([\n",
    "        ('combined_features', FeatureUnion([\n",
    "                    \n",
    "            ('num_feat', SeparateFeaturesTransformer(num_cols=['rating'])),\n",
    "            ('text_feat', Pipeline([\n",
    "                                \n",
    "                ('split_text', SeparateFeaturesTransformer(text_cols=['reviews'])),\n",
    "                ('clean', CleanTextTransformer('reviews')),\n",
    "                ('vectorize', Pipeline([\n",
    "                                            \n",
    "                    ('to_series', DataframeToSeriesTransformer(col='clean_reviews')),\n",
    "                    ('tfidf', TfidfVectorizer(stop_words=\"english\",\n",
    "                                              token_pattern=\"\\\\b[a-zA-Z][a-zA-Z]+\\\\b\",\n",
    "                                              min_df=10)),\n",
    "                    ('densify', DensifyTransformer())\n",
    "                                        ])),\n",
    "                ('sentiment',Pipeline([\n",
    "                    ('sentiment_analysis', SentimentTransformer())\n",
    "                                      ]))\n",
    "                                    ]))\n",
    "                                        ])),\n",
    "        ('pca', PCA(n_components=2)),\n",
    "        ('model', DBSCAN())\n",
    "                    ])"
   ]
  },
  {
   "cell_type": "markdown",
   "metadata": {},
   "source": [
    "### In order to take a closer look at the text processing steps, a smaller pipeline will be created"
   ]
  },
  {
   "cell_type": "markdown",
   "metadata": {},
   "source": [
    "#### Set the text processing steps"
   ]
  },
  {
   "cell_type": "code",
   "execution_count": 19,
   "metadata": {
    "collapsed": false
   },
   "outputs": [],
   "source": [
    "text_processing = Pipeline([\n",
    "                ('clean', CleanTextTransformer('reviews')),\n",
    "                ('to_series', DataframeToSeriesTransformer(col='clean_reviews')),\n",
    "                ('tfidf', TfidfVectorizer(stop_words=\"english\",\n",
    "                                          token_pattern=\"\\\\b[a-zA-Z][a-zA-Z]+\\\\b\",\n",
    "                                          min_df=10)),\n",
    "                ('densify', DensifyTransformer())\n",
    "            ])"
   ]
  },
  {
   "cell_type": "code",
   "execution_count": 67,
   "metadata": {
    "collapsed": false
   },
   "outputs": [
    {
     "data": {
      "text/plain": [
       "(4155, 2167)"
      ]
     },
     "execution_count": 67,
     "metadata": {},
     "output_type": "execute_result"
    }
   ],
   "source": [
    "tp = text_processing.fit_transform(df_test)\n",
    "tp.shape"
   ]
  },
  {
   "cell_type": "markdown",
   "metadata": {},
   "source": [
    "#### Run PCA with 2 latent features"
   ]
  },
  {
   "cell_type": "code",
   "execution_count": 68,
   "metadata": {
    "collapsed": false
   },
   "outputs": [],
   "source": [
    "pca = PCA(n_components=2)"
   ]
  },
  {
   "cell_type": "code",
   "execution_count": 71,
   "metadata": {
    "collapsed": false
   },
   "outputs": [],
   "source": [
    "tpm = pca.fit_transform(tp)"
   ]
  },
  {
   "cell_type": "code",
   "execution_count": 72,
   "metadata": {
    "collapsed": false
   },
   "outputs": [
    {
     "data": {
      "text/plain": [
       "<matplotlib.collections.PathCollection at 0x127b52f60>"
      ]
     },
     "execution_count": 72,
     "metadata": {},
     "output_type": "execute_result"
    },
    {
     "data": {
      "image/png": "[encoded data removed]",
      "text/plain": [
       "<matplotlib.figure.Figure at 0x1151f1c18>"
      ]
     },
     "metadata": {},
     "output_type": "display_data"
    }
   ],
   "source": [
    "plt.scatter(tpm[:,0], tpm[:,1])"
   ]
  },
  {
   "cell_type": "code",
   "execution_count": 73,
   "metadata": {
    "collapsed": false
   },
   "outputs": [
    {
     "name": "stdout",
     "output_type": "stream",
     "text": [
      "[ 0.00957769  0.00838182]\n"
     ]
    }
   ],
   "source": [
    "print(pca.explained_variance_ratio_)"
   ]
  },
  {
   "cell_type": "markdown",
   "metadata": {},
   "source": [
    "#### Try various numbers of latent features"
   ]
  },
  {
   "cell_type": "code",
   "execution_count": 61,
   "metadata": {
    "collapsed": false,
    "scrolled": false
   },
   "outputs": [],
   "source": [
    "pca_range = [i for i in range(40)]\n",
    "pca_variances_cum = []\n",
    "\n",
    "for num in pca_range:\n",
    "    pca_obj = PCA(n_components=num)\n",
    "    pca_fit = pca_obj.fit_transform(tp_dense)\n",
    "    \n",
    "    pca_variances_cum.append(sum(pca_obj.explained_variance_ratio_))"
   ]
  },
  {
   "cell_type": "code",
   "execution_count": 62,
   "metadata": {
    "collapsed": false
   },
   "outputs": [
    {
     "data": {
      "text/plain": [
       "<matplotlib.text.Text at 0x1295becf8>"
      ]
     },
     "execution_count": 62,
     "metadata": {},
     "output_type": "execute_result"
    },
    {
     "data": {
      "image/png": "[encoded data removed]",
      "text/plain": [
       "<matplotlib.figure.Figure at 0x1151815f8>"
      ]
     },
     "metadata": {},
     "output_type": "display_data"
    }
   ],
   "source": [
    "fig, ax = plt.subplots(2,1, figsize=(8,6))\n",
    "\n",
    "left  = 0.125  # the left side of the subplots of the figure\n",
    "right = 0.9    # the right side of the subplots of the figure\n",
    "bottom = 0.1   # the bottom of the subplots of the figure\n",
    "top = 0.9      # the top of the subplots of the figure\n",
    "wspace = 0.2   # the amount of width reserved for blank space between subplots\n",
    "hspace = 0.5   # the amount of height reserved for white space between subplots\n",
    "\n",
    "fig.subplots_adjust(left=left, bottom=bottom, right=right, top=top, wspace=wspace, hspace=hspace)\n",
    "\n",
    "# Plot of explained variance\n",
    "ax1 = ax[0]\n",
    "ax1.bar([x for x in range(len(pca_obj.explained_variance_ratio_))],pca_obj.explained_variance_ratio_)\n",
    "\n",
    "ax1.set_title(\"Explained Variance\", size=18)\n",
    "ax1.set_ylabel(\"Percent Explained\", size=16)\n",
    "ax1.set_xlabel(\"Principal Component\", size=16)\n",
    "\n",
    "# Plot of cumulative explained variance\n",
    "ax2 = ax[1]\n",
    "ax2.plot([x for x in range(len(pca_variances_cum))], pca_variances_cum)\n",
    "\n",
    "ax2.set_title(\"Cumulative Explained Variance\", size=18)\n",
    "ax2.set_ylabel(\"Percent Explained\", size=16)\n",
    "ax2.set_xlabel(\"Principal Component\", size=16)"
   ]
  },
  {
   "cell_type": "markdown",
   "metadata": {},
   "source": [
    "## Gauge how the baseline pipeline is running"
   ]
  },
  {
   "cell_type": "code",
   "execution_count": 98,
   "metadata": {
    "collapsed": false
   },
   "outputs": [],
   "source": [
    "baseline = pipe.fit_predict(df_test)"
   ]
  },
  {
   "cell_type": "markdown",
   "metadata": {},
   "source": [
    "### 5 clusters from the DB Scan algorithm"
   ]
  },
  {
   "cell_type": "code",
   "execution_count": 99,
   "metadata": {
    "collapsed": false
   },
   "outputs": [
    {
     "data": {
      "text/plain": [
       "array([0, 1, 2, 3, 4])"
      ]
     },
     "execution_count": 99,
     "metadata": {},
     "output_type": "execute_result"
    }
   ],
   "source": [
    "np.unique(baseline)"
   ]
  },
  {
   "cell_type": "markdown",
   "metadata": {},
   "source": [
    "### Append the predicted clusters to the dataframe"
   ]
  },
  {
   "cell_type": "code",
   "execution_count": 100,
   "metadata": {
    "collapsed": true
   },
   "outputs": [],
   "source": [
    "df_test['cluster'] = baseline"
   ]
  },
  {
   "cell_type": "code",
   "execution_count": 101,
   "metadata": {
    "collapsed": false
   },
   "outputs": [],
   "source": [
    "grouped_df_test = df_test.groupby(['cluster'], as_index=False)"
   ]
  },
  {
   "cell_type": "markdown",
   "metadata": {},
   "source": [
    "### Randomly draw a subset of reviews from each cluster and look at them individually"
   ]
  },
  {
   "cell_type": "code",
   "execution_count": 102,
   "metadata": {
    "collapsed": false
   },
   "outputs": [],
   "source": [
    "sampled_df = sample_cluster(df_test, ['cluster'], size=5)"
   ]
  },
  {
   "cell_type": "code",
   "execution_count": 104,
   "metadata": {
    "collapsed": false
   },
   "outputs": [
    {
     "name": "stdout",
     "output_type": "stream",
     "text": [
      "The place was dinky and didn't give you a happy feeling, but the food wasn't bad at all.  I had the pork Vietnamese sandwich, it was pretty good, not great, but pretty good.  And they're always cheap, so no problem there.\n",
      "Went here on a whim last Friday at lunch time. The cafe is really cute and the staff was friendly. Hey, they even bring your food to you. While here, I had ordered the chicken pesto sandwich which came with a side salad. I have to say that it was just OK. I don't believe it was worth the $10 that I had paid for it. I probably won't order this again. However, I will go back and give it another try :) Stay tuned for another review.\n",
      "This is the coolest looking Starbucks interior design wise! It is super cool, and I give it 5 stars on that note. I wish I could say the same for the service here. My usual staple order is an iced coffee with caramel syrup--not too complicated, but this location seems to have A LOT of problems keeping orders straight, even the simple drinks. On one occasion they forgot to make the drink altogether--oops! When I had already been waiting awhile, giving them a chance to figure out their mistakes on their own.  I go here often, because it is close to work, but I do wish they would beef up on the service side of things at this particular location.\n",
      "I went there in the morning to grab a sandwich. I tried the Avocado sandwich which was about $9. The sandwich bread is really thin which I appreciated a lot. However, the sandwich barely had any pesto. You can find better sandwiches in that area.\n",
      "Pretty good and the price is really great. Decor and service is excellent!\n",
      "I'll preface my review with whats been said a million times here on Yelp.  This place is really worth 2.5 stars because the setting is really beautiful, especially the terrace.  I attended a meet-up event here at the bar so I didn't get to sample any of the food, but I don't think golfers have great taste in food so I don't think I'm missing anything.  So I'll get to the negative part of the review.  I was craving a glass of red wine, and they offer 1 of each.  I chose the Pinot, which was served to me in an extremely lipstick smudged glass.  When I pointed this out to the bartender, he said \"oh yeah you're right\" and took out another glass, held it up in the light and tried to remove the lipstick smudges from my glass.    He proceeded to dump the wine from filthy Dirty Glass A into semi-filthy Glass B.  More than a few Yelpers know that I'm borderline OCD so I'm trying really hard to stay cool and maintain my composure.   I mean if they can't get the outside of the glass clean, what makes me think they could get the inside clean.  And of course he charged me for the full price.  Hopefully the alcohol killed whatever lurked behind.So I would love to come back here for a meeting, but I'll only order bottled beverages that their dishwasher couldn't contaminate.\n",
      "I'll preface my review with whats been said a million times here on Yelp.  This place is really worth 2.5 stars because the setting is really beautiful, especially the terrace.  I attended a meet-up event here at the bar so I didn't get to sample any of the food, but I don't think golfers have great taste in food so I don't think I'm missing anything.  So I'll get to the negative part of the review.  I was craving a glass of red wine, and they offer 1 of each.  I chose the Pinot, which was served to me in an extremely lipstick smudged glass.  When I pointed this out to the bartender, he said \"oh yeah you're right\" and took out another glass, held it up in the light and tried to remove the lipstick smudges from my glass.    He proceeded to dump the wine from filthy Dirty Glass A into semi-filthy Glass B.  More than a few Yelpers know that I'm borderline OCD so I'm trying really hard to stay cool and maintain my composure.   I mean if they can't get the outside of the glass clean, what makes me think they could get the inside clean.  And of course he charged me for the full price.  Hopefully the alcohol killed whatever lurked behind.So I would love to come back here for a meeting, but I'll only order bottled beverages that their dishwasher couldn't contaminate.\n",
      "The friendly attentive barista wasn't there when I went with a friend... One of us asked for a latte extra hot. \"We don't do that here, it burns the milk and ruins the coffee\". Never heard that one before... Minus two stars. He ignored any attempt at small talk. Coffee was on par with Starbucks, good but not great, minus 1 star. I guess we caught them on an off day. I tipped a buck out of habit, wish I hadn't. Lose the 'tude dude.\n",
      "Was there a few times. Every time something else went wrong. Their espresso is undrinkable. It's sour probably because they don't know how to maintain their espresso machine. One other time I got a glass of rosé which was served in room temperature. When I asked to get a cold rosé they said that the one I got is the coldest they have. Overall they're overpriced, the service is poor and they don't have much to offer coffee wise. Two stars is for the nice setup of the place.\n",
      "It's got wireless and not so much room for baby strollers (yay!).  The blue bottle coffee is excellent and the bar/counter is a fun place to hang out.  There's quality wireless and spinning vinyl sometimes.  The only real reason I don't go here more frequently is that the interior is a bit dark and dismal.  So it would be nice to get a bit more light in there.\n",
      "Super convenient for the train, being that it's right there at the station, swing by, grab breakfast and hop a train. Perfect...Only the line was long and disorganized. People were ordering and then just standing at the counter waiting for their hot sandwiches. My croissant (my breakfast pastry weakness) was not buttery and flaky and I would expect, instead it was like eating a bread roll. This alone is enough to make me not spend my money there anymore.I never even tried the coffee but I would recommend spending $1.25 at the newspaper stand next door or bring a to go because waiting in an unorganized line when you have a train to catch is just frustrating, even more so when the product isn't even all that great.\n",
      "This is only a review of the vanilla chai latte. Delicious and creamy like gingerbread. Kept me warm on a cold night. However, minus one star because of the $15 credit card minimum. After reading these reviews, I think I'm going to have to go back and try the Geisha float.\n",
      "I absolutely love this place. I live in Orange County and every time I plan to make a trip to SF, I make it a mandatory stop at Saint Frank before I head back home.The first time I came here, I ordered a simple Americano just to get a good base flavor and we also ordered a simple Iced Latte with almond milk. What made that iced almond milk latte so good!? After constantly comparing other iced almond latte's to other coffee shops, I learned that Saint Frank makes their own in-house Almond-macadamia milk! I'm more of a black coffee/americano drinker, but their in-house almond-macadamia milk made the iced latte that much better.With coffee shops, I look for consistency in taste, cleanly atmosphere, and intelligence and knowledge of coffee among the staff and baristas. Saint Frank Satisfies all 3. Not to mention, they referred me to 2 other coffee shops in LA that make a similar in-house almond-macadamia milk. Very resourceful!\n",
      "This baguette is really fresh and has a great crust, it's a little bit messy with bread crumbs.  I ate it at my desk and made a little mess, next time I'll use the lunchroom.WAY less spicy than the average, usually I order mild and cry just a little bit.CRAZY strong coffee, like jet fuel.\n",
      "This place lives up to the hype ! I first saw the feature on insiderFOOD on Facebook and I love every thing matcha so I felt like I had to stop by on our trip to NorCal! The line was pretty long about 25 min wait on a Friday afternoon. the boba is pretty pricey for what you get but it is specialty boba and I didn't mind paying the price. I went here twice in one weekend and overall I felt like the strawberry matcha latte was the best!!! I loved the presentation of the drink, and it was delicious. I could taste the freshness of the strawberry puree which paired well with the matcha and the boba was nice and chewy. I also tried the classic milk tea (good but not worth the price) and the matchata which wasn't sweet enough almost. I would come here and solely get the strawberry matcha latte !!!\n",
      "Clam Chowder and Turkey Pesto Sandwich (toasted for that panini feel), bueno.My friend attempted to pay for me which added pressure on the server as he held two credit cards not sure which one to use.  I had to use the \" use my card or I will never come back\" line.  He ended up using my card which was a smart move.  I win.\n",
      "The cinnamon rolls are out of this world.  The vegetarian sandwich with cheddar hits all the right savory flavor tones with the satisfying real-bread of Xan's amazing house baked sandwich roll -- and I'm not even vegetarian.  Salads are amazing.  Pizzas are delectable.  Everything is made with care and creativity, and served with neighborly friendliness.\n",
      "My boyfriend and I needed an afternoon pick me up after visiting Dolores Park. I was really excited when I found out that Philz was so close so we took a nice leisurely stroll to grab coffee. It was about a 10-15 minute walk and we enjoyed the nice SF weather :)I got the Iced Mocha Tesora and it had a delicious chocolatey flavor that didn't overpower the coffee taste. Yummy! I had a few sips of my bf's iced Mint Mojito too. It was good and refreshing but it's not really my cup of tea (or shall I say coffee? haha) because I'm not a big fan of mint. I've also tried the iced Philtered Soul at another location and that one has a great hazelnut taste :)The baristas are friendly and service was great. This location has a lot of charm and character, and I loved the smattering of cute unicorns in the store! I'm sure we'll be back again whenever we're in town :)\n",
      "I LOVE THIS TEAM. They make my morning..every morning! Such warm people here. And they've memorized the two drinks I switch off with so by the time I reach the counter, it's rung up. You're the best, guys. Thanks for keeping me awake during work.\n",
      "KitTea is a wonderful experience with lovable cats and staff! The staff are extremely helpful and kind to not only you but the cats. Their customer service is beyond belief and their cats are adorable. The tea and food is delicious so make sure you try out everything there!\n",
      "Coffee is a stimulant, but cafés are social lubricants. If I could work out of a coffee shop, I would find myself, if not daily, at least weekly at Café Murano. I happened upon this place because I had a couple of hours to kill before an appointment, and there's no better place to \"work socially\" than a coffee house.This small, brightly painted café has a hodgepodge of mismatched furniture, including a sofa, your grandfather's comfy chair, and even a row of 3 theater seats, one of which has a gnarly head rest cover stretched over the back. There is some outdoor seating as well, which works particularly well at this location given the double-width of Steiner's sidewalk. Artwork is everywhere, and each of the tables has a painted mural on its surface. Everything looks thrown together, and for that reason, it works.The clients are as varied as the furniture, and their tastes are just as particular. The owner and his staff are upbeat, conversational, courteous and as much responsible for the vibe of the place as the setting. They greet familiar faces, and ask whether you'll be having \"the usual.\"  Great care is taken in the making of every espresso drink, and each panino, pastry or salad is similarly done with an appreciation for freshness.This is one area where Café Murano really seems to excel, which is in the freshness of their food. Case in point: their incredible fruit cup, which is loaded with a terrific variety of fruit. The pananis are served on fresh baked bread, and they are brimming with ingredients (and each is served with a complimentary cup of fruit). I had one of the rolo panini (chicken breast, mozzarella and sun-dried tomatoes), which was just what you would come to expect - nothing complicated, just simple, fresh and delicious.Their coffee (America's Best brand), while it does not surpass some of the other prestigious coffee houses and vendors of San Francisco, is brewed fresh, has just the right kick and is served hot. This isn't a place to come and grab a cup to go, this is a cultural melting pot where it is much more appropriate to stay for as long as your schedule will let you. Take a break from work and strike up a conversation about Neitzsche with a forehead-pierced stranger; chill to the café's selection of alternative music next to the college band members who are comparing notes on T61; try and explain the Kama Sutra book you're reading to the elderly woman walking her two Shitsus; or sit out in the sunshine with your laptop, taking advantage of their free Wi-Fi (they've also got two public terminals inside).Café Murano gives me more reason to believe that coffee culture, if adopted more broadly, could solve a lot of the world's problems.\n",
      "I will never give these people my money ! I am allergic to almonds and asked to have my sandwich made without the almond spread and was told she was making avocado sandwiches and would have to wait 20 mins until she was done! Don't understand what's so hard to take 5 mins out of your time and no one else in line to make a paying customer a sandwich poor customer service\n",
      "After buying a Groupon and being excited to try this restaurant, we were very disappointed when the small and very expensive portions arrived. We do not recommend this place.\n",
      "went in today and asked if they have blended coffee....the guy with glasses says \"I don't know what you mean\"....I said \"like a frappachino or something similar\"...he says with attitude \"there's a Starbucks down the street\"......and you know what?....he's right\n",
      "As a Samaritan stuck at the bus stop stranded with no change but a $5 bill to take the bus because CLIPPER though it would be funny and very convenient to block my card due to an auto-load issue without informing me. I came knocking on the door of Silver Cafe to get some change. I walked in and politely asked the lady behind the counter for change. She opens her register and said she didn't want even though she clearly had enough to break my $5. I know this wasn't a bank but as a civil duty to human kind and when one is in such dilemma she could have graciously broke my $5 and send me on my merry way. She said I would need to buy something...and I was refused previously at the liquor store next door with the same excuse. I browsed the menu quickly and decided to just get a glazed donut which would leave me with four $1 bills and a quarter for 3 minutes at a parking meter. I stood there patiently waiting for her to come back since she was assisting another customer. I took a quick browse around and notice it was quite dingy and run down, Costco muffins and a lot of chatty mail carriers. She came back disgruntled with an angry face. SERIOUS!?!?! I WAS GOING TO BUY SOMETHING, BE PLEASANT AT LEAST!!!She got my deformed over sized and greasy piece of crap they call a donut and chucked it into a brown paper bag and sent me on my way just in time to catch the bus I needed the change to begin with.I took a bite of the donut on the bus, first bite ok. Very dense donut not like the fluffiness you get when biting into a Krispy Kreme but it was alright. A couple more bites and then I realized it was getting extremely dry and tasteless. But being one not to waste food I scarfed the rest down to the tremors of my stomach.\n",
      "$3.21 for a watery shot of low quality espresso. I'm sure rent is high,  but I expect something decent for that price!\n"
     ]
    }
   ],
   "source": [
    "for doc in sampled_df['reviews']:\n",
    "    print(doc)"
   ]
  },
  {
   "cell_type": "code",
   "execution_count": null,
   "metadata": {
    "collapsed": true
   },
   "outputs": [],
   "source": []
  }
 ],
 "metadata": {
  "anaconda-cloud": {},
  "kernelspec": {
   "display_name": "Python [default]",
   "language": "python",
   "name": "python3"
  },
  "language_info": {
   "codemirror_mode": {
    "name": "ipython",
    "version": 3
   },
   "file_extension": ".py",
   "mimetype": "text/x-python",
   "name": "python",
   "nbconvert_exporter": "python",
   "pygments_lexer": "ipython3",
   "version": "3.5.2"
  }
 },
 "nbformat": 4,
 "nbformat_minor": 1
}
