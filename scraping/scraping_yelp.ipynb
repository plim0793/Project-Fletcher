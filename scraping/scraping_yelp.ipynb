{
 "cells": [
  {
   "cell_type": "markdown",
   "metadata": {},
   "source": [
    "# Scraping Script\n",
    "\n",
    "Paul Lim\n",
    "\n",
    "05/19/2017"
   ]
  },
  {
   "cell_type": "markdown",
   "metadata": {},
   "source": [
    "## Libraries"
   ]
  },
  {
   "cell_type": "code",
   "execution_count": 50,
   "metadata": {
    "collapsed": true
   },
   "outputs": [],
   "source": [
    "import pandas as pd\n",
    "import numpy as np\n",
    "import matplotlib.pyplot as plt\n",
    "import seaborn as sns\n",
    "import re\n",
    "\n",
    "import requests\n",
    "from bs4 import BeautifulSoup\n",
    "import time\n",
    "\n",
    "from fake_useragent import UserAgent"
   ]
  },
  {
   "cell_type": "markdown",
   "metadata": {},
   "source": [
    "## List of Functions"
   ]
  },
  {
   "cell_type": "code",
   "execution_count": 122,
   "metadata": {
    "collapsed": true
   },
   "outputs": [],
   "source": [
    "def scrape_biz_links(url_template, start, end, delay=5):\n",
    "    biz_name_list = []\n",
    "    biz_link_list = []\n",
    "    ua = UserAgent()\n",
    "    \n",
    "    count = 0\n",
    "    for i in range(start, end+1, 10):\n",
    "        url = url_template.format(num=i)\n",
    "        user_agent = {'User-agent': ua.random}\n",
    "        \n",
    "        try:\n",
    "            link = requests.get(url, headers=user_agent)\n",
    "        except:\n",
    "            print(url)\n",
    "            print('URL does not work.')\n",
    "            \n",
    "        page = link.text\n",
    "        soup = BeautifulSoup(page, 'html5lib')\n",
    "        \n",
    "        all_items = soup.find_all('span', {'class': 'indexed-biz-name'})\n",
    "        \n",
    "        if all_items:\n",
    "            for item in all_items:\n",
    "                name = item.getText()\n",
    "                name2 = re.sub('[0-9]+\\.', '', name)\n",
    "                name_clean = re.sub('\\s+', '', name2)\n",
    "\n",
    "                biz_link = item.find('a', href=True).get('href')\n",
    "                biz_link2 = 'https://www.yelp.com' + biz_link\n",
    "                \n",
    "                if not name_clean:\n",
    "                    print(url)\n",
    "                    print('No name of business found')\n",
    "                    name_clean = 'FILLER'\n",
    "                elif not biz_link2:\n",
    "                    print(url)\n",
    "                    print('No link to business found')\n",
    "                    continue\n",
    "                    \n",
    "                biz_name_list.append(name_clean)\n",
    "                biz_link_list.append(biz_link2)\n",
    "        else:\n",
    "            print(url)\n",
    "            print('Could not find indexed-biz-name')\n",
    "            \n",
    "        time.sleep(delay + 2*np.random.rand())\n",
    "        \n",
    "        print(count*10)\n",
    "        count += 1\n",
    "    \n",
    "    return biz_name_list, biz_link_list\n",
    "\n",
    "def scrape_biz_reviews(url_template, start, end, delay=5):\n",
    "    biz_rating_list = []\n",
    "    biz_review_list = []\n",
    "    ua = UserAgent()\n",
    "    \n",
    "    count = 0\n",
    "    for i in range(start, end+1, 20):\n",
    "        url = url_template.format(num=i)\n",
    "        user_agent = {'User-agent': ua.random}\n",
    "        \n",
    "        try:\n",
    "            link = requests.get(url, headers=user_agent)\n",
    "        except:\n",
    "            print(url)\n",
    "            print('URL does not work.')\n",
    "            \n",
    "        page = link.text\n",
    "        soup = BeautifulSoup(page, 'html5lib')\n",
    "        \n",
    "        all_items = soup.find_all('div', {'class': 'review-content'})\n",
    "        \n",
    "        if all_items:\n",
    "            for item in all_items:\n",
    "                rating = item.find('div', {'class': 'i-stars'})['title']\n",
    "                rating2 = re.sub('\\D', '', rating)\n",
    "                rating_clean = re.sub('0', '', rating2)\n",
    "\n",
    "                review = item.find('p').getText()\n",
    "                \n",
    "                if not rating_clean:\n",
    "                    print(url)\n",
    "                    print('No rating found')\n",
    "                    rating_clean = '-1'\n",
    "                elif not review:\n",
    "                    print(url)\n",
    "                    print('No review found')\n",
    "                    continue\n",
    "                \n",
    "                biz_rating_list.append(rating_clean)\n",
    "                biz_review_list.append(review)\n",
    "        else:\n",
    "            print(url)\n",
    "            print('Could not find review-content')\n",
    "            \n",
    "        time.sleep(delay + 2*np.random.rand())\n",
    "        \n",
    "        print(count)\n",
    "        count += 1\n",
    "    \n",
    "    return biz_rating_list, biz_review_list"
   ]
  },
  {
   "cell_type": "markdown",
   "metadata": {},
   "source": [
    "## Scrape Links"
   ]
  },
  {
   "cell_type": "markdown",
   "metadata": {},
   "source": [
    "### Start with one page"
   ]
  },
  {
   "cell_type": "code",
   "execution_count": 2,
   "metadata": {
    "collapsed": true
   },
   "outputs": [],
   "source": [
    "url_ex = 'https://www.yelp.com/search?find_desc=Caf%C3%A9s+%26+Coffee+Shops&find_loc=San+Francisco%2C+CA&ns=1'\n",
    "\n",
    "link_ex = requests.get(url_ex)\n",
    "page_ex = link_ex.text\n",
    "soup_ex = BeautifulSoup(page_ex, 'html5lib')"
   ]
  },
  {
   "cell_type": "markdown",
   "metadata": {},
   "source": [
    "#### Get the name of business"
   ]
  },
  {
   "cell_type": "code",
   "execution_count": 34,
   "metadata": {
    "collapsed": true
   },
   "outputs": [],
   "source": [
    "ex_biz_name = soup_ex.find('span', {'class': 'indexed-biz-name'}).getText()\n",
    "ex_biz_name2 = re.sub('[0-9]+\\.', '', ex_biz_name)\n",
    "ex_biz_name_clean = re.sub('\\s+', '', ex_biz_name2)"
   ]
  },
  {
   "cell_type": "markdown",
   "metadata": {},
   "source": [
    "#### Get the link to the business"
   ]
  },
  {
   "cell_type": "code",
   "execution_count": 37,
   "metadata": {
    "collapsed": false
   },
   "outputs": [],
   "source": [
    "ex_link_name = soup_ex.find('span', {'class': 'indexed-biz-name'}).find('a', href=True).get('href')\n",
    "ex_link_name2 = 'https://www.yelp.com' + ex_link_name"
   ]
  },
  {
   "cell_type": "markdown",
   "metadata": {},
   "source": [
    "#### Get all links and business names for one page"
   ]
  },
  {
   "cell_type": "code",
   "execution_count": 39,
   "metadata": {
    "collapsed": true
   },
   "outputs": [],
   "source": [
    "one_page = soup_ex.find_all('span', {'class': 'indexed-biz-name'})\n",
    "ex_biz_name_list = []\n",
    "ex_biz_link_list = []\n",
    "\n",
    "for item in one_page:\n",
    "    ex_name = item.getText()\n",
    "    ex_name2 = re.sub('[0-9]+\\.', '', ex_name)\n",
    "    ex_name_clean = re.sub('\\s+', '', ex_name2)\n",
    "    ex_biz_name_list.append(ex_name_clean)\n",
    "    \n",
    "    ex_link = item.find('a', href=True).get('href')\n",
    "    ex_link2 = 'https://www.yelp.com' + ex_link\n",
    "    ex_biz_link_list.append(ex_link2)"
   ]
  },
  {
   "cell_type": "markdown",
   "metadata": {},
   "source": [
    "### Generalize to any number of pages"
   ]
  },
  {
   "cell_type": "markdown",
   "metadata": {},
   "source": [
    "#### Try function on two pages"
   ]
  },
  {
   "cell_type": "code",
   "execution_count": 116,
   "metadata": {
    "collapsed": true
   },
   "outputs": [
    {
     "name": "stdout",
     "output_type": "stream",
     "text": [
      "0\n",
      "10\n",
      "20\n"
     ]
    },
    {
     "data": {
      "text/plain": [
       "[('FourBarrelCoffee',\n",
       "  'https://www.yelp.com/biz/four-barrel-coffee-san-francisco?osq=Caf%C3%A9s+%26+Coffee+Shops'),\n",
       " ('Home',\n",
       "  'https://www.yelp.com/biz/home-san-francisco-30?osq=Caf%C3%A9s+%26+Coffee+Shops'),\n",
       " ('Rise&Grind',\n",
       "  'https://www.yelp.com/biz/rise-and-grind-san-francisco-2?osq=Caf%C3%A9s+%26+Coffee+Shops'),\n",
       " ('SaltrootCafé',\n",
       "  'https://www.yelp.com/biz/saltroot-caf%C3%A9-san-francisco-4?osq=Caf%C3%A9s+%26+Coffee+Shops'),\n",
       " ('SightglassCoffee',\n",
       "  'https://www.yelp.com/biz/sightglass-coffee-san-francisco?osq=Caf%C3%A9s+%26+Coffee+Shops'),\n",
       " ('SaintFrankCoffee',\n",
       "  'https://www.yelp.com/biz/saint-frank-coffee-san-francisco-2?osq=Caf%C3%A9s+%26+Coffee+Shops'),\n",
       " ('RéveilleCoffeeCo.',\n",
       "  'https://www.yelp.com/biz/r%C3%A9veille-coffee-co-san-francisco-6?osq=Caf%C3%A9s+%26+Coffee+Shops'),\n",
       " ('CoffeeShop',\n",
       "  'https://www.yelp.com/biz/coffeeshop-san-francisco?osq=Caf%C3%A9s+%26+Coffee+Shops'),\n",
       " ('GreenhouseCafe',\n",
       "  'https://www.yelp.com/biz/greenhouse-cafe-san-francisco-2?osq=Caf%C3%A9s+%26+Coffee+Shops'),\n",
       " ('TheTemporariumCoffee&Tea',\n",
       "  'https://www.yelp.com/biz/the-temporarium-coffee-and-tea-san-francisco?osq=Caf%C3%A9s+%26+Coffee+Shops'),\n",
       " ('ArtisCoffee',\n",
       "  'https://www.yelp.com/biz/artis-coffee-san-francisco-3?osq=Caf%C3%A9s+%26+Coffee+Shops'),\n",
       " ('AndytownCoffeeRoasters',\n",
       "  'https://www.yelp.com/biz/andytown-coffee-roasters-san-francisco?osq=Caf%C3%A9s+%26+Coffee+Shops'),\n",
       " ('BorderlandsCafé',\n",
       "  'https://www.yelp.com/biz/borderlands-caf%C3%A9-san-francisco-2?osq=Caf%C3%A9s+%26+Coffee+Shops'),\n",
       " ('Hollow',\n",
       "  'https://www.yelp.com/biz/hollow-san-francisco?osq=Caf%C3%A9s+%26+Coffee+Shops'),\n",
       " ('CoffeeBar',\n",
       "  'https://www.yelp.com/biz/coffee-bar-san-francisco?osq=Caf%C3%A9s+%26+Coffee+Shops'),\n",
       " ('BeanstalkCafe',\n",
       "  'https://www.yelp.com/biz/beanstalk-cafe-san-francisco-2?osq=Caf%C3%A9s+%26+Coffee+Shops'),\n",
       " ('StanzaCoffee',\n",
       "  'https://www.yelp.com/biz/stanza-coffee-san-francisco?osq=Caf%C3%A9s+%26+Coffee+Shops'),\n",
       " ('TheMill',\n",
       "  'https://www.yelp.com/biz/the-mill-san-francisco?osq=Caf%C3%A9s+%26+Coffee+Shops'),\n",
       " ('CoffeeMission',\n",
       "  'https://www.yelp.com/biz/coffee-mission-san-francisco?osq=Caf%C3%A9s+%26+Coffee+Shops'),\n",
       " ('MazarineCoffee',\n",
       "  'https://www.yelp.com/biz/mazarine-coffee-san-francisco-2?osq=Caf%C3%A9s+%26+Coffee+Shops'),\n",
       " ('SnowbirdCoffee',\n",
       "  'https://www.yelp.com/biz/snowbird-coffee-san-francisco?osq=Caf%C3%A9s+%26+Coffee+Shops'),\n",
       " ('CraftsmanandWolves',\n",
       "  'https://www.yelp.com/biz/craftsman-and-wolves-san-francisco?osq=Caf%C3%A9s+%26+Coffee+Shops'),\n",
       " ('RitualCoffeeRoasters',\n",
       "  'https://www.yelp.com/biz/ritual-coffee-roasters-san-francisco?osq=Caf%C3%A9s+%26+Coffee+Shops'),\n",
       " ('Zo11Coffee',\n",
       "  'https://www.yelp.com/biz/zo11-coffee-san-francisco?osq=Caf%C3%A9s+%26+Coffee+Shops'),\n",
       " ('BlueBottleCoffee',\n",
       "  'https://www.yelp.com/biz/blue-bottle-coffee-san-francisco-21?osq=Caf%C3%A9s+%26+Coffee+Shops'),\n",
       " ('WorkshopCafe',\n",
       "  'https://www.yelp.com/biz/workshop-cafe-san-francisco?osq=Caf%C3%A9s+%26+Coffee+Shops'),\n",
       " ('CafeLaVie',\n",
       "  'https://www.yelp.com/biz/cafe-la-vie-san-francisco?osq=Caf%C3%A9s+%26+Coffee+Shops'),\n",
       " ('LaPromenadeCafé',\n",
       "  'https://www.yelp.com/biz/la-promenade-caf%C3%A9-san-francisco-2?osq=Caf%C3%A9s+%26+Coffee+Shops'),\n",
       " ('BlueDanubeCoffeeHouse',\n",
       "  'https://www.yelp.com/biz/blue-danube-coffee-house-san-francisco?osq=Caf%C3%A9s+%26+Coffee+Shops'),\n",
       " ('FlywheelCoffeeRoasters',\n",
       "  'https://www.yelp.com/biz/flywheel-coffee-roasters-san-francisco?osq=Caf%C3%A9s+%26+Coffee+Shops')]"
      ]
     },
     "execution_count": 116,
     "metadata": {},
     "output_type": "execute_result"
    }
   ],
   "source": [
    "url_template_2 = 'https://www.yelp.com/search?find_desc=Cafés+%26+Coffee+Shops&find_loc=San+Francisco,+CA&start={num}'\n",
    "name_2, link_2 = scrape_biz_links(url_template_2, 0, 20)\n",
    "list(zip(name_2, link_2))"
   ]
  },
  {
   "cell_type": "markdown",
   "metadata": {},
   "source": [
    "#### Test case for broken link"
   ]
  },
  {
   "cell_type": "code",
   "execution_count": 117,
   "metadata": {
    "collapsed": true
   },
   "outputs": [
    {
     "name": "stdout",
     "output_type": "stream",
     "text": [
      "https://www.yelp.com/seh?find_desc=Cafés+%26+Coffee+Shops&find_loc=San+Francisco,+CA&start=0\n",
      "Could not find indexed-biz-name\n",
      "0\n",
      "https://www.yelp.com/seh?find_desc=Cafés+%26+Coffee+Shops&find_loc=San+Francisco,+CA&start=10\n",
      "Could not find indexed-biz-name\n",
      "10\n",
      "https://www.yelp.com/seh?find_desc=Cafés+%26+Coffee+Shops&find_loc=San+Francisco,+CA&start=20\n",
      "Could not find indexed-biz-name\n",
      "20\n"
     ]
    },
    {
     "data": {
      "text/plain": [
       "[]"
      ]
     },
     "execution_count": 117,
     "metadata": {},
     "output_type": "execute_result"
    }
   ],
   "source": [
    "url_template_broken = 'https://www.yelp.com/seh?find_desc=Cafés+%26+Coffee+Shops&find_loc=San+Francisco,+CA&start={num}'\n",
    "name_b, link_b = scrape_biz_links(url_template_broken, 0, 20)\n",
    "list(zip(name_b, link_b))"
   ]
  },
  {
   "cell_type": "markdown",
   "metadata": {},
   "source": [
    "## Scrape Reviews"
   ]
  },
  {
   "cell_type": "markdown",
   "metadata": {},
   "source": [
    "### Start with one page"
   ]
  },
  {
   "cell_type": "code",
   "execution_count": 75,
   "metadata": {
    "collapsed": true
   },
   "outputs": [],
   "source": [
    "url_att = 'https://www.yelp.com/biz/r%C3%A9veille-coffee-co-san-francisco-6?osq=Caf%C3%A9s+%26+Coffee+Shops'\n",
    "\n",
    "link_att = requests.get(url_att)\n",
    "page_att = link_att.text\n",
    "soup_att = BeautifulSoup(page_att, 'html5lib')"
   ]
  },
  {
   "cell_type": "markdown",
   "metadata": {},
   "source": [
    "#### Get the rating value"
   ]
  },
  {
   "cell_type": "code",
   "execution_count": 94,
   "metadata": {
    "collapsed": false
   },
   "outputs": [],
   "source": [
    "container_att = soup_att.find('div', {'class': 'review-content'})\n",
    "rating_att = container_att.find('div', {'class': 'i-stars'})['title']\n",
    "rating_act_att = re.sub('\\D', '', rating_att)\n",
    "\n",
    "# Remove the trailing zero since all ratings can be an integer between 0-5.\n",
    "rating_act_att2 = re.sub('0', '', rating_act_att)"
   ]
  },
  {
   "cell_type": "markdown",
   "metadata": {},
   "source": [
    "#### Get the text review"
   ]
  },
  {
   "cell_type": "code",
   "execution_count": 97,
   "metadata": {
    "collapsed": true
   },
   "outputs": [],
   "source": [
    "review_att = container_att.find('p').getText()"
   ]
  },
  {
   "cell_type": "markdown",
   "metadata": {},
   "source": [
    "#### Get all ratings and text reviews for one page"
   ]
  },
  {
   "cell_type": "code",
   "execution_count": 101,
   "metadata": {
    "collapsed": false
   },
   "outputs": [],
   "source": [
    "all_containers_att = soup_att.find_all('div', {'class': 'review-content'})\n",
    "ratings_list_att = []\n",
    "reviews_list_att = []\n",
    "\n",
    "for container in all_containers_att:\n",
    "    ex_rating = container.find('div', {'class': 'i-stars'})['title']\n",
    "    ex_rating2 = re.sub('\\D', '', ex_rating)\n",
    "    ex_rating_clean = re.sub('0', '', ex_rating2)\n",
    "    \n",
    "    ex_review = container.find('p').getText()\n",
    "    \n",
    "    ratings_list_att.append(ex_rating_clean)\n",
    "    reviews_list_att.append(ex_review)"
   ]
  },
  {
   "cell_type": "markdown",
   "metadata": {},
   "source": [
    "### Generalize to any number of pages"
   ]
  },
  {
   "cell_type": "markdown",
   "metadata": {},
   "source": [
    "#### Try function on two pages"
   ]
  },
  {
   "cell_type": "code",
   "execution_count": 120,
   "metadata": {
    "collapsed": true
   },
   "outputs": [
    {
     "name": "stdout",
     "output_type": "stream",
     "text": [
      "0\n",
      "1\n",
      "2\n"
     ]
    },
    {
     "data": {
      "text/plain": [
       "[('5',\n",
       "  \"love this spot. GREAT coffee and good food. and an outdoor area!and the staff is 99% great as well. they get 5 stars for that, but there is one french girl who is a total buzz kill. like she's too cool to smile or talk to anyone. she's such a downer that if i go in and she's working i actually LEAVE or wait for someone else to take a turn at the register.\"),\n",
       " ('4',\n",
       "  \"This is one of the Reveille locations, which is located in Castro. I've been to the other location in the Dogpatch area and really liked the vanilla latte and the ambience at that location. Here at the Castro location, it is a lot smaller and dimmer. The venue itself is more crowded. There is seating outside which looked pretty cute but inside there's bar seating in the center and table seating lining one of the walls. I ordered an iced latte and it came in a very cute glass cup. The coffee itself wasn't very strong and the flavor got diluted by the ice very quickly. You can ask for the wifi password, and the internet here is very fast and reliable. There are no outlets here however so you should come here with your laptop fully charged if you plan on getting work done for a few hours. The music here wasn't my favorite so it got a bit distracting after a while and overpowering compared to other cafes. Overall, this wasn't my favorite studying environment although wifi was good. I do prefer the other Reveille location to this one.\"),\n",
       " ('5',\n",
       "  \"The coffee a cafe reveille will wake you up and turn you around. No matter your stripe, you'll feel right after this.\"),\n",
       " ('5',\n",
       "  \"Come here every weekend to see my friends and have a cup of latte. It's my favorite spot with one of the best lattes, I've ever had! Love their tuna salad - portion is huge, very delicious!!!Place is cozy, always crowded - Especially crazy on Saturday and Sunday. Baristas and cashiers are nice, always smiling and sending positive vibes. Beka and Alina - my favorite girls over there.\"),\n",
       " ('4',\n",
       "  \"Nice space. Bigger than I thought it would be and clean. Also if it were nice outside, the outdoor tables looked good as well (a little noisy because they are on \\xa018th, but still pleasant).Got an decaf americano. \\xa0It tasted like a decaf americano. Friends got tea. It tasted like tea - but did come in fancy glass pots. Avocado toast tasted like avocado toast - nice and ripe avo. I saw a bunch of food come out that looked really good. I'd like to go back form breakfast/brunch/lunch.Wasn't too crowded on Saturday at noon, but maybe that's because it was raining.\"),\n",
       " ('5',\n",
       "  \"Oh such a pretty site. It's hidden under a Victorian house on Castro St and it couldn't be any more perfect. It seems like an enchanted forest when you first enter - with all the vines, greens, and wood that it's surrounded by. The lights make it super festive and all you want to do is sit on the wooden bar stools outside and people watch all day. The rustic feel makes it super cozy even on a chilly afternoon. And the coffee...well it's impeccable. Ordered a hot latte. Just the right amount of caffeine to keep you going, but not too much to make you feel as though you're on crack. Make sure to take your time and embrace what's around you.\"),\n",
       " ('4',\n",
       "  \"On a Saturday, mid-day, I was in the Castro looking for a coffee place. I first stopped at Philz but the line was too long and there was no seating. The typical Tesora would have been nice but I left exploring for somewhere else. I decided to stray from Castro St, and walk down 18th. That's when I encountered this gem. I noticed people chillin' in the vine draped patio area, drinking cappuccinos or having a late afternoon hot meal. Although this place appears to be primarily a coffee shop, it has a few hot dining options as well. Which is a bit hit or miss because when I'm having coffee, I don't really want the whiff of mustard. Cool vibe inside--mellow acoustic guitar in the background, the patio greenery flowing inside, industrial looking grey concrete flooring, a long white bench with soft cushions, and most curiously wall-to-wall light brown wooden tiling which extended across the ceiling. In a way, it felt as though the ceiling and floor should be reversed. The trippy black and white tiling all across the counter added a nice contrast to the overwhelming wood theme. A bit on the loud side (with the typical inane chatter in the background), and the lighting is dim, so I'd say it's a place that's better for catching up with friends than working on anything requiring your focus. I ordered the latte and chocolate chip cookie. The latte was satisfying, smooth medium blend. The chocolate chip cookie was thick, with salt pieces on top; also satisfying. Overall, not a bad choice if you're looking to find a unique spot to meet up with a friend on a Saturday afternoon.\"),\n",
       " ('5',\n",
       "  \"This coffee shop is truly a gem, an awesome addition to the Castro District. I stopped in for a morning latte, it's always a wonderful way to kick start my day. Friendly team members behind the counter plus prompt service. I truly admire them for taking time to carefully decorating latte art on to each coffee. As a result, the art on my latte is beautifully decorated. Coffee that is carefully crafted and artistically decorated is worth enjoying. A true symbol or a promise from the barista creating the drink. It means they truly care about customer satisfaction.Pros:Spacious coffee shop withe more seating available. More seating means better capability to accommodate patrons sitting to enjoy their coffee and pastry. Overall, positive first experience here so I'll definitely be back.Cons: NONEReasons for rating:- clean facility- prompt service- friendly team members- spacious facility- seating available inside / outside\"),\n",
       " ('4',\n",
       "  'Went to get some work done. The music inside was pretty loud, but the shadowed patio and the coffee were optimal. Nice avocado toast with the perfect touch of olive oil.'),\n",
       " ('5',\n",
       "  \"Oh, pretty little cappuccino, you make my heart sing! I just love, love, love it when there is a caring, fancy, possible coffee snob, throwin' down some precious gifts of coffee and steamed milk for coffee feen/lovers/fanatics like me! You can get your fancy cappuccino, latte or whatever kind of coffee you happen to be craving here, along with a variety of breakfast items. I opted for that nice nectarine danish... but another time, I might go for one of those exciting egg sandwiches or something sensational from their mesmerizing menu! Can't wait to return... YUM.\"),\n",
       " ('3',\n",
       "  \"Reveille is a cute little coffee spot on 18th St, a stone's throw from the hustle and bustle of Castro St. \\xa0Tucked away under a Victorian, it's easy to walk right by and not notice it's there.Atmosphere-wise, it's absolutely lovely. \\xa0Friendly staff, cozy seating, and a small patio ideal for people-watching. \\xa0Even on a busy weekend morning, I managed to snag a place to sit without much difficulty.Unfortunately, the enjoyment ended once my coffee arrived. \\xa0I ordered a mocha, which was was bland and gritty. \\xa0This surprised me, since mochas are awfully hard to mess up. \\xa0(Coffee and chocolate? \\xa0How could that go wrong?)I also had a bowl of yogurt and granola, which was fine but unremarkable. \\xa0The portion size was shockingly small for $7. \\xa0It was gone in just a few bites. \\xa0That was stingy even by San Francisco standards.All in all, I'd say that San Francisco has better coffee shop options than Reveille. \\xa0I guess my standards are higher in a city with one of the most competitive coffee shop scenes around.\"),\n",
       " ('5',\n",
       "  \"Came here to meet up with some friends for coffee on a Friday morning. At first I didn't recognize it because the sign is set back behind the ivy surrounding the patio area. It's a super cute coffee shop that gets fairly crowded. There was a bit of a line when we went to go order, but it went quickly. If you order food, they give you a number and they bring it to you. If you order coffee, you just pick it up at the counter.I ordered a latte and it was pretty good (and cute latte art!).My friends ordered the avocado toast and grapefruit brûlée (which comes as two halves). Both looked delicious!Typical SF prices and good coffee!\"),\n",
       " ('4',\n",
       "  \"Quintessential San Francisco coffee shop -- minimalist interior with $5 mochas. Pros: cool vibes, quality food/coffee; Cons: small space, weird coffee flavor Food: My friend and I came in here for a coffee break in the Castro -- ordered a latte (~$5) and a macchiato (~$3). Lattes are absolutely enormous, served in an almost-bowl mug. You can tell they have baristas that know what they're doing, but whatever beans they were using that morning had a really strange flavor. It was strongly citrusy which tasted somehow off with the steamed milk. However, I'd probably give them the benefit of the doubt and commend them on having coffee that actually has a flavor of some sort. Would try again. Atmosphere: Beautifully designed, all wood interior. Classic SF vibes. It's quite small though, so not a place I'd feel working at for extended periods of time. Value: On the high end for coffee... classic SF prices. Service: Cashier was kind! No complaints.\"),\n",
       " ('4',\n",
       "  \"Walking into the fresh smell of roasted coffee is always a pleasure. My friend introduced me to this little gem during my visit in San Francisco, and I'm glad he did! I ordered a macchiato (about $3.25) and he ordered a green tea ($4-6). The macchiato is not what Starbucks goers are used to... Instead, it comes in a small cup with a cute design on top. It is an easy way to wake yourself up! The green tea comes hot in a little teapot. After adding honey to it, it gives your heart a little sweet warmth in the chilling temperatures of San Francisco.\"),\n",
       " ('5',\n",
       "  \"This cafe has a really nice atmosphere for working or just chilling with your friends. Service was quick and friendly. It's pretty small with an average of two people per table. Breakfast is served only before 11:30am. I came around 10:30am and there wasn't a line, but it was packed. Luckily I found one table open. They also have a beautiful sitting area on the outside. \\xa0I got the avocado toast and a latte with almond milk. They weren't special, but I would definitely come back to try out more of their menu.\"),\n",
       " ('4',\n",
       "  \"Nice little cafe to the side of Castro, I love the seats outside and the clean, minimalistic decor. Cool that they're open so early, and with wifi of course. But it's weird that you can't use their outlets to charge your phones/laptops so this was a minus for me. Also the wifi password cracks me up every time.\"),\n",
       " ('3',\n",
       "  'Definitely a go-to place for people looking to hook up and have coffee in the Castro. $5 drinks which may come with some coffee art. No free wi-fi on weekends (probably to discourage idlers taking up tables). Good luck finding parking.'),\n",
       " ('1',\n",
       "  'See my photo of the $4.50 avo toast I bought here that had a big fucking hole in it. Take your business elsewhere - I certainly will from now on.'),\n",
       " ('2',\n",
       "  \"Ordered a breakfast sandwich, they had a discussion in the kitchen and with the person who took my order, but never came to speak to me. So instead of bringing what I ordered, they brought it the way they thought it should be with no explanation. Even after I tried to correct the error they did declined. I returned the sandwhich and left, unhappy to have paid so much, and a $3 tip on top of it. The place remains popular, but I won't be back. Therre are plenty of other places that serve with a smile to those willing to shell out $20 for a quick breakfast in SF.\"),\n",
       " ('2',\n",
       "  \"Reveille's coffee is decent at most! The staff here is oddly pretentious, cold, and unwelcoming. It's a shame that their food menu is delicious! I often get salads here. Difficult to find healthy salads elsewhere in the Castro. Unfortunately, the coffee shop across the street closed, so I come here by default while doing laundry. I guess Starbucks is another choice.\"),\n",
       " ('3',\n",
       "  \"Coffee is good here. \\xa0But what kind of idiots aren't yet serving lunch at 12:30 in the afternoon on Saturday? \\xa0I'm not alone as I keep hearing patrons asking & being told no lunch yet. \\xa0Poor business practice.\"),\n",
       " ('5',\n",
       "  'Very cute tucked away coffee house with food and excellent coffee. Nice friendly people work here! With outdoor seating this is the perfect place to relax and get a coffee or snack.'),\n",
       " ('4',\n",
       "  \"This is a solid place to go get some coffee and a quick brunch. I got myself a Cappuccino (pictured) and a Shakshuka which was really great although not ordering the Avocado toast required more restraint on my part than I thought. My only real gripe is that they can fill up quite a bit over the weekend which results in not much place to sit around if and relax if you're the type to read a book or get some work done.\"),\n",
       " ('1',\n",
       "  'Orange juice too sweet (\"squeezed in place and we add no sugar\" yeah right!) espresso to sour, no wifi! No reception of LTE.OVER PRICED, OVER PRICED, OVER PRICED!!!!!'),\n",
       " ('4',\n",
       "  'Ridiculously cute cafe in a ridiculously trendy neighborhood. Unfortunately, the parking situation is an absolute nightmare. So hard to get to. After circling around three times in neighboring blocks to find parking, at a crawl because of the auto and pedestrian traffic, mind you, I gave up trying to \"sit and relax\" in this cafe. But I was still determined to try their drinks. So I got dropped off across the street while the husband circled around some more (no choice really).Mint Hibiscus Iced Tea - Just the right blend of mint and hibiscus. I added a bit of their agave sweetener to play the hibiscus up a bit and it is now my new favorite tea. Cafe Mocha - very good. Could totally taste the coffee AND the chocolate.Lots of cute guys. Lots of peeps on their laptops too. WiFi must be free but I couldn\\'t stay long enough to find out.'),\n",
       " ('5',\n",
       "  'Excellent coffee, great people-watching location lol, and apparently great toast, though I have not had the pleasure of trying the toast here.I ordered an almond milk mocha and got some work done at the \"bar\" area. \\xa0The mocha was great...creamy, fantastic espresso beans, and you can tell they take time to make each beverage. \\xa0I like how the place is very welcoming, too-from the baristas, to the open door, to the fact that people who come in here seem nice-Yes, they may keep to themselves, but they\\'re all there to be at this it-spot (for the coffee, for the toast, to get work done, to hang, to check people out, and the list goes on).I was shocked at how many people came in the 2.5 hours I was there. \\xa0I have only been here twice but I like the area it is in and I like the coffee. \\xa0Will be back fo\\' sho\\'!'),\n",
       " ('4',\n",
       "  \"They have excellent coffee, delicious hipster egg dishes on artisanal bread, and decent wifi. Prices aren't cheap, but what is in SF? \\xa0It's especially popular on weekends, but pretty easy to find a seat mid-week.\"),\n",
       " ('5',\n",
       "  \"This place has definitely got the hipster vibes going! Definitely a nice place to go if you like cafe background noise when you're studying. I got a mug of coffee (love places that offer this) and an amazing bacon biscuit. Yum. They do eggs and other stuff for breakfast as well. We also snuck in one of the deadly cookies - yum! One of the cashiers is Danish - not sure why that's relevant, but it made my Danish husband very happy.\"),\n",
       " ('4',\n",
       "  \"Awesome vibes with indoor and outdoor seating. Great for a few hours of work or grabbing coffee/tea with a friend or two. They even had looseleaf tea that comes in a teapot and mug - I had the puerh which was decent. Note: wifi is fast, but there are no outlets, so come fully charged if you're trying to work.\"),\n",
       " ('4',\n",
       "  'I first came here on a Thursday morning to meet a friend over a coffee. The outdoor seating has great curb appeal, especially on the rare sunny day I went. The indoor seating was rather full every minute in the 2 hours that I was there but the vibe is awesome.'),\n",
       " ('4',\n",
       "  'Ok, I like this place buuuuuut they only have two outlets! I just moved to this part of neighborhood and really needed to use the internet for work purposes. Soooo remember to charge your laptops!'),\n",
       " ('3',\n",
       "  \"Cute little millennial spot on 18th Street. \\xa0I don't think I saw anyone over 25 years old there....working or sipping. \\xa0Laptops everywhere and nobody in any hurry to leave....Very SF with a hint of tattooed attitude. \\xa0The coffee itself was very good but not sure why they couldn't bring it to us considering we were sitting at the small counter as soon as you walk in. \\xa0Instead, I had to maneuver through a tight space when they called my order and pick it up myself. \\xa0Making my way around a tight corner filled with people in line waiting to order,--- when the coffee maker was less than 2 feet from us--- just pissed me off. This happened twice--once for the macchiato and again for the latte. \\xa0They served us the coffee cake and pound cake at the counter--not sure why coffee would be different.It's these little things that annoy consumers. Blame it on clueless customer service.It's amazing that yet another garage on this block has become a business.millennialmarketing.com/…\"),\n",
       " ('4',\n",
       "  \"I came here on a Saturday morning around 9 a.m. and it was already starting to get busy! Modern, minimalist interior and a beautiful patio to enjoy your coffee outside. They serve breakfast until 1 p.m. on weekdays, but all day on the weekends!I ordered the avocado toast and a latte. The latte was good, but the avocado toast was amazing! They're very generous with the amount of avocado that they give you and the simple seasoning really brings out the flavor. The dish was beautifully prepared as well. Definitely looking forward to spending another morning here.Unfortunately, they don't have wifi on the weekends, so if you're looking for a good weekend study spot, you'll have to look elsewhere!\"),\n",
       " ('4',\n",
       "  \"Really cute place in Castro! I'm surprised the Starbucks next door gets as much business as it does when Reveille is right there. It's a pretty small place - if you're walking quickly, you'll easily pass right by this place. There's a beautiful sitting area just in front of the entrance that I'd love to enjoy a book at. It's also doggy-heaven here, inside and outside, so bring your furry friends!No wi-fi on the weekends, so really do bring a book. The iced vanilla latte was decent and at SF price (AKA expensive). However, I'd come back just for the ambience/atmosphere!\"),\n",
       " ('5',\n",
       "  'In search of good coffee....excellent cortado. \\xa0Great artistry and strong tasting. \\xa0This Reveille is nestled between Starbucks and Peets on 18th. Street in the Castro neighborhood. \\xa0Definitely worth walking around to find decent, good coffee! \\xa0Seems like every barista works on perfecting the crescent!'),\n",
       " ('4',\n",
       "  'Great coffee - love the pour overs!!Would love to try their iced coffee on the next warm SF day.Amazing avocado toast. Definately need to go here more when I am in the area.'),\n",
       " ('5',\n",
       "  \"One of my new favorite coffee shops in San Francisco with delicious, reasonably priced food that rivals some of the better restaurants / lunch spots, a great ambiance, beautiful decor, and good coffee. What more can you ask for? (Other than WiFi on the weekends, but I can forgive that because it has everything else that I want)My favorite thing on the menu is their salad which is full of seasonal vegetables (usually roasted potatoes, brussel sprouts, etc) and parmesan cheese. For $11-12, it's filling and satisfying enough for a meal. I could eat this every week and probably not get tired of it.I've heard their avocado toast is also delicious and I'll have to try it next time I'm here. But definitely a great place to come for lunch, a coffee, and do some work or reading. One of my favorite coffee shops in SF!\"),\n",
       " ('4',\n",
       "  \"Compared to the cacophony of the Columbus Avenue location where United Nations delegations pass through at alarming rates, this Réveille has a downright low-key vibe, and this is the Castro for Harvey's sake. It may be because I was here a half-hour before closing when all the overly caffeinated hipsters were already in rehab shelters for the night. I liked the look of the place with the front patio made for serious gawking and the neo-vintage cross-hatch wallpaper and faux-firewood accent wall made for the interior decorator in all of us (photo: bit.ly/1IlDYeL). I've heard tell of the fabulous Avocado Toast ($4.50/$6.50 with fried egg) and Shakshuka, a pricey poached egg with roasted tomato and chickpea ($11).But alas, I never think about having an actual meal at Réveille, but I'll fix that misconception at some point. In the meantime, I decided to saunter in after a hearty bowl of Spicy Oxtail Pho at Mekong Kitchen across the street. There were only two laptoppers in the place, so I had plenty of choice as to where to sit. The $4.50 Mocha calmed my fiery digestive system in no time at all (photo: bit.ly/1OMqyMB). The Newbury brothers, Tommy and Chris, started Réveille in a delivery truck five years ago, and while they're not yet in the same playpen as Philz or Blue Bottle, I like the richness and finishing style they display with their coffee. Besides, they're not nearly as pretentiously elitist as they are at Sightglass. Oh no, he didn't. Oh yeah, I went there.COFFEE - 4 stars...silky goodness in that mochaAMBIANCE - 3.5 stars...the trendiness comes off as trendy but somehow it worksSERVICE - 3.5 stars...nicer than anyone at SightglassTOTAL - 4 stars...give it up for the Traveling Newburys\"),\n",
       " ('5',\n",
       "  \"Avocado, egg, and coffee. Throw in a cute little shop with a cool ambience and friendly workers. What else do you need? When you walk into Reveille (reh-vay) coffee co, it gives you that feeling like you just found a good one. I don't know what it is about avocado toast that makes it so amazing. Yes I could just make it at home, but eating it at a cute shop is always better! There egg in a hole toast sandwich thing (actually just called egg sandwich) was super filling and delicious. It had bacon, braised kale and leek, and gruyere. The bread is toasted to perfection and the top piece of bread has an egg in it. So much simplicity going on, but so good.Only downside would be parking and space to sit. It gets crowded so you may have to stalk people to get a table.\"),\n",
       " ('5',\n",
       "  'Great coffee, excellent and friendly service. \\xa0The food is quite good as well. \\xa0My favorite is the avocado toast with an egg on top.'),\n",
       " ('5',\n",
       "  \"Reveille Coffee Co. carries the best vanilla latte I have ever tasted! My love and infatuation for vanilla lattes have taken me from coffee shop to coffee shop around the Bay Area, but I think I've found a winner! My vanilla latte contained just the right amount of sweetness. In the opinion of a sweet tooth, I would say that this vanilla latte was more on the sweeter side, as some vanilla lattes I have tried can taste quite bitter.Also, I really loved the outdoor decor of this coffee shop, as it felt very welcoming with the surrounding vines, modern wooden tables with stools, and beautiful hanging lights. The inside was very modern and organized as well. You can definitely come here with your laptop and get some work done, as I've seen more than 50% of the crowd here accompanied by their Macbooks - don't ask me about the Wifi though, I haven't tried it haha.If you're ever in the Castro area, you HAVE to come here!\"),\n",
       " ('5',\n",
       "  \"The avocado toast. It's so simple, but so good. It's so simple that it's actually kind of dumb how fantastic it is. It's so simple that I fooled myself into thinking I could recreate it at home. I was wrong. So very, very wrong. Everything I make looks like cat food. Ingredients: Avocado, Salt + Pepper, Olive Oil, Acme LevainIt's $4.50.You can also add a fried egg (I do) for an additional $2This place is within' a downhill walk from my best friend's place.Perfect for those sudzy nights where I need to couch crash. Even better for those hungover mornings where calories and single-stall bathroom with a good flush are necessary.They have great coffee here.So great that even a person like me who appreciates creamer more than coffee can stomach it black. Though their iced tea is pretty on point and far better for the hangover curing process than a mimosa. They have a few tables inside and a really nice, sunny patio.It's super casual.Order at the counter, wait with your number, then get brought back to life with this delicious dish. One day I'll get something else here.Looking at you Shakshuka.But until then, avocado toast dreams all the way.\"),\n",
       " ('4',\n",
       "  \"I had a rough morning at work, and decided to treat myself to lunch at Reveille Coffee. \\xa0I ordered the Chinese chicken salad, which was $12.50. \\xa0It turned out to be a pretty big salad, probably good for two people if they weren't too hungry. \\xa0Even though I was starving, I found myself to be really full after eating 3/4 of it.The rice wine vinegar dressing is what I liked most about this salad. \\xa0Having fresh ingredients helps too.The vibe, at least on a workday afternoon, is pretty chill. \\xa0Everyone kept to themselves on their devices. \\xa0I needed the quiet though.It was too late for me to drink coffee (I'm sensitive to caffeine) so I will have to come back earlier in the day and get a cup.\"),\n",
       " ('5',\n",
       "  \"Hidden gem. Great coffee with even better fresh breakfast snacks. Love the avocado toast with a poached egg and the frittatas are perfect 'on the go' treats. Nice cozy comfy neighborhood spot.\"),\n",
       " ('5',\n",
       "  'Love this place! This swanky coffee shop has good coffee and food and even better vibes. Definitely one of my favorites after a ride at SoulCycle down the block.'),\n",
       " ('4',\n",
       "  'While visiting friends in the Castro my boyfriend and I checked this place out. \\xa0Everything was top notch--the coffee was delicious, my tea was excellent. \\xa0My boyfriend had the avocado toast, and I had a pastry. \\xa0We were very pleased with our order. \\xa0Like any other big city the prices are slightly on the higher end, but we felt it was still worth it.'),\n",
       " ('5',\n",
       "  \"My favorite coffee shop in SF! I love their environment, decor, amazing coffee and delicious food. I'm usually picky about coffee but this place just has the best beans! I got an almond milk latte and couldn't stop drinking it. For brunch, I ordered their breakfast sandwich which is the best breakfast sandwich that I've ever had! Not too oily and extremely flavorful. Their egg is on top of the sandwich! They also have brûlée grapefruit which was super refreshing and topped with candied kumquat (amazing!!). Definitely my go to spot in SF\"),\n",
       " ('4',\n",
       "  'This was a very spacious place to grab a nice cup of coffee and a light breakfast. The avocado toast and egg sandwich were very good.'),\n",
       " ('5',\n",
       "  \"So much yum, very yes! This place is super pretty, the food is great, especially the brûléed grapefruit and the avocado toast. The coffee is really good, and in my opinion, everyone who works here is really attractive. Maybe that's weird of me to say but I don't care, well done Reveille!\"),\n",
       " ('4',\n",
       "  \"Réveille combines my two loves in SF: coffee and The Castro. \\xa0Modern, clean with friendly service and solid coffee. \\xa0I didn't try any of their food goodies, but just a plain old Americano while my Italian friend chose an espresso. \\xa0The name is apropos... waking up on a Saturday certainly doesn't suck with Réveille.\"),\n",
       " ('4',\n",
       "  \"A great coffee shop in the Castro! I came here with my friend on a Saturday morning and we got two cold brews, an avocado toast with a fried egg, and yogurt with granola. The cold brews were great - not too acidic. The avocado toast had good bread and the egg was also cooked nicely. I don't even like eggs normally, but my friend insisted on protein and toast to nurse my hangover. My friend's yogurt was super filling - big bowl with lots of granola and fruit. Also sheep's milk yogurt is used and is very good.Great ambiance - super chill baristas, crowd of people, and fun music. People were here doing work, catching up with friends, or just grabbing coffee on the go. Will be back for sure!\"),\n",
       " ('4',\n",
       "  \"My friend has enjoyed this place so I decided to finally check this place out. Figured I should support some local restaurant especially places with good food and coffee. The first time I went I got the avocado toast with a fried egg on top. Delicious! I know it's something I can make at home myself but it was reasonably priced and something healthy. I also got the black iced tea which was great for the warm days in SF. I've also gotten the prosciutto and poached egg, bruleed grapefruit, and the cheddar biscuit. I'll definitely say I'm in love with a biscuit. \\xa0Delicious food and very enjoyable. \\xa0People are nice and a great area to hang out (inside or out) and grab some great food. Protip: find a place to sit and grab some food.\"),\n",
       " ('4',\n",
       "  'We met a human here! My girlfriends and I needed some caffeine after a long day walking the sinuosity of the SF streets. We checked Yelp and this was the closest coffee shop with character we could get in Castro area. Then...deception...one person per table not even consuming a drink and occupying the space with their tablets. Horrible situation and metaphor of the online connected/out of line disconnection with other people. And then we heard a voice. \"Do you want to sit here, I gave you my table\", murmured a soft spoken Chinese from NY just transplanted to SF. At this point, the rest of the coffee shoppers were like asleep in front of their devices, so un-romantic. Honestly, Reveille..reveille-toi! this should be a place to gather, drink, chit and chat, not an extension of your work stuff. Anyways, coffee was awesome and all nicely designed, plus guess what? We became friend of this gentle guy who invited me to go next week to see the awesome views from his Jackson Towers apartment (check my review and get jealous:).Now that I think twice...this does not even seem a review for Reveille Coffee Co, but it is. I had a good time there, a nice drink, and the beginning of new great experiences. Keep it up and sack those who have roots in those chairs (without consuming).'),\n",
       " ('5',\n",
       "  \"EXCELLENT COFFEE, SUPER FRIENDLY STAFF. I always feel like I'm visiting friends when getting my morning latte. Though pricey and can be a wait for your drink, it's worth it. Also is a relaxing chill environment with a nice outdoor patio area. They have WiFi and water available on the counter without getting in line. Been going for several years daily and have never once had a bad latte!\"),\n",
       " ('5',\n",
       "  'I was walking by this location and the decor drew me in. I received excellent service from the order taking to the quality of the food. I had the egg sandwich and a latte. The freshness and taste were great. I look forward to going again soon.'),\n",
       " ('5',\n",
       "  \"My favorite hang out spot in the Castro! Staff are pretty friendly once you get to talk to them longer. There's usually a line, but I've never had to wait more than 5 minutes for someone to get my order. The atmosphere is pretty relaxed and the drinks are very affordable. I would not want to recommend this place just because I don't want more people to come.\"),\n",
       " ('5',\n",
       "  'Absolutely sublime - homemade (not too sweet compote/jam) slathered on a freshly cooked, buttery biscuit. Shoot me!! Soooooo good.'),\n",
       " ('4',\n",
       "  \"It's so hard to keep up with these new coffee shops that specialize in espresso handcrafted drinks popping up in San Francisco, but I managed to finally come here after noticing the cute atmosphere the exterior provides with the string of lights over the outdoor seating. The interior reminds me of say, if Urban Outfitters had a coffee shop. It looks like it takes place in a garage under a house and has a very clean and cool feel to it. My friend I was with got their regular cup of house coffee while I opted for the mocha. I don't think their mocha is for everyone because it's not really sweet but more rich in chocolate, but it was just fine for me. It seems that this is another popular spot for coffee, as barely any seating was available. They also serve cafe food here such as sandwiches and salads which is a plus. I wish this kind of coffee wasn't expensive, but if I had the right budget I would probably come here often.Next time, I'm going to try the dirty chai!\"),\n",
       " ('4',\n",
       "  'Great coffee (latte), friendly staff and an good atmosphere off Castro Street. Good number of tables insides, particularly if not busy during the week. Service is always fast in the morning if your on the commute.'),\n",
       " ('5',\n",
       "  \"Reveille Coffee is my favorite cafe in San Francisco. The latte is one of the best in the city (definitely on par with a Blue Bottle, Four Barrels, etc.) and it comes without attitude from friendly staff. The atmosphere of the cafe is quaint both indoors and the front patio outdoors. The food is delicious. During the week there's free wifi; however, there are no outlets to plug in.\")]"
      ]
     },
     "execution_count": 120,
     "metadata": {},
     "output_type": "execute_result"
    }
   ],
   "source": [
    "url_template_3 = 'https://www.yelp.com/biz/r%C3%A9veille-coffee-co-san-francisco-6?start={num}'\n",
    "name_3, link_3 = scrape_biz_reviews(url_template_3, 0, 40)\n",
    "list(zip(name_3, link_3))"
   ]
  },
  {
   "cell_type": "markdown",
   "metadata": {},
   "source": [
    "#### Test case for broken link"
   ]
  },
  {
   "cell_type": "code",
   "execution_count": 121,
   "metadata": {
    "collapsed": true
   },
   "outputs": [
    {
     "name": "stdout",
     "output_type": "stream",
     "text": [
      "https://www.yelp.com/seh?find_desc=Cafés+%26+Coffee+Shops&find_loc=San+Francisco,+CA&start=0\n",
      "Could not find review-content\n",
      "0\n",
      "https://www.yelp.com/seh?find_desc=Cafés+%26+Coffee+Shops&find_loc=San+Francisco,+CA&start=20\n",
      "Could not find review-content\n",
      "1\n",
      "https://www.yelp.com/seh?find_desc=Cafés+%26+Coffee+Shops&find_loc=San+Francisco,+CA&start=40\n",
      "Could not find review-content\n",
      "2\n"
     ]
    },
    {
     "data": {
      "text/plain": [
       "[]"
      ]
     },
     "execution_count": 121,
     "metadata": {},
     "output_type": "execute_result"
    }
   ],
   "source": [
    "url_template_broken2 = 'https://www.yelp.com/biz/r%C9veille-coffee-co-san-francisco-6?start={num}'\n",
    "name_b2, link_b2 = scrape_biz_reviews(url_template_broken, 0, 40)\n",
    "list(zip(name_b2, link_b2))"
   ]
  },
  {
   "cell_type": "markdown",
   "metadata": {},
   "source": [
    "## Scrape the page link template for each business\n",
    "### The url for the initial call to the business' yelp profile is not the same as when you go further into their review pages"
   ]
  },
  {
   "cell_type": "markdown",
   "metadata": {},
   "source": [
    "### Start with one business"
   ]
  },
  {
   "cell_type": "code",
   "execution_count": 124,
   "metadata": {
    "collapsed": true
   },
   "outputs": [],
   "source": [
    "url_biz = 'https://www.yelp.com/biz/r%C3%A9veille-coffee-co-san-francisco-6?osq=Caf%C3%A9s+%26+Coffee+Shops'\n",
    "\n",
    "link_biz = requests.get(url_biz)\n",
    "page_biz = link_biz.text\n",
    "soup_biz = BeautifulSoup(page_biz, 'html5lib')"
   ]
  },
  {
   "cell_type": "markdown",
   "metadata": {},
   "source": [
    "#### Get the page link template"
   ]
  },
  {
   "cell_type": "code",
   "execution_count": 127,
   "metadata": {
    "collapsed": false
   },
   "outputs": [],
   "source": [
    "link_class = soup_biz.find('div', {'class': 'arrange_unit page-option'})\n",
    "link_temp = link_class.find('a', href=True)['href']"
   ]
  },
  {
   "cell_type": "markdown",
   "metadata": {},
   "source": [
    "### Incorporate into the review scraping function"
   ]
  },
  {
   "cell_type": "code",
   "execution_count": null,
   "metadata": {
    "collapsed": true
   },
   "outputs": [],
   "source": [
    "def scrape_biz_reviews_complete(biz_url, start, end, delay=5):\n",
    "    biz_rating_list = []\n",
    "    biz_review_list = []\n",
    "    ua = UserAgent()\n",
    "    \n",
    "    count = 0\n",
    "    \n",
    "    biz_url_list = []\n",
    "    \n",
    "    init_link = requests.get(biz_url)\n",
    "    init_page = init_link.text\n",
    "    init_soup = BeautifulSoup(init_page, 'html5lib')\n",
    "    \n",
    "    link_list = init_soup.find_all('div', {'class:' ''})\n",
    "    \n",
    "    for i in range(start, end+1, 20):\n",
    "        url = biz_url\n",
    "        user_agent = {'User-agent': ua.random}\n",
    "        \n",
    "        try:\n",
    "            link = requests.get(url, headers=user_agent)\n",
    "        except:\n",
    "            print(url)\n",
    "            print('URL does not work.')\n",
    "            \n",
    "        page = link.text\n",
    "        soup = BeautifulSoup(page, 'html5lib')\n",
    "        \n",
    "        \n",
    "        \n",
    "        all_items = soup.find_all('div', {'class': 'review-content'})\n",
    "        \n",
    "        if all_items:\n",
    "            for item in all_items:\n",
    "                rating = item.find('div', {'class': 'i-stars'})['title']\n",
    "                rating2 = re.sub('\\D', '', rating)\n",
    "                rating_clean = re.sub('0', '', rating2)\n",
    "\n",
    "                review = item.find('p').getText()\n",
    "                \n",
    "                if not rating_clean:\n",
    "                    print(url)\n",
    "                    print('No rating found')\n",
    "                    rating_clean = '-1'\n",
    "                elif not review:\n",
    "                    print(url)\n",
    "                    print('No review found')\n",
    "                    continue\n",
    "                \n",
    "                biz_rating_list.append(rating_clean)\n",
    "                biz_review_list.append(review)\n",
    "        else:\n",
    "            print(url)\n",
    "            print('Could not find review-content')\n",
    "            \n",
    "        time.sleep(delay + 2*np.random.rand())\n",
    "        \n",
    "        print(count)\n",
    "        count += 1\n",
    "    \n",
    "    return biz_rating_list, biz_review_list"
   ]
  },
  {
   "cell_type": "code",
   "execution_count": null,
   "metadata": {
    "collapsed": true
   },
   "outputs": [],
   "source": []
  },
  {
   "cell_type": "code",
   "execution_count": null,
   "metadata": {
    "collapsed": true
   },
   "outputs": [],
   "source": []
  }
 ],
 "metadata": {
  "anaconda-cloud": {},
  "kernelspec": {
   "display_name": "Python [default]",
   "language": "python",
   "name": "python3"
  },
  "language_info": {
   "codemirror_mode": {
    "name": "ipython",
    "version": 3
   },
   "file_extension": ".py",
   "mimetype": "text/x-python",
   "name": "python",
   "nbconvert_exporter": "python",
   "pygments_lexer": "ipython3",
   "version": "3.5.2"
  }
 },
 "nbformat": 4,
 "nbformat_minor": 1
}
